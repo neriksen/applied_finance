{
 "cells": [
  {
   "cell_type": "code",
   "execution_count": 1,
   "metadata": {},
   "outputs": [],
   "source": [
    "import pandas as pd\n",
    "import matplotlib.pyplot as plt\n",
    "import numpy as np\n",
    "import datetime as dt\n",
    "import simulate\n",
    "import seaborn as sns\n",
    "import calculate_return as cr\n",
    "pd.set_option('display.float_format', lambda x: '%.3f' % x)\n",
    "pd.set_option('display.max_rows', 1000)\n",
    "plt.style.use('seaborn')"
   ]
  },
  {
   "cell_type": "code",
   "execution_count": 3,
   "metadata": {},
   "outputs": [],
   "source": [
    "spx = pd.read_csv('^GSPC.csv', index_col=0,parse_dates=True)"
   ]
  },
  {
   "cell_type": "markdown",
   "metadata": {},
   "source": [
    "### Defining market to simulate"
   ]
  },
  {
   "cell_type": "code",
   "execution_count": 4,
   "metadata": {},
   "outputs": [],
   "source": [
    "start = dt.date(2020, 1, 1)\n",
    "end = dt.date(2060, 1, 1)\n",
    "Market = simulate.Market(spx.iloc[-7500:, -2], start, end)"
   ]
  },
  {
   "cell_type": "markdown",
   "metadata": {},
   "source": [
    "Simulating data"
   ]
  },
  {
   "cell_type": "code",
   "execution_count": null,
   "metadata": {},
   "outputs": [],
   "source": [
    "garch = Market.garch(log=False)\n",
    "tdist = Market.t_innovations(log=False)\n",
    "draw = Market.draw(log = False, with_replacement = True, freq = 'D')\n",
    "norm = Market.norm_innovations(log=False)\n",
    "empirical=spx.iloc[-10437:, -2].pct_change().to_frame()"
   ]
  },
  {
   "cell_type": "markdown",
   "metadata": {},
   "source": [
    "Plotting Returns"
   ]
  },
  {
   "cell_type": "code",
   "execution_count": null,
   "metadata": {},
   "outputs": [],
   "source": [
    "f, ax1= plt.subplots(1, 1, figsize=(15,12))\n",
    "\n",
    "ax1.plot(empirical['Adj Close'], alpha=.8)\n",
    "ax1.set_ylabel('Yearly Returns')\n",
    "ax1.set_ylim((-0.35,0.35))"
   ]
  },
  {
   "cell_type": "code",
   "execution_count": null,
   "metadata": {},
   "outputs": [],
   "source": [
    "f, (ax1,ax2,ax3,ax4,) = plt.subplots(4, 1, figsize=(15,12))\n",
    "\n",
    "ax1.plot(garch[\"Price\"].pct_change(), alpha=.8)\n",
    "ax1.set_ylabel('Yearly Returns')\n",
    "ax1.set_ylim((-0.35,0.35))\n",
    "\n",
    "ax2.plot(tdist['Price'].pct_change(), alpha=.8)\n",
    "ax2.set_ylabel('Yearly Returns')\n",
    "ax2.set_ylim((-0.35,0.35))\n",
    "\n",
    "ax3.plot(norm['Price'].pct_change(), alpha=.8)\n",
    "ax3.set_ylabel('Yearly Returns')\n",
    "ax3.set_ylim((-0.35,0.35))\n",
    "\n",
    "ax4.plot(draw['Price'].pct_change(), alpha=.8)\n",
    "ax4.set_ylabel('Yearly Returns')\n",
    "ax4.set_ylim((-0.35,0.35))"
   ]
  },
  {
   "cell_type": "markdown",
   "metadata": {},
   "source": [
    "Plotting Histograms of returns"
   ]
  },
  {
   "cell_type": "code",
   "execution_count": null,
   "metadata": {},
   "outputs": [],
   "source": [
    "fig, ax = plt.subplots(1, 1, figsize=(10, 10))\n",
    "\n",
    "#sns.kdeplot(data=garch['Price'].pct_change(),clip=(-0.1, 0.1),Label='GJR-GARCH(1,1)')\n",
    "#sns.kdeplot(data=spx.iloc[-10437:, -2].pct_change(),clip=(-0.1, 0.1),Label='Empirical density')\n",
    "\n",
    "#sns.kdeplot(data=tdist['Price'].pct_change(),clip=(-0.1, 0.1),Label='Skewed Students t-distribution')\n",
    "#sns.kdeplot(data=spx.iloc[-10437:, -2].pct_change(),clip=(-0.1, 0.1),Label='Empirical density')\n",
    "\n",
    "#sns.kdeplot(data=norm['Price'].pct_change(),clip=(-0.1, 0.1),Label='Normal distribution')\n",
    "#sns.kdeplot(data=spx.iloc[-10437:, -2].pct_change(),clip=(-0.1, 0.1),Label='Empirical density')\n",
    "\n",
    "sns.kdeplot(data=draw['Price'].pct_change(),clip=(-0.1, 0.1),Label='Draw with Replacement')\n",
    "sns.kdeplot(data=spx.iloc[-10437:, -2].pct_change(),clip=(-0.1, 0.1),Label='Empirical density')\n",
    "\n",
    "plt.xlabel('Returns') \n",
    "plt.ylabel('Probability Density') \n"
   ]
  },
  {
   "cell_type": "code",
   "execution_count": null,
   "metadata": {},
   "outputs": [],
   "source": [
    "garch = Market.garch(log=False)\n",
    "naive = Market.t_innovations(log=False)\n",
    "draw = Market.draw(log = False, with_replacement = True, freq = 'D')\n",
    "norm = Market.norm_innovations(log=False)\n",
    "\n",
    "f, (ax1, ax2 , ax3) = plt.subplots(3, 1, figsize=(15,12))\n",
    "ax1.plot(garch[\"Price\"], alpha=.8)\n",
    "ax1.plot(naive['Price'], alpha=.8)\n",
    "ax1.plot(draw['Price'], alpha=.8)\n",
    "ax1.plot(norm['Price'], alpha=.8)\n",
    "ax1.set_title('Market')\n",
    "ax1.legend(['garch', 'naive_t', 'draw with replace', 'naive_norm'])\n",
    "ax1.set_yscale('log')\n",
    "\n",
    "ax2.plot(garch[\"data\"], alpha=.5)\n",
    "ax2.plot(naive['Price'].pct_change()*100+20, alpha=.5)\n",
    "ax2.plot(draw['Price'].pct_change()*100+40, alpha=.5)\n",
    "ax2.plot(norm['Price'].pct_change()*100+60, alpha=.5)\n",
    "ax2.set_ylim(-20, 80)\n",
    "ax2.set_title('returns')\n",
    "#ax2.set_yscale('LOG')\n",
    "\n",
    "ax3.plot(garch[\"volatility\"])\n",
    "ax3.set_title('Volatility')\n",
    "#ax3.set_yscale('LOG')"
   ]
  }
 ],
 "metadata": {
  "kernelspec": {
   "display_name": "Python 3",
   "language": "python",
   "name": "python3"
  },
  "language_info": {
   "codemirror_mode": {
    "name": "ipython",
    "version": 3
   },
   "file_extension": ".py",
   "mimetype": "text/x-python",
   "name": "python",
   "nbconvert_exporter": "python",
   "pygments_lexer": "ipython3",
   "version": "3.7.0"
  }
 },
 "nbformat": 4,
 "nbformat_minor": 4
}