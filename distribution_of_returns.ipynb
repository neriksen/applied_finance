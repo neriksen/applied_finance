{
 "cells": [
  {
   "cell_type": "code",
   "execution_count": 1,
   "metadata": {},
   "outputs": [
    {
     "data": {
      "application/vnd.jupyter.widget-view+json": {
       "model_id": "704b2a47eab34820aa1d281611de02a9",
       "version_major": 2,
       "version_minor": 0
      },
      "text/plain": [
       "interactive(children=(Dropdown(description='sim_type', options=('garch', 't', 'norm', 'draw'), value='garch'),…"
      ]
     },
     "metadata": {},
     "output_type": "display_data"
    },
    {
     "data": {
      "text/plain": [
       "<function __main__.plot_sims(y, sim_type, random_seeds, BEGINNING_SAVINGS=9041, YEARLY_INFL_ADJUSTMENT=0.0, PAY_TAXES=True, YEARS=60, GAMMA=2.5, YEARLY_RF=0.02, YEARLY_MR=0.04, COST=0.002, DEBT_PCT_OFFSET=0.0, SIGMA=0.02837, MR=0.076)>"
      ]
     },
     "execution_count": 1,
     "metadata": {},
     "output_type": "execute_result"
    }
   ],
   "source": [
    "from ipywidgets import interact\n",
    "from ipywidgets import fixed\n",
    "import matplotlib.pyplot as plt\n",
    "import seaborn as sns\n",
    "import calculate_return\n",
    "\n",
    "\n",
    "def plot_sims(y, sim_type, random_seeds, BEGINNING_SAVINGS = 9041,\n",
    "                   YEARLY_INFL_ADJUSTMENT = 0.0, PAY_TAXES = True, YEARS = 60, GAMMA = 2.5,\n",
    "                   YEARLY_RF = 0.02, YEARLY_MR = 0.04, COST = 0.002, DEBT_PCT_OFFSET = 0.0,\n",
    "                   SIGMA = 0.02837, MR = 0.076):\n",
    "    \n",
    "    ports = calculate_return.fetch_returns(sim_type, random_seeds, BEGINNING_SAVINGS,\n",
    "                   YEARLY_INFL_ADJUSTMENT, PAY_TAXES, YEARS, GAMMA,\n",
    "                   YEARLY_RF, YEARLY_MR, COST, DEBT_PCT_OFFSET,\n",
    "                   SIGMA, MR)\n",
    "    \n",
    "    ports = ports.groupby(level=1).mean()\n",
    "    ports['tv_u'] = ports['tv_u'] - ports['total_debt']\n",
    "    fig, ax= plt.subplots(1, 1, figsize=(12,9))\n",
    "    ax.plot(ports.loc[:,[*y]])\n",
    "    ax.legend([*y])\n",
    "    plt.show()\n",
    "\n",
    "interactive_plot = interact(plot_sims, y=fixed(['tv_u', '100', '9050']), sim_type = ['garch', 't', 'norm', 'draw'],\n",
    "                                                               random_seeds = fixed(range(500)), \n",
    "                           BEGINNING_SAVINGS = range(6000, 20000, 1000),\n",
    "                   YEARLY_INFL_ADJUSTMENT = (0, 0.05, 0.01), PAY_TAXES = True, YEARS = (20, 50, 10), GAMMA = fixed(2.0),\n",
    "                   YEARLY_RF = fixed(0.02), YEARLY_MR = (0.023, 0.063, 0.01), COST=(0, 0.01, 0.001),\n",
    "                   DEBT_PCT_OFFSET = (0, 0.05, 0.01), SIGMA = fixed(0.02837), MR = fixed(0.076))\n",
    "interactive_plot"
   ]
  },
  {
   "cell_type": "code",
   "execution_count": 15,
   "metadata": {
    "collapsed": true,
    "jupyter": {
     "outputs_hidden": true
    },
    "tags": []
   },
   "outputs": [
    {
     "data": {
      "application/vnd.jupyter.widget-view+json": {
       "model_id": "5e7ab7c9d94745bcb627abb1b1676151",
       "version_major": 2,
       "version_minor": 0
      },
      "text/plain": [
       "interactive(children=(Dropdown(description='sim_type', options=('garch', 't', 'norm', 'draw'), value='garch'),…"
      ]
     },
     "metadata": {},
     "output_type": "display_data"
    },
    {
     "data": {
      "text/plain": [
       "<function __main__.plot_dist(y, sim_type, random_seeds, BEGINNING_SAVINGS=9041, YEARLY_INFL_ADJUSTMENT=0.0, PAY_TAXES=True, YEARS=60, GAMMA=2.5, YEARLY_RF=0.02, YEARLY_MR=0.04, COST=0.002, SIGMA=0.02837, MR=0.076)>"
      ]
     },
     "execution_count": 15,
     "metadata": {},
     "output_type": "execute_result"
    }
   ],
   "source": [
    "def plot_dist(y, sim_type, random_seeds, BEGINNING_SAVINGS = 9041,\n",
    "                   YEARLY_INFL_ADJUSTMENT = 0.0, PAY_TAXES = True, YEARS = 60, GAMMA = 2.5,\n",
    "                   YEARLY_RF = 0.02, YEARLY_MR = 0.04, COST = 0.002,\n",
    "                   SIGMA = 0.02837, MR = 0.076):\n",
    "    \n",
    "    ports = calculate_return.fetch_returns(sim_type, random_seeds, BEGINNING_SAVINGS,\n",
    "                   YEARLY_INFL_ADJUSTMENT, PAY_TAXES, YEARS, GAMMA,\n",
    "                   YEARLY_RF, YEARLY_MR, COST,\n",
    "                   SIGMA, MR)\n",
    "    \n",
    "    data = ports.loc[[slice(None), YEARS*12], :].melt(value_vars=['tv_u', '100', '9050'], \n",
    "                       value_name='end_wealth', \n",
    "                       var_name = 'strategy')\n",
    "\n",
    "    fig, ax = plt.subplots(figsize=(15, 10))\n",
    "    sns.kdeplot(data = data, x='end_wealth', \n",
    "                hue='strategy',\n",
    "                cumulative=True,\n",
    "               linewidth = 3)\n",
    "    plt.show()\n",
    "\n",
    "interactive_plot = interact(plot_dist, y=fixed(['tv_u', '100', '9050']), sim_type = ['garch', 't', 'norm', 'draw'],\n",
    "                                                               random_seeds = fixed(range(400)), \n",
    "                           BEGINNING_SAVINGS = range(6000, 20000, 1000),\n",
    "                   YEARLY_INFL_ADJUSTMENT = (0, 0.05, 0.01), PAY_TAXES = True, YEARS = (20, 60, 10), GAMMA = (1, 2.5, 0.1),\n",
    "                   YEARLY_RF = (0, 0.04, 0.005), YEARLY_MR = (0.03, 0.08, 0.005), COST=(0, 0.01, 0.001),\n",
    "                   SIGMA = fixed(0.02837), MR = fixed(0.076))\n",
    "interactive_plot"
   ]
  },
  {
   "cell_type": "code",
   "execution_count": 15,
   "metadata": {},
   "outputs": [],
   "source": [
    " ports = calculate_return.fetch_returns('norm', range(10), BEGINNING_SAVINGS = 9041,\n",
    "                   YEARLY_INFL_ADJUSTMENT = 0.0, PAY_TAXES = True, YEARS = 60, GAMMA = 2.5,\n",
    "                   YEARLY_RF = 0.02, YEARLY_MR = 0.04, COST = 0.002,\n",
    "                   SIGMA = 0.02837, MR = 0.076)"
   ]
  },
  {
   "cell_type": "code",
   "execution_count": 27,
   "metadata": {
    "tags": []
   },
   "outputs": [
    {
     "name": "stdout",
     "output_type": "stream",
     "text": [
      "pi_rf:   98.70%\n",
      "pi_rm:   58.16%\n",
      "warning: catastrophic wipeout\n",
      "warning: catastrophic wipeout\n",
      "warning: catastrophic wipeout\n",
      "warning: catastrophic wipeout\n"
     ]
    },
    {
     "name": "stderr",
     "output_type": "stream",
     "text": [
      "/Users/nielseriksen/applied_finance/calculate_return.py:244: RuntimeWarning: invalid value encountered in double_scalars\n",
      "  pp[i, pi_hat] = min(pp[i, pv_u] / ses_val, pp[i, pv_u] / pp[i, tv_u])\n",
      "/Users/nielseriksen/applied_finance/calculate_return.py:260: RuntimeWarning: invalid value encountered in true_divide\n",
      "  pp[:, g_hat] = pp[:, total_debt] / pp[:, equity]\n"
     ]
    },
    {
     "name": "stdout",
     "output_type": "stream",
     "text": [
      "warning: catastrophic wipeout\n",
      "warning: catastrophic wipeout\n"
     ]
    },
    {
     "name": "stderr",
     "output_type": "stream",
     "text": [
      "/Users/nielseriksen/applied_finance/calculate_return.py:244: RuntimeWarning: invalid value encountered in double_scalars\n",
      "  pp[i, pi_hat] = min(pp[i, pv_u] / ses_val, pp[i, pv_u] / pp[i, tv_u])\n",
      "/Users/nielseriksen/applied_finance/calculate_return.py:260: RuntimeWarning: invalid value encountered in true_divide\n",
      "  pp[:, g_hat] = pp[:, total_debt] / pp[:, equity]\n"
     ]
    },
    {
     "name": "stdout",
     "output_type": "stream",
     "text": [
      "warning: catastrophic wipeout\n",
      "warning: catastrophic wipeout\n"
     ]
    }
   ],
   "source": [
    "ports = calculate_return.fetch_returns('garch', range(5000), YEARLY_MR=0.023+0.02, DEBT_PCT_OFFSET=0.02)"
   ]
  },
  {
   "cell_type": "code",
   "execution_count": 28,
   "metadata": {},
   "outputs": [],
   "source": [
    "check_wipeout = lambda x: 1 if (x['tv_u'] == 0 and x['savings'] == 0 and x['pi_hat'] == 0) else 0\n",
    "ports['wipeout'] = ports.loc[(slice(None), 600), :].apply(check_wipeout, axis=1)\n",
    "ports['wipeout'].fillna(method='bfill', inplace=True)"
   ]
  },
  {
   "cell_type": "code",
   "execution_count": 29,
   "metadata": {},
   "outputs": [],
   "source": [
    "ports['dual_return'] = ports['dual_phase'].pct_change()\n",
    "ports['single_return'] = ports['single_phase'].pct_change()\n",
    "ports['100_return'] = ports['100'].pct_change()\n",
    "ports['9050_return'] = ports['9050'].pct_change()"
   ]
  },
  {
   "cell_type": "code",
   "execution_count": 30,
   "metadata": {},
   "outputs": [],
   "source": [
    "ports_no_wipeout = ports[ports['wipeout'] == 0]\n",
    "cols = ['dual_return', 'single_return', '100_return', '9050_return']\n",
    "sharpe_no_wipeout = (ports_no_wipeout.groupby('random_state', dropna=True).mean().loc[:, cols]/ports_no_wipeout.groupby('random_state', dropna=True).std().loc[:, cols]).melt()\n",
    "sharpe = (ports.groupby('random_state', dropna=True).mean().loc[:, cols]/ports.groupby('random_state', dropna=True).std().loc[:, cols]).melt()"
   ]
  },
  {
   "cell_type": "code",
   "execution_count": 31,
   "metadata": {},
   "outputs": [
    {
     "data": {
      "text/html": [
       "<div>\n",
       "<style scoped>\n",
       "    .dataframe tbody tr th:only-of-type {\n",
       "        vertical-align: middle;\n",
       "    }\n",
       "\n",
       "    .dataframe tbody tr th {\n",
       "        vertical-align: top;\n",
       "    }\n",
       "\n",
       "    .dataframe thead th {\n",
       "        text-align: right;\n",
       "    }\n",
       "</style>\n",
       "<table border=\"1\" class=\"dataframe\">\n",
       "  <thead>\n",
       "    <tr style=\"text-align: right;\">\n",
       "      <th></th>\n",
       "      <th>dual_return</th>\n",
       "      <th>single_return</th>\n",
       "      <th>100_return</th>\n",
       "      <th>9050_return</th>\n",
       "    </tr>\n",
       "  </thead>\n",
       "  <tbody>\n",
       "    <tr>\n",
       "      <th>count</th>\n",
       "      <td>4998.000000</td>\n",
       "      <td>5000.000000</td>\n",
       "      <td>4951.000000</td>\n",
       "      <td>5000.000000</td>\n",
       "    </tr>\n",
       "    <tr>\n",
       "      <th>mean</th>\n",
       "      <td>0.108555</td>\n",
       "      <td>0.107795</td>\n",
       "      <td>0.165212</td>\n",
       "      <td>0.171880</td>\n",
       "    </tr>\n",
       "    <tr>\n",
       "      <th>std</th>\n",
       "      <td>0.067508</td>\n",
       "      <td>0.067345</td>\n",
       "      <td>0.021479</td>\n",
       "      <td>0.015454</td>\n",
       "    </tr>\n",
       "    <tr>\n",
       "      <th>min</th>\n",
       "      <td>-0.091972</td>\n",
       "      <td>-0.093208</td>\n",
       "      <td>0.040812</td>\n",
       "      <td>0.058483</td>\n",
       "    </tr>\n",
       "    <tr>\n",
       "      <th>25%</th>\n",
       "      <td>0.054579</td>\n",
       "      <td>0.053068</td>\n",
       "      <td>0.154124</td>\n",
       "      <td>0.161690</td>\n",
       "    </tr>\n",
       "    <tr>\n",
       "      <th>50%</th>\n",
       "      <td>0.140792</td>\n",
       "      <td>0.142791</td>\n",
       "      <td>0.167221</td>\n",
       "      <td>0.172127</td>\n",
       "    </tr>\n",
       "    <tr>\n",
       "      <th>75%</th>\n",
       "      <td>0.160730</td>\n",
       "      <td>0.160115</td>\n",
       "      <td>0.178934</td>\n",
       "      <td>0.182066</td>\n",
       "    </tr>\n",
       "    <tr>\n",
       "      <th>max</th>\n",
       "      <td>0.211734</td>\n",
       "      <td>0.199225</td>\n",
       "      <td>0.230352</td>\n",
       "      <td>0.230539</td>\n",
       "    </tr>\n",
       "  </tbody>\n",
       "</table>\n",
       "</div>"
      ],
      "text/plain": [
       "       dual_return  single_return   100_return  9050_return\n",
       "count  4998.000000    5000.000000  4951.000000  5000.000000\n",
       "mean      0.108555       0.107795     0.165212     0.171880\n",
       "std       0.067508       0.067345     0.021479     0.015454\n",
       "min      -0.091972      -0.093208     0.040812     0.058483\n",
       "25%       0.054579       0.053068     0.154124     0.161690\n",
       "50%       0.140792       0.142791     0.167221     0.172127\n",
       "75%       0.160730       0.160115     0.178934     0.182066\n",
       "max       0.211734       0.199225     0.230352     0.230539"
      ]
     },
     "execution_count": 31,
     "metadata": {},
     "output_type": "execute_result"
    }
   ],
   "source": [
    "(ports.groupby('random_state', dropna=True).mean().loc[:, cols]/ports.groupby('random_state', dropna=True).std().loc[:, cols]).describe()"
   ]
  },
  {
   "cell_type": "code",
   "execution_count": 32,
   "metadata": {},
   "outputs": [
    {
     "data": {
      "text/plain": [
       "<AxesSubplot:xlabel='value', ylabel='Density'>"
      ]
     },
     "execution_count": 32,
     "metadata": {},
     "output_type": "execute_result"
    },
    {
     "data": {
      "image/png": "[encoded data removed]",
      "text/plain": [
       "<Figure size 720x720 with 1 Axes>"
      ]
     },
     "metadata": {
      "needs_background": "light"
     },
     "output_type": "display_data"
    }
   ],
   "source": [
    "fig, ax = plt.subplots(1, 1, figsize=(10, 10))\n",
    "sns.kdeplot(data = sharpe, x='value', hue='variable')"
   ]
  },
  {
   "cell_type": "code",
   "execution_count": 33,
   "metadata": {},
   "outputs": [
    {
     "data": {
      "text/plain": [
       "<AxesSubplot:xlabel='value', ylabel='Density'>"
      ]
     },
     "execution_count": 33,
     "metadata": {},
     "output_type": "execute_result"
    },
    {
     "data": {
      "image/png": "[encoded data removed]",
      "text/plain": [
       "<Figure size 720x720 with 1 Axes>"
      ]
     },
     "metadata": {
      "needs_background": "light"
     },
     "output_type": "display_data"
    }
   ],
   "source": [
    "fig, ax = plt.subplots(1, 1, figsize=(10, 10))\n",
    "sns.kdeplot(data = sharpe_no_wipeout, x='value', hue='variable')"
   ]
  },
  {
   "cell_type": "code",
   "execution_count": 34,
   "metadata": {},
   "outputs": [
    {
     "data": {
      "text/html": [
       "<div>\n",
       "<style scoped>\n",
       "    .dataframe tbody tr th:only-of-type {\n",
       "        vertical-align: middle;\n",
       "    }\n",
       "\n",
       "    .dataframe tbody tr th {\n",
       "        vertical-align: top;\n",
       "    }\n",
       "\n",
       "    .dataframe thead th {\n",
       "        text-align: right;\n",
       "    }\n",
       "</style>\n",
       "<table border=\"1\" class=\"dataframe\">\n",
       "  <thead>\n",
       "    <tr style=\"text-align: right;\">\n",
       "      <th></th>\n",
       "      <th>dual_return</th>\n",
       "      <th>single_return</th>\n",
       "      <th>100_return</th>\n",
       "      <th>9050_return</th>\n",
       "    </tr>\n",
       "  </thead>\n",
       "  <tbody>\n",
       "    <tr>\n",
       "      <th>count</th>\n",
       "      <td>4998.000000</td>\n",
       "      <td>5000.000000</td>\n",
       "      <td>4951.000000</td>\n",
       "      <td>5000.000000</td>\n",
       "    </tr>\n",
       "    <tr>\n",
       "      <th>mean</th>\n",
       "      <td>0.108555</td>\n",
       "      <td>0.107795</td>\n",
       "      <td>0.165212</td>\n",
       "      <td>0.171880</td>\n",
       "    </tr>\n",
       "    <tr>\n",
       "      <th>std</th>\n",
       "      <td>0.067508</td>\n",
       "      <td>0.067345</td>\n",
       "      <td>0.021479</td>\n",
       "      <td>0.015454</td>\n",
       "    </tr>\n",
       "    <tr>\n",
       "      <th>min</th>\n",
       "      <td>-0.091972</td>\n",
       "      <td>-0.093208</td>\n",
       "      <td>0.040812</td>\n",
       "      <td>0.058483</td>\n",
       "    </tr>\n",
       "    <tr>\n",
       "      <th>25%</th>\n",
       "      <td>0.054579</td>\n",
       "      <td>0.053068</td>\n",
       "      <td>0.154124</td>\n",
       "      <td>0.161690</td>\n",
       "    </tr>\n",
       "    <tr>\n",
       "      <th>50%</th>\n",
       "      <td>0.140792</td>\n",
       "      <td>0.142791</td>\n",
       "      <td>0.167221</td>\n",
       "      <td>0.172127</td>\n",
       "    </tr>\n",
       "    <tr>\n",
       "      <th>75%</th>\n",
       "      <td>0.160730</td>\n",
       "      <td>0.160115</td>\n",
       "      <td>0.178934</td>\n",
       "      <td>0.182066</td>\n",
       "    </tr>\n",
       "    <tr>\n",
       "      <th>max</th>\n",
       "      <td>0.211734</td>\n",
       "      <td>0.199225</td>\n",
       "      <td>0.230352</td>\n",
       "      <td>0.230539</td>\n",
       "    </tr>\n",
       "  </tbody>\n",
       "</table>\n",
       "</div>"
      ],
      "text/plain": [
       "       dual_return  single_return   100_return  9050_return\n",
       "count  4998.000000    5000.000000  4951.000000  5000.000000\n",
       "mean      0.108555       0.107795     0.165212     0.171880\n",
       "std       0.067508       0.067345     0.021479     0.015454\n",
       "min      -0.091972      -0.093208     0.040812     0.058483\n",
       "25%       0.054579       0.053068     0.154124     0.161690\n",
       "50%       0.140792       0.142791     0.167221     0.172127\n",
       "75%       0.160730       0.160115     0.178934     0.182066\n",
       "max       0.211734       0.199225     0.230352     0.230539"
      ]
     },
     "execution_count": 34,
     "metadata": {},
     "output_type": "execute_result"
    }
   ],
   "source": [
    "(ports.groupby('random_state', dropna=True).mean().loc[:, cols]/ports.groupby('random_state', dropna=True).std().loc[:, cols]).describe()"
   ]
  },
  {
   "cell_type": "code",
   "execution_count": 35,
   "metadata": {},
   "outputs": [
    {
     "data": {
      "text/html": [
       "<div>\n",
       "<style scoped>\n",
       "    .dataframe tbody tr th:only-of-type {\n",
       "        vertical-align: middle;\n",
       "    }\n",
       "\n",
       "    .dataframe tbody tr th {\n",
       "        vertical-align: top;\n",
       "    }\n",
       "\n",
       "    .dataframe thead th {\n",
       "        text-align: right;\n",
       "    }\n",
       "</style>\n",
       "<table border=\"1\" class=\"dataframe\">\n",
       "  <thead>\n",
       "    <tr style=\"text-align: right;\">\n",
       "      <th></th>\n",
       "      <th>dual_return</th>\n",
       "      <th>single_return</th>\n",
       "      <th>100_return</th>\n",
       "      <th>9050_return</th>\n",
       "    </tr>\n",
       "  </thead>\n",
       "  <tbody>\n",
       "    <tr>\n",
       "      <th>count</th>\n",
       "      <td>4994.000000</td>\n",
       "      <td>4996.000000</td>\n",
       "      <td>4948.000000</td>\n",
       "      <td>4996.000000</td>\n",
       "    </tr>\n",
       "    <tr>\n",
       "      <th>mean</th>\n",
       "      <td>0.108592</td>\n",
       "      <td>0.107832</td>\n",
       "      <td>0.165229</td>\n",
       "      <td>0.171894</td>\n",
       "    </tr>\n",
       "    <tr>\n",
       "      <th>std</th>\n",
       "      <td>0.067511</td>\n",
       "      <td>0.067349</td>\n",
       "      <td>0.021474</td>\n",
       "      <td>0.015449</td>\n",
       "    </tr>\n",
       "    <tr>\n",
       "      <th>min</th>\n",
       "      <td>-0.091972</td>\n",
       "      <td>-0.093208</td>\n",
       "      <td>0.040812</td>\n",
       "      <td>0.058483</td>\n",
       "    </tr>\n",
       "    <tr>\n",
       "      <th>25%</th>\n",
       "      <td>0.054579</td>\n",
       "      <td>0.053068</td>\n",
       "      <td>0.154161</td>\n",
       "      <td>0.161710</td>\n",
       "    </tr>\n",
       "    <tr>\n",
       "      <th>50%</th>\n",
       "      <td>0.140854</td>\n",
       "      <td>0.142800</td>\n",
       "      <td>0.167230</td>\n",
       "      <td>0.172135</td>\n",
       "    </tr>\n",
       "    <tr>\n",
       "      <th>75%</th>\n",
       "      <td>0.160748</td>\n",
       "      <td>0.160117</td>\n",
       "      <td>0.178945</td>\n",
       "      <td>0.182071</td>\n",
       "    </tr>\n",
       "    <tr>\n",
       "      <th>max</th>\n",
       "      <td>0.211734</td>\n",
       "      <td>0.199225</td>\n",
       "      <td>0.230352</td>\n",
       "      <td>0.230539</td>\n",
       "    </tr>\n",
       "  </tbody>\n",
       "</table>\n",
       "</div>"
      ],
      "text/plain": [
       "       dual_return  single_return   100_return  9050_return\n",
       "count  4994.000000    4996.000000  4948.000000  4996.000000\n",
       "mean      0.108592       0.107832     0.165229     0.171894\n",
       "std       0.067511       0.067349     0.021474     0.015449\n",
       "min      -0.091972      -0.093208     0.040812     0.058483\n",
       "25%       0.054579       0.053068     0.154161     0.161710\n",
       "50%       0.140854       0.142800     0.167230     0.172135\n",
       "75%       0.160748       0.160117     0.178945     0.182071\n",
       "max       0.211734       0.199225     0.230352     0.230539"
      ]
     },
     "execution_count": 35,
     "metadata": {},
     "output_type": "execute_result"
    }
   ],
   "source": [
    "(ports_no_wipeout.groupby('random_state', dropna=True).mean().loc[:, cols]/ports_no_wipeout.groupby('random_state', dropna=True).std().loc[:, cols]).describe()"
   ]
  },
  {
   "cell_type": "code",
   "execution_count": 1,
   "metadata": {},
   "outputs": [
    {
     "name": "stdout",
     "output_type": "stream",
     "text": [
      "pi_rf:   98.70%\n",
      "pi_rm:   93.41%\n",
      "warning: catastrophic wipeout\n",
      "warning: catastrophic wipeout\n",
      "        savings    cash  new_equity  new_debt  total_debt           nip  \\\n",
      "period                                                                    \n",
      "0           450       0         450       450         450    900.000000   \n",
      "1           456       0         456       456         906    913.362894   \n",
      "2           463       0         463       392        1299    855.698071   \n",
      "3           469       0         469       544        1843   1013.967705   \n",
      "4           476       0         476       180        2023    656.767960   \n",
      "...         ...     ...         ...       ...         ...           ...   \n",
      "596         851  457475      -12054         0           0 -12054.963345   \n",
      "597         849  469226      -10901         0           0 -10901.019807   \n",
      "598         848  456788       13286         0           0  13286.604912   \n",
      "599         847  467288       -9653         0           0  -9653.277420   \n",
      "600         845  459501        8633         0           0   8633.285886   \n",
      "\n",
      "           pv_p  interest  market_returns          pv_u  ...  phase    pi_hat  \\\n",
      "period                                                   ...                    \n",
      "0           900         0        0.000000  9.000000e+02  ...      1  0.001428   \n",
      "1          1813         1       -0.038291  1.742402e+03  ...      1  0.002765   \n",
      "2          2598         2        0.029604  2.672181e+03  ...      1  0.004240   \n",
      "3          3686         4       -0.079115  3.389867e+03  ...      1  0.005379   \n",
      "4          4046         5        0.006558  4.067921e+03  ...      1  0.006455   \n",
      "...         ...       ...             ...           ...  ...    ...       ...   \n",
      "596     9015942         0        0.026895  9.258430e+06  ...      4  0.952915   \n",
      "597     9247529         0       -0.027944  8.989112e+06  ...      4  0.950390   \n",
      "598     9002398         0        0.024060  9.218995e+06  ...      4  0.952791   \n",
      "599     9209341         0       -0.017603  9.047233e+06  ...      4  0.950887   \n",
      "600     9055866         0        0.042246  8.920380e+06  ...      4  0.951012   \n",
      "\n",
      "           g_hat      SU_debt  Nordnet_debt    dual_phase  single_phase  \\\n",
      "period                                                                    \n",
      "0       1.000000   450.000000           0.0  4.500000e+02  4.500000e+02   \n",
      "1       1.084909   456.681447           0.0  8.357209e+02  8.357209e+02   \n",
      "2       0.946050   849.050184           0.0  1.373130e+03  1.373130e+03   \n",
      "3       1.191546  1393.074164           0.0  1.546793e+03  1.546793e+03   \n",
      "4       0.989589  1573.317431           0.0  2.044603e+03  2.044603e+03   \n",
      "...          ...          ...           ...           ...           ...   \n",
      "596     0.000000     0.000000           0.0  9.715906e+06  9.187482e+06   \n",
      "597     0.000000     0.000000           0.0  9.458339e+06  8.957544e+06   \n",
      "598     0.000000     0.000000           0.0  9.675784e+06  9.152126e+06   \n",
      "599     0.000000     0.000000           0.0  9.514522e+06  9.008156e+06   \n",
      "600     0.000000     0.000000           0.0  9.379881e+06  8.902293e+06   \n",
      "\n",
      "            100     9050  random_state  \n",
      "period                                  \n",
      "0           450      450             0  \n",
      "1           871      875             0  \n",
      "2          1374     1374             0  \n",
      "3          1698     1713             0  \n",
      "4          2189     2202             0  \n",
      "...         ...      ...           ...  \n",
      "596     6726688  5554993            99  \n",
      "597     6539540  5408570            99  \n",
      "598     6697749  5533176            99  \n",
      "599     6580684  5441762            99  \n",
      "600     6473195  5359973            99  \n",
      "\n",
      "[60100 rows x 23 columns]\n"
     ]
    }
   ],
   "source": [
    "from ipywidgets import interact\n",
    "from ipywidgets import fixed\n",
    "import matplotlib.pyplot as plt\n",
    "import seaborn as sns\n",
    "import calculate_return\n",
    "import pandas as pd\n",
    "ports = calculate_return.fetch_returns('garch', range(100), PAY_TAXES=True, SEED_INDEX=False)"
   ]
  },
  {
   "cell_type": "code",
   "execution_count": 2,
   "metadata": {},
   "outputs": [
    {
     "data": {
      "text/html": [
       "<div>\n",
       "<style scoped>\n",
       "    .dataframe tbody tr th:only-of-type {\n",
       "        vertical-align: middle;\n",
       "    }\n",
       "\n",
       "    .dataframe tbody tr th {\n",
       "        vertical-align: top;\n",
       "    }\n",
       "\n",
       "    .dataframe thead th {\n",
       "        text-align: right;\n",
       "    }\n",
       "</style>\n",
       "<table border=\"1\" class=\"dataframe\">\n",
       "  <thead>\n",
       "    <tr style=\"text-align: right;\">\n",
       "      <th></th>\n",
       "      <th>savings</th>\n",
       "      <th>cash</th>\n",
       "      <th>new_equity</th>\n",
       "      <th>new_debt</th>\n",
       "      <th>total_debt</th>\n",
       "      <th>nip</th>\n",
       "      <th>pv_p</th>\n",
       "      <th>interest</th>\n",
       "      <th>market_returns</th>\n",
       "      <th>pv_u</th>\n",
       "      <th>...</th>\n",
       "      <th>phase</th>\n",
       "      <th>pi_hat</th>\n",
       "      <th>g_hat</th>\n",
       "      <th>SU_debt</th>\n",
       "      <th>Nordnet_debt</th>\n",
       "      <th>dual_phase</th>\n",
       "      <th>single_phase</th>\n",
       "      <th>100</th>\n",
       "      <th>9050</th>\n",
       "      <th>random_state</th>\n",
       "    </tr>\n",
       "  </thead>\n",
       "  <tbody>\n",
       "    <tr>\n",
       "      <th>2020-01-01</th>\n",
       "      <td>450</td>\n",
       "      <td>0</td>\n",
       "      <td>450</td>\n",
       "      <td>450</td>\n",
       "      <td>450</td>\n",
       "      <td>900.000000</td>\n",
       "      <td>900</td>\n",
       "      <td>0</td>\n",
       "      <td>0.000000</td>\n",
       "      <td>9.000000e+02</td>\n",
       "      <td>...</td>\n",
       "      <td>1</td>\n",
       "      <td>0.001428</td>\n",
       "      <td>1.000000</td>\n",
       "      <td>450.000000</td>\n",
       "      <td>0.0</td>\n",
       "      <td>4.500000e+02</td>\n",
       "      <td>4.500000e+02</td>\n",
       "      <td>450</td>\n",
       "      <td>450</td>\n",
       "      <td>0</td>\n",
       "    </tr>\n",
       "    <tr>\n",
       "      <th>2020-02-01</th>\n",
       "      <td>456</td>\n",
       "      <td>0</td>\n",
       "      <td>456</td>\n",
       "      <td>456</td>\n",
       "      <td>906</td>\n",
       "      <td>913.362894</td>\n",
       "      <td>1813</td>\n",
       "      <td>1</td>\n",
       "      <td>-0.038291</td>\n",
       "      <td>1.742402e+03</td>\n",
       "      <td>...</td>\n",
       "      <td>1</td>\n",
       "      <td>0.002765</td>\n",
       "      <td>1.084909</td>\n",
       "      <td>456.681447</td>\n",
       "      <td>0.0</td>\n",
       "      <td>8.357209e+02</td>\n",
       "      <td>8.357209e+02</td>\n",
       "      <td>871</td>\n",
       "      <td>875</td>\n",
       "      <td>0</td>\n",
       "    </tr>\n",
       "    <tr>\n",
       "      <th>2020-03-01</th>\n",
       "      <td>463</td>\n",
       "      <td>0</td>\n",
       "      <td>463</td>\n",
       "      <td>392</td>\n",
       "      <td>1299</td>\n",
       "      <td>855.698071</td>\n",
       "      <td>2598</td>\n",
       "      <td>2</td>\n",
       "      <td>0.029604</td>\n",
       "      <td>2.672181e+03</td>\n",
       "      <td>...</td>\n",
       "      <td>1</td>\n",
       "      <td>0.004240</td>\n",
       "      <td>0.946050</td>\n",
       "      <td>849.050184</td>\n",
       "      <td>0.0</td>\n",
       "      <td>1.373130e+03</td>\n",
       "      <td>1.373130e+03</td>\n",
       "      <td>1374</td>\n",
       "      <td>1374</td>\n",
       "      <td>0</td>\n",
       "    </tr>\n",
       "    <tr>\n",
       "      <th>2020-04-01</th>\n",
       "      <td>469</td>\n",
       "      <td>0</td>\n",
       "      <td>469</td>\n",
       "      <td>544</td>\n",
       "      <td>1843</td>\n",
       "      <td>1013.967705</td>\n",
       "      <td>3686</td>\n",
       "      <td>4</td>\n",
       "      <td>-0.079115</td>\n",
       "      <td>3.389867e+03</td>\n",
       "      <td>...</td>\n",
       "      <td>1</td>\n",
       "      <td>0.005379</td>\n",
       "      <td>1.191546</td>\n",
       "      <td>1393.074164</td>\n",
       "      <td>0.0</td>\n",
       "      <td>1.546793e+03</td>\n",
       "      <td>1.546793e+03</td>\n",
       "      <td>1698</td>\n",
       "      <td>1713</td>\n",
       "      <td>0</td>\n",
       "    </tr>\n",
       "    <tr>\n",
       "      <th>2020-05-01</th>\n",
       "      <td>476</td>\n",
       "      <td>0</td>\n",
       "      <td>476</td>\n",
       "      <td>180</td>\n",
       "      <td>2023</td>\n",
       "      <td>656.767960</td>\n",
       "      <td>4046</td>\n",
       "      <td>5</td>\n",
       "      <td>0.006558</td>\n",
       "      <td>4.067921e+03</td>\n",
       "      <td>...</td>\n",
       "      <td>1</td>\n",
       "      <td>0.006455</td>\n",
       "      <td>0.989589</td>\n",
       "      <td>1573.317431</td>\n",
       "      <td>0.0</td>\n",
       "      <td>2.044603e+03</td>\n",
       "      <td>2.044603e+03</td>\n",
       "      <td>2189</td>\n",
       "      <td>2202</td>\n",
       "      <td>0</td>\n",
       "    </tr>\n",
       "    <tr>\n",
       "      <th>...</th>\n",
       "      <td>...</td>\n",
       "      <td>...</td>\n",
       "      <td>...</td>\n",
       "      <td>...</td>\n",
       "      <td>...</td>\n",
       "      <td>...</td>\n",
       "      <td>...</td>\n",
       "      <td>...</td>\n",
       "      <td>...</td>\n",
       "      <td>...</td>\n",
       "      <td>...</td>\n",
       "      <td>...</td>\n",
       "      <td>...</td>\n",
       "      <td>...</td>\n",
       "      <td>...</td>\n",
       "      <td>...</td>\n",
       "      <td>...</td>\n",
       "      <td>...</td>\n",
       "      <td>...</td>\n",
       "      <td>...</td>\n",
       "      <td>...</td>\n",
       "    </tr>\n",
       "    <tr>\n",
       "      <th>2069-09-01</th>\n",
       "      <td>851</td>\n",
       "      <td>457475</td>\n",
       "      <td>-12054</td>\n",
       "      <td>0</td>\n",
       "      <td>0</td>\n",
       "      <td>-12054.963345</td>\n",
       "      <td>9015942</td>\n",
       "      <td>0</td>\n",
       "      <td>0.026895</td>\n",
       "      <td>9.258430e+06</td>\n",
       "      <td>...</td>\n",
       "      <td>4</td>\n",
       "      <td>0.952915</td>\n",
       "      <td>0.000000</td>\n",
       "      <td>0.000000</td>\n",
       "      <td>0.0</td>\n",
       "      <td>9.715906e+06</td>\n",
       "      <td>9.187482e+06</td>\n",
       "      <td>6726688</td>\n",
       "      <td>5554993</td>\n",
       "      <td>99</td>\n",
       "    </tr>\n",
       "    <tr>\n",
       "      <th>2069-10-01</th>\n",
       "      <td>849</td>\n",
       "      <td>469226</td>\n",
       "      <td>-10901</td>\n",
       "      <td>0</td>\n",
       "      <td>0</td>\n",
       "      <td>-10901.019807</td>\n",
       "      <td>9247529</td>\n",
       "      <td>0</td>\n",
       "      <td>-0.027944</td>\n",
       "      <td>8.989112e+06</td>\n",
       "      <td>...</td>\n",
       "      <td>4</td>\n",
       "      <td>0.950390</td>\n",
       "      <td>0.000000</td>\n",
       "      <td>0.000000</td>\n",
       "      <td>0.0</td>\n",
       "      <td>9.458339e+06</td>\n",
       "      <td>8.957544e+06</td>\n",
       "      <td>6539540</td>\n",
       "      <td>5408570</td>\n",
       "      <td>99</td>\n",
       "    </tr>\n",
       "    <tr>\n",
       "      <th>2069-11-01</th>\n",
       "      <td>848</td>\n",
       "      <td>456788</td>\n",
       "      <td>13286</td>\n",
       "      <td>0</td>\n",
       "      <td>0</td>\n",
       "      <td>13286.604912</td>\n",
       "      <td>9002398</td>\n",
       "      <td>0</td>\n",
       "      <td>0.024060</td>\n",
       "      <td>9.218995e+06</td>\n",
       "      <td>...</td>\n",
       "      <td>4</td>\n",
       "      <td>0.952791</td>\n",
       "      <td>0.000000</td>\n",
       "      <td>0.000000</td>\n",
       "      <td>0.0</td>\n",
       "      <td>9.675784e+06</td>\n",
       "      <td>9.152126e+06</td>\n",
       "      <td>6697749</td>\n",
       "      <td>5533176</td>\n",
       "      <td>99</td>\n",
       "    </tr>\n",
       "    <tr>\n",
       "      <th>2069-12-01</th>\n",
       "      <td>847</td>\n",
       "      <td>467288</td>\n",
       "      <td>-9653</td>\n",
       "      <td>0</td>\n",
       "      <td>0</td>\n",
       "      <td>-9653.277420</td>\n",
       "      <td>9209341</td>\n",
       "      <td>0</td>\n",
       "      <td>-0.017603</td>\n",
       "      <td>9.047233e+06</td>\n",
       "      <td>...</td>\n",
       "      <td>4</td>\n",
       "      <td>0.950887</td>\n",
       "      <td>0.000000</td>\n",
       "      <td>0.000000</td>\n",
       "      <td>0.0</td>\n",
       "      <td>9.514522e+06</td>\n",
       "      <td>9.008156e+06</td>\n",
       "      <td>6580684</td>\n",
       "      <td>5441762</td>\n",
       "      <td>99</td>\n",
       "    </tr>\n",
       "    <tr>\n",
       "      <th>2070-01-01</th>\n",
       "      <td>845</td>\n",
       "      <td>459501</td>\n",
       "      <td>8633</td>\n",
       "      <td>0</td>\n",
       "      <td>0</td>\n",
       "      <td>8633.285886</td>\n",
       "      <td>9055866</td>\n",
       "      <td>0</td>\n",
       "      <td>0.042246</td>\n",
       "      <td>8.920380e+06</td>\n",
       "      <td>...</td>\n",
       "      <td>4</td>\n",
       "      <td>0.951012</td>\n",
       "      <td>0.000000</td>\n",
       "      <td>0.000000</td>\n",
       "      <td>0.0</td>\n",
       "      <td>9.379881e+06</td>\n",
       "      <td>8.902293e+06</td>\n",
       "      <td>6473195</td>\n",
       "      <td>5359973</td>\n",
       "      <td>99</td>\n",
       "    </tr>\n",
       "  </tbody>\n",
       "</table>\n",
       "<p>60100 rows × 23 columns</p>\n",
       "</div>"
      ],
      "text/plain": [
       "            savings    cash  new_equity  new_debt  total_debt           nip  \\\n",
       "2020-01-01      450       0         450       450         450    900.000000   \n",
       "2020-02-01      456       0         456       456         906    913.362894   \n",
       "2020-03-01      463       0         463       392        1299    855.698071   \n",
       "2020-04-01      469       0         469       544        1843   1013.967705   \n",
       "2020-05-01      476       0         476       180        2023    656.767960   \n",
       "...             ...     ...         ...       ...         ...           ...   \n",
       "2069-09-01      851  457475      -12054         0           0 -12054.963345   \n",
       "2069-10-01      849  469226      -10901         0           0 -10901.019807   \n",
       "2069-11-01      848  456788       13286         0           0  13286.604912   \n",
       "2069-12-01      847  467288       -9653         0           0  -9653.277420   \n",
       "2070-01-01      845  459501        8633         0           0   8633.285886   \n",
       "\n",
       "               pv_p  interest  market_returns          pv_u  ...  phase  \\\n",
       "2020-01-01      900         0        0.000000  9.000000e+02  ...      1   \n",
       "2020-02-01     1813         1       -0.038291  1.742402e+03  ...      1   \n",
       "2020-03-01     2598         2        0.029604  2.672181e+03  ...      1   \n",
       "2020-04-01     3686         4       -0.079115  3.389867e+03  ...      1   \n",
       "2020-05-01     4046         5        0.006558  4.067921e+03  ...      1   \n",
       "...             ...       ...             ...           ...  ...    ...   \n",
       "2069-09-01  9015942         0        0.026895  9.258430e+06  ...      4   \n",
       "2069-10-01  9247529         0       -0.027944  8.989112e+06  ...      4   \n",
       "2069-11-01  9002398         0        0.024060  9.218995e+06  ...      4   \n",
       "2069-12-01  9209341         0       -0.017603  9.047233e+06  ...      4   \n",
       "2070-01-01  9055866         0        0.042246  8.920380e+06  ...      4   \n",
       "\n",
       "              pi_hat     g_hat      SU_debt  Nordnet_debt    dual_phase  \\\n",
       "2020-01-01  0.001428  1.000000   450.000000           0.0  4.500000e+02   \n",
       "2020-02-01  0.002765  1.084909   456.681447           0.0  8.357209e+02   \n",
       "2020-03-01  0.004240  0.946050   849.050184           0.0  1.373130e+03   \n",
       "2020-04-01  0.005379  1.191546  1393.074164           0.0  1.546793e+03   \n",
       "2020-05-01  0.006455  0.989589  1573.317431           0.0  2.044603e+03   \n",
       "...              ...       ...          ...           ...           ...   \n",
       "2069-09-01  0.952915  0.000000     0.000000           0.0  9.715906e+06   \n",
       "2069-10-01  0.950390  0.000000     0.000000           0.0  9.458339e+06   \n",
       "2069-11-01  0.952791  0.000000     0.000000           0.0  9.675784e+06   \n",
       "2069-12-01  0.950887  0.000000     0.000000           0.0  9.514522e+06   \n",
       "2070-01-01  0.951012  0.000000     0.000000           0.0  9.379881e+06   \n",
       "\n",
       "            single_phase      100     9050  random_state  \n",
       "2020-01-01  4.500000e+02      450      450             0  \n",
       "2020-02-01  8.357209e+02      871      875             0  \n",
       "2020-03-01  1.373130e+03     1374     1374             0  \n",
       "2020-04-01  1.546793e+03     1698     1713             0  \n",
       "2020-05-01  2.044603e+03     2189     2202             0  \n",
       "...                  ...      ...      ...           ...  \n",
       "2069-09-01  9.187482e+06  6726688  5554993            99  \n",
       "2069-10-01  8.957544e+06  6539540  5408570            99  \n",
       "2069-11-01  9.152126e+06  6697749  5533176            99  \n",
       "2069-12-01  9.008156e+06  6580684  5441762            99  \n",
       "2070-01-01  8.902293e+06  6473195  5359973            99  \n",
       "\n",
       "[60100 rows x 23 columns]"
      ]
     },
     "execution_count": 2,
     "metadata": {},
     "output_type": "execute_result"
    }
   ],
   "source": [
    "ports"
   ]
  },
  {
   "cell_type": "code",
   "execution_count": 91,
   "metadata": {},
   "outputs": [
    {
     "data": {
      "text/plain": [
       "<AxesSubplot:xlabel='period', ylabel='value'>"
      ]
     },
     "execution_count": 91,
     "metadata": {},
     "output_type": "execute_result"
    },
    {
     "data": {
      "image/png": "[encoded data removed]",
      "text/plain": [
       "<Figure size 576x396 with 1 Axes>"
      ]
     },
     "metadata": {},
     "output_type": "display_data"
    }
   ],
   "source": [
    "cols = ['dual_phase', 'single_phase', '100', '9050']\n",
    "df = ports.loc[:, cols].reset_index().melt(value_vars=cols, id_vars=['random_state', 'period'])\n",
    "sns.lineplot(data = df, x = 'period', y = 'value', hue = 'variable')"
   ]
  },
  {
   "cell_type": "code",
   "execution_count": 3,
   "metadata": {},
   "outputs": [
    {
     "name": "stdout",
     "output_type": "stream",
     "text": [
      "pi_rf:   98.70%\n",
      "pi_rm:   93.41%\n",
      "warning: catastrophic wipeout\n",
      "warning: catastrophic wipeout\n"
     ]
    },
    {
     "ename": "ValueError",
     "evalue": "Length mismatch: Expected axis has 60100 elements, new values have 601 elements",
     "output_type": "error",
     "traceback": [
      "\u001b[0;31m---------------------------------------------------------------------------\u001b[0m",
      "\u001b[0;31mValueError\u001b[0m                                Traceback (most recent call last)",
      "\u001b[0;32m<ipython-input-3-b223e5b48791>\u001b[0m in \u001b[0;36m<module>\u001b[0;34m\u001b[0m\n\u001b[0;32m----> 1\u001b[0;31m \u001b[0mtest\u001b[0m \u001b[0;34m=\u001b[0m \u001b[0mcalculate_return\u001b[0m\u001b[0;34m.\u001b[0m\u001b[0mfetch_returns\u001b[0m\u001b[0;34m(\u001b[0m\u001b[0;34m'garch'\u001b[0m\u001b[0;34m,\u001b[0m \u001b[0mrange\u001b[0m\u001b[0;34m(\u001b[0m\u001b[0;36m100\u001b[0m\u001b[0;34m)\u001b[0m\u001b[0;34m,\u001b[0m \u001b[0mSEED_INDEX\u001b[0m\u001b[0;34m=\u001b[0m\u001b[0;32mFalse\u001b[0m\u001b[0;34m)\u001b[0m\u001b[0;34m\u001b[0m\u001b[0m\n\u001b[0m",
      "\u001b[0;32m~/applied_finance/calculate_return.py\u001b[0m in \u001b[0;36mfetch_returns\u001b[0;34m(sim_type, random_seeds, BEGINNING_SAVINGS, YEARLY_INCOME_GROWTH, PAY_TAXES, YEARS, GAMMA, YEARLY_RF, YEARLY_MR, COST, DEBT_PCT_OFFSET, SIGMA, MR, save_to_file, SEED_INDEX)\u001b[0m\n\u001b[1;32m    467\u001b[0m             \u001b[0mdfs\u001b[0m\u001b[0;34m.\u001b[0m\u001b[0mindex\u001b[0m \u001b[0;34m=\u001b[0m \u001b[0mdfs\u001b[0m\u001b[0;34m.\u001b[0m\u001b[0mindex\u001b[0m\u001b[0;34m.\u001b[0m\u001b[0mset_levels\u001b[0m\u001b[0;34m(\u001b[0m\u001b[0;34m[\u001b[0m\u001b[0mdfs\u001b[0m\u001b[0;34m.\u001b[0m\u001b[0mindex\u001b[0m\u001b[0;34m.\u001b[0m\u001b[0mlevels\u001b[0m\u001b[0;34m[\u001b[0m\u001b[0;36m0\u001b[0m\u001b[0;34m]\u001b[0m\u001b[0;34m,\u001b[0m \u001b[0mpd\u001b[0m\u001b[0;34m.\u001b[0m\u001b[0mdate_range\u001b[0m\u001b[0;34m(\u001b[0m\u001b[0mstart\u001b[0m\u001b[0;34m=\u001b[0m\u001b[0;34m\"2020-01-01\"\u001b[0m\u001b[0;34m,\u001b[0m \u001b[0mfreq\u001b[0m\u001b[0;34m=\u001b[0m\u001b[0;34m'MS'\u001b[0m\u001b[0;34m,\u001b[0m \u001b[0mperiods\u001b[0m\u001b[0;34m=\u001b[0m\u001b[0mYEARS\u001b[0m\u001b[0;34m*\u001b[0m\u001b[0;36m12\u001b[0m\u001b[0;34m+\u001b[0m\u001b[0;36m1\u001b[0m\u001b[0;34m)\u001b[0m\u001b[0;34m]\u001b[0m\u001b[0;34m)\u001b[0m\u001b[0;34m\u001b[0m\u001b[0m\n\u001b[1;32m    468\u001b[0m         \u001b[0;32melse\u001b[0m\u001b[0;34m:\u001b[0m\u001b[0;34m\u001b[0m\u001b[0m\n\u001b[0;32m--> 469\u001b[0;31m             \u001b[0mdfs\u001b[0m\u001b[0;34m.\u001b[0m\u001b[0mindex\u001b[0m \u001b[0;34m=\u001b[0m \u001b[0mpd\u001b[0m\u001b[0;34m.\u001b[0m\u001b[0mdate_range\u001b[0m\u001b[0;34m(\u001b[0m\u001b[0mstart\u001b[0m\u001b[0;34m=\u001b[0m\u001b[0;34m\"2020-01-01\"\u001b[0m\u001b[0;34m,\u001b[0m \u001b[0mfreq\u001b[0m\u001b[0;34m=\u001b[0m\u001b[0;34m'MS'\u001b[0m\u001b[0;34m,\u001b[0m \u001b[0mperiods\u001b[0m\u001b[0;34m=\u001b[0m\u001b[0mYEARS\u001b[0m\u001b[0;34m*\u001b[0m\u001b[0;36m12\u001b[0m\u001b[0;34m+\u001b[0m\u001b[0;36m1\u001b[0m\u001b[0;34m)\u001b[0m\u001b[0;34m\u001b[0m\u001b[0m\n\u001b[0m\u001b[1;32m    470\u001b[0m \u001b[0;34m\u001b[0m\u001b[0m\n\u001b[1;32m    471\u001b[0m     \u001b[0;32mreturn\u001b[0m \u001b[0mdfs\u001b[0m\u001b[0;34m\u001b[0m\u001b[0m\n",
      "\u001b[0;32m/Library/Frameworks/Python.framework/Versions/3.7/lib/python3.7/site-packages/pandas/core/generic.py\u001b[0m in \u001b[0;36m__setattr__\u001b[0;34m(self, name, value)\u001b[0m\n\u001b[1;32m   5152\u001b[0m         \u001b[0;32mtry\u001b[0m\u001b[0;34m:\u001b[0m\u001b[0;34m\u001b[0m\u001b[0m\n\u001b[1;32m   5153\u001b[0m             \u001b[0mobject\u001b[0m\u001b[0;34m.\u001b[0m\u001b[0m__getattribute__\u001b[0m\u001b[0;34m(\u001b[0m\u001b[0mself\u001b[0m\u001b[0;34m,\u001b[0m \u001b[0mname\u001b[0m\u001b[0;34m)\u001b[0m\u001b[0;34m\u001b[0m\u001b[0m\n\u001b[0;32m-> 5154\u001b[0;31m             \u001b[0;32mreturn\u001b[0m \u001b[0mobject\u001b[0m\u001b[0;34m.\u001b[0m\u001b[0m__setattr__\u001b[0m\u001b[0;34m(\u001b[0m\u001b[0mself\u001b[0m\u001b[0;34m,\u001b[0m \u001b[0mname\u001b[0m\u001b[0;34m,\u001b[0m \u001b[0mvalue\u001b[0m\u001b[0;34m)\u001b[0m\u001b[0;34m\u001b[0m\u001b[0m\n\u001b[0m\u001b[1;32m   5155\u001b[0m         \u001b[0;32mexcept\u001b[0m \u001b[0mAttributeError\u001b[0m\u001b[0;34m:\u001b[0m\u001b[0;34m\u001b[0m\u001b[0m\n\u001b[1;32m   5156\u001b[0m             \u001b[0;32mpass\u001b[0m\u001b[0;34m\u001b[0m\u001b[0m\n",
      "\u001b[0;32mpandas/_libs/properties.pyx\u001b[0m in \u001b[0;36mpandas._libs.properties.AxisProperty.__set__\u001b[0;34m()\u001b[0m\n",
      "\u001b[0;32m/Library/Frameworks/Python.framework/Versions/3.7/lib/python3.7/site-packages/pandas/core/generic.py\u001b[0m in \u001b[0;36m_set_axis\u001b[0;34m(self, axis, labels)\u001b[0m\n\u001b[1;32m    562\u001b[0m     \u001b[0;32mdef\u001b[0m \u001b[0m_set_axis\u001b[0m\u001b[0;34m(\u001b[0m\u001b[0mself\u001b[0m\u001b[0;34m,\u001b[0m \u001b[0maxis\u001b[0m\u001b[0;34m:\u001b[0m \u001b[0mint\u001b[0m\u001b[0;34m,\u001b[0m \u001b[0mlabels\u001b[0m\u001b[0;34m:\u001b[0m \u001b[0mIndex\u001b[0m\u001b[0;34m)\u001b[0m \u001b[0;34m->\u001b[0m \u001b[0;32mNone\u001b[0m\u001b[0;34m:\u001b[0m\u001b[0;34m\u001b[0m\u001b[0m\n\u001b[1;32m    563\u001b[0m         \u001b[0mlabels\u001b[0m \u001b[0;34m=\u001b[0m \u001b[0mensure_index\u001b[0m\u001b[0;34m(\u001b[0m\u001b[0mlabels\u001b[0m\u001b[0;34m)\u001b[0m\u001b[0;34m\u001b[0m\u001b[0m\n\u001b[0;32m--> 564\u001b[0;31m         \u001b[0mself\u001b[0m\u001b[0;34m.\u001b[0m\u001b[0m_mgr\u001b[0m\u001b[0;34m.\u001b[0m\u001b[0mset_axis\u001b[0m\u001b[0;34m(\u001b[0m\u001b[0maxis\u001b[0m\u001b[0;34m,\u001b[0m \u001b[0mlabels\u001b[0m\u001b[0;34m)\u001b[0m\u001b[0;34m\u001b[0m\u001b[0m\n\u001b[0m\u001b[1;32m    565\u001b[0m         \u001b[0mself\u001b[0m\u001b[0;34m.\u001b[0m\u001b[0m_clear_item_cache\u001b[0m\u001b[0;34m(\u001b[0m\u001b[0;34m)\u001b[0m\u001b[0;34m\u001b[0m\u001b[0m\n\u001b[1;32m    566\u001b[0m \u001b[0;34m\u001b[0m\u001b[0m\n",
      "\u001b[0;32m/Library/Frameworks/Python.framework/Versions/3.7/lib/python3.7/site-packages/pandas/core/internals/managers.py\u001b[0m in \u001b[0;36mset_axis\u001b[0;34m(self, axis, new_labels)\u001b[0m\n\u001b[1;32m    225\u001b[0m         \u001b[0;32mif\u001b[0m \u001b[0mnew_len\u001b[0m \u001b[0;34m!=\u001b[0m \u001b[0mold_len\u001b[0m\u001b[0;34m:\u001b[0m\u001b[0;34m\u001b[0m\u001b[0m\n\u001b[1;32m    226\u001b[0m             raise ValueError(\n\u001b[0;32m--> 227\u001b[0;31m                 \u001b[0;34mf\"Length mismatch: Expected axis has {old_len} elements, new \"\u001b[0m\u001b[0;34m\u001b[0m\u001b[0m\n\u001b[0m\u001b[1;32m    228\u001b[0m                 \u001b[0;34mf\"values have {new_len} elements\"\u001b[0m\u001b[0;34m\u001b[0m\u001b[0m\n\u001b[1;32m    229\u001b[0m             )\n",
      "\u001b[0;31mValueError\u001b[0m: Length mismatch: Expected axis has 60100 elements, new values have 601 elements"
     ]
    }
   ],
   "source": [
    "test = calculate_return.fetch_returns('garch', range(100), SEED_INDEX=False)"
   ]
  },
  {
   "cell_type": "code",
   "execution_count": 76,
   "metadata": {},
   "outputs": [
    {
     "ename": "ValueError",
     "evalue": "Could not interpret value `event` for parameter `style`",
     "output_type": "error",
     "traceback": [
      "\u001b[0;31m---------------------------------------------------------------------------\u001b[0m",
      "\u001b[0;31mValueError\u001b[0m                                Traceback (most recent call last)",
      "\u001b[0;32m<ipython-input-76-2e9ee4bc2782>\u001b[0m in \u001b[0;36m<module>\u001b[0;34m\u001b[0m\n\u001b[1;32m      2\u001b[0m \u001b[0malpha\u001b[0m \u001b[0;34m=\u001b[0m \u001b[0;36m0.5\u001b[0m\u001b[0;34m\u001b[0m\u001b[0m\n\u001b[1;32m      3\u001b[0m \u001b[0mdf\u001b[0m \u001b[0;34m=\u001b[0m \u001b[0mports\u001b[0m\u001b[0;34m.\u001b[0m\u001b[0mloc\u001b[0m\u001b[0;34m[\u001b[0m\u001b[0;34m:\u001b[0m\u001b[0;34m,\u001b[0m \u001b[0;34m[\u001b[0m\u001b[0;34m'dual_phase'\u001b[0m\u001b[0;34m,\u001b[0m \u001b[0;34m'100'\u001b[0m\u001b[0;34m]\u001b[0m\u001b[0;34m]\u001b[0m\u001b[0;34m.\u001b[0m\u001b[0mreset_index\u001b[0m\u001b[0;34m(\u001b[0m\u001b[0;34m)\u001b[0m\u001b[0;34m\u001b[0m\u001b[0m\n\u001b[0;32m----> 4\u001b[0;31m \u001b[0msns\u001b[0m\u001b[0;34m.\u001b[0m\u001b[0mscatterplot\u001b[0m\u001b[0;34m(\u001b[0m\u001b[0mdata\u001b[0m \u001b[0;34m=\u001b[0m \u001b[0mdf\u001b[0m\u001b[0;34m,\u001b[0m \u001b[0mx\u001b[0m\u001b[0;34m=\u001b[0m\u001b[0;34m'period'\u001b[0m\u001b[0;34m,\u001b[0m \u001b[0my\u001b[0m \u001b[0;34m=\u001b[0m \u001b[0;34m'100'\u001b[0m\u001b[0;34m,\u001b[0m \u001b[0malpha\u001b[0m\u001b[0;34m=\u001b[0m\u001b[0;36m.1\u001b[0m\u001b[0;34m,\u001b[0m \u001b[0mcolor\u001b[0m\u001b[0;34m=\u001b[0m\u001b[0;34m'red'\u001b[0m\u001b[0;34m,\u001b[0m \u001b[0ms\u001b[0m\u001b[0;34m=\u001b[0m\u001b[0;36m1\u001b[0m\u001b[0;34m,\u001b[0m \u001b[0mstyle\u001b[0m\u001b[0;34m=\u001b[0m\u001b[0;34m'event'\u001b[0m\u001b[0;34m)\u001b[0m\u001b[0;34m\u001b[0m\u001b[0m\n\u001b[0m\u001b[1;32m      5\u001b[0m \u001b[0msns\u001b[0m\u001b[0;34m.\u001b[0m\u001b[0mscatterplot\u001b[0m\u001b[0;34m(\u001b[0m\u001b[0mdata\u001b[0m \u001b[0;34m=\u001b[0m \u001b[0mdf\u001b[0m\u001b[0;34m,\u001b[0m \u001b[0mx\u001b[0m\u001b[0;34m=\u001b[0m\u001b[0;34m'period'\u001b[0m\u001b[0;34m,\u001b[0m \u001b[0my\u001b[0m \u001b[0;34m=\u001b[0m \u001b[0;34m'dual_phase'\u001b[0m\u001b[0;34m,\u001b[0m \u001b[0malpha\u001b[0m\u001b[0;34m=\u001b[0m\u001b[0;36m.1\u001b[0m\u001b[0;34m,\u001b[0m \u001b[0mcolor\u001b[0m\u001b[0;34m=\u001b[0m\u001b[0;34m'blue'\u001b[0m\u001b[0;34m,\u001b[0m \u001b[0ms\u001b[0m\u001b[0;34m=\u001b[0m\u001b[0;36m1\u001b[0m\u001b[0;34m,\u001b[0m \u001b[0mstyle\u001b[0m\u001b[0;34m=\u001b[0m\u001b[0;34m'event'\u001b[0m\u001b[0;34m)\u001b[0m\u001b[0;34m\u001b[0m\u001b[0m\n\u001b[1;32m      6\u001b[0m \u001b[0mplt\u001b[0m\u001b[0;34m.\u001b[0m\u001b[0mylim\u001b[0m\u001b[0;34m(\u001b[0m\u001b[0;36m0\u001b[0m\u001b[0;34m,\u001b[0m \u001b[0;36m1.5e7\u001b[0m\u001b[0;34m)\u001b[0m\u001b[0;34m\u001b[0m\u001b[0m\n",
      "\u001b[0;32m/Library/Frameworks/Python.framework/Versions/3.7/lib/python3.7/site-packages/seaborn/_decorators.py\u001b[0m in \u001b[0;36minner_f\u001b[0;34m(*args, **kwargs)\u001b[0m\n\u001b[1;32m     44\u001b[0m             )\n\u001b[1;32m     45\u001b[0m         \u001b[0mkwargs\u001b[0m\u001b[0;34m.\u001b[0m\u001b[0mupdate\u001b[0m\u001b[0;34m(\u001b[0m\u001b[0;34m{\u001b[0m\u001b[0mk\u001b[0m\u001b[0;34m:\u001b[0m \u001b[0marg\u001b[0m \u001b[0;32mfor\u001b[0m \u001b[0mk\u001b[0m\u001b[0;34m,\u001b[0m \u001b[0marg\u001b[0m \u001b[0;32min\u001b[0m \u001b[0mzip\u001b[0m\u001b[0;34m(\u001b[0m\u001b[0msig\u001b[0m\u001b[0;34m.\u001b[0m\u001b[0mparameters\u001b[0m\u001b[0;34m,\u001b[0m \u001b[0margs\u001b[0m\u001b[0;34m)\u001b[0m\u001b[0;34m}\u001b[0m\u001b[0;34m)\u001b[0m\u001b[0;34m\u001b[0m\u001b[0m\n\u001b[0;32m---> 46\u001b[0;31m         \u001b[0;32mreturn\u001b[0m \u001b[0mf\u001b[0m\u001b[0;34m(\u001b[0m\u001b[0;34m**\u001b[0m\u001b[0mkwargs\u001b[0m\u001b[0;34m)\u001b[0m\u001b[0;34m\u001b[0m\u001b[0m\n\u001b[0m\u001b[1;32m     47\u001b[0m     \u001b[0;32mreturn\u001b[0m \u001b[0minner_f\u001b[0m\u001b[0;34m\u001b[0m\u001b[0m\n\u001b[1;32m     48\u001b[0m \u001b[0;34m\u001b[0m\u001b[0m\n",
      "\u001b[0;32m/Library/Frameworks/Python.framework/Versions/3.7/lib/python3.7/site-packages/seaborn/relational.py\u001b[0m in \u001b[0;36mscatterplot\u001b[0;34m(x, y, hue, style, size, data, palette, hue_order, hue_norm, sizes, size_order, size_norm, markers, style_order, x_bins, y_bins, units, estimator, ci, n_boot, alpha, x_jitter, y_jitter, legend, ax, **kwargs)\u001b[0m\n\u001b[1;32m    803\u001b[0m         \u001b[0mx_bins\u001b[0m\u001b[0;34m=\u001b[0m\u001b[0mx_bins\u001b[0m\u001b[0;34m,\u001b[0m \u001b[0my_bins\u001b[0m\u001b[0;34m=\u001b[0m\u001b[0my_bins\u001b[0m\u001b[0;34m,\u001b[0m\u001b[0;34m\u001b[0m\u001b[0m\n\u001b[1;32m    804\u001b[0m         \u001b[0mestimator\u001b[0m\u001b[0;34m=\u001b[0m\u001b[0mestimator\u001b[0m\u001b[0;34m,\u001b[0m \u001b[0mci\u001b[0m\u001b[0;34m=\u001b[0m\u001b[0mci\u001b[0m\u001b[0;34m,\u001b[0m \u001b[0mn_boot\u001b[0m\u001b[0;34m=\u001b[0m\u001b[0mn_boot\u001b[0m\u001b[0;34m,\u001b[0m\u001b[0;34m\u001b[0m\u001b[0m\n\u001b[0;32m--> 805\u001b[0;31m         \u001b[0malpha\u001b[0m\u001b[0;34m=\u001b[0m\u001b[0malpha\u001b[0m\u001b[0;34m,\u001b[0m \u001b[0mx_jitter\u001b[0m\u001b[0;34m=\u001b[0m\u001b[0mx_jitter\u001b[0m\u001b[0;34m,\u001b[0m \u001b[0my_jitter\u001b[0m\u001b[0;34m=\u001b[0m\u001b[0my_jitter\u001b[0m\u001b[0;34m,\u001b[0m \u001b[0mlegend\u001b[0m\u001b[0;34m=\u001b[0m\u001b[0mlegend\u001b[0m\u001b[0;34m,\u001b[0m\u001b[0;34m\u001b[0m\u001b[0m\n\u001b[0m\u001b[1;32m    806\u001b[0m     )\n\u001b[1;32m    807\u001b[0m \u001b[0;34m\u001b[0m\u001b[0m\n",
      "\u001b[0;32m/Library/Frameworks/Python.framework/Versions/3.7/lib/python3.7/site-packages/seaborn/relational.py\u001b[0m in \u001b[0;36m__init__\u001b[0;34m(self, data, variables, x_bins, y_bins, estimator, ci, n_boot, alpha, x_jitter, y_jitter, legend)\u001b[0m\n\u001b[1;32m    585\u001b[0m         )\n\u001b[1;32m    586\u001b[0m \u001b[0;34m\u001b[0m\u001b[0m\n\u001b[0;32m--> 587\u001b[0;31m         \u001b[0msuper\u001b[0m\u001b[0;34m(\u001b[0m\u001b[0;34m)\u001b[0m\u001b[0;34m.\u001b[0m\u001b[0m__init__\u001b[0m\u001b[0;34m(\u001b[0m\u001b[0mdata\u001b[0m\u001b[0;34m=\u001b[0m\u001b[0mdata\u001b[0m\u001b[0;34m,\u001b[0m \u001b[0mvariables\u001b[0m\u001b[0;34m=\u001b[0m\u001b[0mvariables\u001b[0m\u001b[0;34m)\u001b[0m\u001b[0;34m\u001b[0m\u001b[0m\n\u001b[0m\u001b[1;32m    588\u001b[0m \u001b[0;34m\u001b[0m\u001b[0m\n\u001b[1;32m    589\u001b[0m         \u001b[0mself\u001b[0m\u001b[0;34m.\u001b[0m\u001b[0malpha\u001b[0m \u001b[0;34m=\u001b[0m \u001b[0malpha\u001b[0m\u001b[0;34m\u001b[0m\u001b[0m\n",
      "\u001b[0;32m/Library/Frameworks/Python.framework/Versions/3.7/lib/python3.7/site-packages/seaborn/_core.py\u001b[0m in \u001b[0;36m__init__\u001b[0;34m(self, data, variables)\u001b[0m\n\u001b[1;32m    602\u001b[0m     \u001b[0;32mdef\u001b[0m \u001b[0m__init__\u001b[0m\u001b[0;34m(\u001b[0m\u001b[0mself\u001b[0m\u001b[0;34m,\u001b[0m \u001b[0mdata\u001b[0m\u001b[0;34m=\u001b[0m\u001b[0;32mNone\u001b[0m\u001b[0;34m,\u001b[0m \u001b[0mvariables\u001b[0m\u001b[0;34m=\u001b[0m\u001b[0;34m{\u001b[0m\u001b[0;34m}\u001b[0m\u001b[0;34m)\u001b[0m\u001b[0;34m:\u001b[0m\u001b[0;34m\u001b[0m\u001b[0m\n\u001b[1;32m    603\u001b[0m \u001b[0;34m\u001b[0m\u001b[0m\n\u001b[0;32m--> 604\u001b[0;31m         \u001b[0mself\u001b[0m\u001b[0;34m.\u001b[0m\u001b[0massign_variables\u001b[0m\u001b[0;34m(\u001b[0m\u001b[0mdata\u001b[0m\u001b[0;34m,\u001b[0m \u001b[0mvariables\u001b[0m\u001b[0;34m)\u001b[0m\u001b[0;34m\u001b[0m\u001b[0m\n\u001b[0m\u001b[1;32m    605\u001b[0m \u001b[0;34m\u001b[0m\u001b[0m\n\u001b[1;32m    606\u001b[0m         \u001b[0;32mfor\u001b[0m \u001b[0mvar\u001b[0m\u001b[0;34m,\u001b[0m \u001b[0mcls\u001b[0m \u001b[0;32min\u001b[0m \u001b[0mself\u001b[0m\u001b[0;34m.\u001b[0m\u001b[0m_semantic_mappings\u001b[0m\u001b[0;34m.\u001b[0m\u001b[0mitems\u001b[0m\u001b[0;34m(\u001b[0m\u001b[0;34m)\u001b[0m\u001b[0;34m:\u001b[0m\u001b[0;34m\u001b[0m\u001b[0m\n",
      "\u001b[0;32m/Library/Frameworks/Python.framework/Versions/3.7/lib/python3.7/site-packages/seaborn/_core.py\u001b[0m in \u001b[0;36massign_variables\u001b[0;34m(self, data, variables)\u001b[0m\n\u001b[1;32m    666\u001b[0m             \u001b[0mself\u001b[0m\u001b[0;34m.\u001b[0m\u001b[0minput_format\u001b[0m \u001b[0;34m=\u001b[0m \u001b[0;34m\"long\"\u001b[0m\u001b[0;34m\u001b[0m\u001b[0m\n\u001b[1;32m    667\u001b[0m             plot_data, variables = self._assign_variables_longform(\n\u001b[0;32m--> 668\u001b[0;31m                 \u001b[0mdata\u001b[0m\u001b[0;34m,\u001b[0m \u001b[0;34m**\u001b[0m\u001b[0mvariables\u001b[0m\u001b[0;34m,\u001b[0m\u001b[0;34m\u001b[0m\u001b[0m\n\u001b[0m\u001b[1;32m    669\u001b[0m             )\n\u001b[1;32m    670\u001b[0m \u001b[0;34m\u001b[0m\u001b[0m\n",
      "\u001b[0;32m/Library/Frameworks/Python.framework/Versions/3.7/lib/python3.7/site-packages/seaborn/_core.py\u001b[0m in \u001b[0;36m_assign_variables_longform\u001b[0;34m(self, data, **kwargs)\u001b[0m\n\u001b[1;32m    900\u001b[0m \u001b[0;34m\u001b[0m\u001b[0m\n\u001b[1;32m    901\u001b[0m                 \u001b[0merr\u001b[0m \u001b[0;34m=\u001b[0m \u001b[0;34mf\"Could not interpret value `{val}` for parameter `{key}`\"\u001b[0m\u001b[0;34m\u001b[0m\u001b[0m\n\u001b[0;32m--> 902\u001b[0;31m                 \u001b[0;32mraise\u001b[0m \u001b[0mValueError\u001b[0m\u001b[0;34m(\u001b[0m\u001b[0merr\u001b[0m\u001b[0;34m)\u001b[0m\u001b[0;34m\u001b[0m\u001b[0m\n\u001b[0m\u001b[1;32m    903\u001b[0m \u001b[0;34m\u001b[0m\u001b[0m\n\u001b[1;32m    904\u001b[0m             \u001b[0;32melse\u001b[0m\u001b[0;34m:\u001b[0m\u001b[0;34m\u001b[0m\u001b[0m\n",
      "\u001b[0;31mValueError\u001b[0m: Could not interpret value `event` for parameter `style`"
     ]
    }
   ],
   "source": [
    "marker_size = .4\n",
    "alpha = 0.5\n",
    "df = ports.loc[:, ['dual_phase', '100']].reset_index()\n",
    "sns.scatterplot(data = df, x='period', y = '100', alpha=.1, color='red', s=1)\n",
    "sns.scatterplot(data = df, x='period', y = 'dual_phase', alpha=.1, color='blue', s=1)\n",
    "plt.ylim(0, 1.5e7)"
   ]
  },
  {
   "cell_type": "code",
   "execution_count": 86,
   "metadata": {},
   "outputs": [
    {
     "data": {
      "text/html": [
       "<div>\n",
       "<style scoped>\n",
       "    .dataframe tbody tr th:only-of-type {\n",
       "        vertical-align: middle;\n",
       "    }\n",
       "\n",
       "    .dataframe tbody tr th {\n",
       "        vertical-align: top;\n",
       "    }\n",
       "\n",
       "    .dataframe thead th {\n",
       "        text-align: right;\n",
       "    }\n",
       "</style>\n",
       "<table border=\"1\" class=\"dataframe\">\n",
       "  <thead>\n",
       "    <tr style=\"text-align: right;\">\n",
       "      <th></th>\n",
       "      <th>random_state</th>\n",
       "      <th>period</th>\n",
       "      <th>variable</th>\n",
       "      <th>value</th>\n",
       "    </tr>\n",
       "  </thead>\n",
       "  <tbody>\n",
       "    <tr>\n",
       "      <th>0</th>\n",
       "      <td>0</td>\n",
       "      <td>2020-01-01</td>\n",
       "      <td>100</td>\n",
       "      <td>450.0</td>\n",
       "    </tr>\n",
       "    <tr>\n",
       "      <th>1</th>\n",
       "      <td>0</td>\n",
       "      <td>2020-02-01</td>\n",
       "      <td>100</td>\n",
       "      <td>871.0</td>\n",
       "    </tr>\n",
       "    <tr>\n",
       "      <th>2</th>\n",
       "      <td>0</td>\n",
       "      <td>2020-03-01</td>\n",
       "      <td>100</td>\n",
       "      <td>1374.0</td>\n",
       "    </tr>\n",
       "    <tr>\n",
       "      <th>3</th>\n",
       "      <td>0</td>\n",
       "      <td>2020-04-01</td>\n",
       "      <td>100</td>\n",
       "      <td>1698.0</td>\n",
       "    </tr>\n",
       "    <tr>\n",
       "      <th>4</th>\n",
       "      <td>0</td>\n",
       "      <td>2020-05-01</td>\n",
       "      <td>100</td>\n",
       "      <td>2189.0</td>\n",
       "    </tr>\n",
       "    <tr>\n",
       "      <th>...</th>\n",
       "      <td>...</td>\n",
       "      <td>...</td>\n",
       "      <td>...</td>\n",
       "      <td>...</td>\n",
       "    </tr>\n",
       "    <tr>\n",
       "      <th>600</th>\n",
       "      <td>0</td>\n",
       "      <td>2070-01-01</td>\n",
       "      <td>100</td>\n",
       "      <td>384907.0</td>\n",
       "    </tr>\n",
       "    <tr>\n",
       "      <th>601</th>\n",
       "      <td>1</td>\n",
       "      <td>2020-01-01</td>\n",
       "      <td>100</td>\n",
       "      <td>450.0</td>\n",
       "    </tr>\n",
       "    <tr>\n",
       "      <th>602</th>\n",
       "      <td>1</td>\n",
       "      <td>2020-02-01</td>\n",
       "      <td>100</td>\n",
       "      <td>881.0</td>\n",
       "    </tr>\n",
       "    <tr>\n",
       "      <th>603</th>\n",
       "      <td>1</td>\n",
       "      <td>2020-03-01</td>\n",
       "      <td>100</td>\n",
       "      <td>1316.0</td>\n",
       "    </tr>\n",
       "    <tr>\n",
       "      <th>604</th>\n",
       "      <td>1</td>\n",
       "      <td>2020-04-01</td>\n",
       "      <td>100</td>\n",
       "      <td>1922.0</td>\n",
       "    </tr>\n",
       "  </tbody>\n",
       "</table>\n",
       "<p>605 rows × 4 columns</p>\n",
       "</div>"
      ],
      "text/plain": [
       "     random_state     period variable     value\n",
       "0               0 2020-01-01      100     450.0\n",
       "1               0 2020-02-01      100     871.0\n",
       "2               0 2020-03-01      100    1374.0\n",
       "3               0 2020-04-01      100    1698.0\n",
       "4               0 2020-05-01      100    2189.0\n",
       "..            ...        ...      ...       ...\n",
       "600             0 2070-01-01      100  384907.0\n",
       "601             1 2020-01-01      100     450.0\n",
       "602             1 2020-02-01      100     881.0\n",
       "603             1 2020-03-01      100    1316.0\n",
       "604             1 2020-04-01      100    1922.0\n",
       "\n",
       "[605 rows x 4 columns]"
      ]
     },
     "execution_count": 86,
     "metadata": {},
     "output_type": "execute_result"
    }
   ],
   "source": [
    "df = ports.loc[:, ['dual_phase', '100']].reset_index().melt(value_vars=['100', 'dual_phase'],\n",
    "                                                            ignore_index=False, id_vars=['random_state', 'period'])\n",
    "\n",
    "df.head(605)"
   ]
  },
  {
   "cell_type": "code",
   "execution_count": 26,
   "metadata": {},
   "outputs": [
    {
     "data": {
      "text/plain": [
       "<matplotlib.collections.PathCollection at 0x7f9c9b38fa58>"
      ]
     },
     "execution_count": 26,
     "metadata": {},
     "output_type": "execute_result"
    },
    {
     "data": {
      "image/png": "[encoded data removed]",
      "text/plain": [
       "<Figure size 432x288 with 1 Axes>"
      ]
     },
     "metadata": {
      "needs_background": "light"
     },
     "output_type": "display_data"
    }
   ],
   "source": [
    "parameter = '100'\n",
    "df = ports.loc[:, [parameter]].reset_index()\n",
    "plt.scatter(x=df['period'], y=df[parameter], alpha=0.002)"
   ]
  },
  {
   "cell_type": "code",
   "execution_count": 138,
   "metadata": {},
   "outputs": [
    {
     "data": {
      "text/plain": [
       "Index(['savings', 'cash', 'new_equity', 'new_debt', 'total_debt', 'nip',\n",
       "       'pv_p', 'interest', 'market_returns', 'pv_u', 'tv_u', 'equity', 'dst',\n",
       "       'phase', 'pi_hat', 'g_hat', 'SU_debt', 'Nordnet_debt', 'dual_phase',\n",
       "       'single_phase', '100', '9050', 'dual_return', 'single_return',\n",
       "       '100_return', '9050_return', 'wipeout'],\n",
       "      dtype='object')"
      ]
     },
     "execution_count": 138,
     "metadata": {},
     "output_type": "execute_result"
    }
   ],
   "source": [
    "ports.columns"
   ]
  },
  {
   "cell_type": "markdown",
   "metadata": {},
   "source": [
    "### Illustrating temporal smoothing of market exposure"
   ]
  },
  {
   "cell_type": "code",
   "execution_count": 5,
   "metadata": {
    "tags": []
   },
   "outputs": [
    {
     "name": "stdout",
     "output_type": "stream",
     "text": [
      "pi_rf:   98.70%\n",
      "pi_rm:   93.41%\n",
      "warning: catastrophic wipeout\n",
      "warning: catastrophic wipeout\n",
      "warning: catastrophic wipeout\n",
      "warning: catastrophic wipeout\n",
      "warning: catastrophic wipeout\n",
      "warning: catastrophic wipeout\n",
      "warning: catastrophic wipeout\n",
      "warning: catastrophic wipeout\n",
      "warning: catastrophic wipeout\n",
      "warning: catastrophic wipeout\n",
      "warning: catastrophic wipeout\n",
      "warning: catastrophic wipeout\n",
      "warning: catastrophic wipeout\n",
      "warning: catastrophic wipeout\n",
      "warning: catastrophic wipeout\n",
      "warning: catastrophic wipeout\n",
      "warning: catastrophic wipeout\n",
      "warning: catastrophic wipeout\n",
      "warning: catastrophic wipeout\n",
      "warning: catastrophic wipeout\n",
      "warning: catastrophic wipeout\n",
      "warning: catastrophic wipeout\n",
      "warning: catastrophic wipeout\n",
      "warning: catastrophic wipeout\n",
      "warning: catastrophic wipeout\n",
      "warning: catastrophic wipeout\n",
      "warning: catastrophic wipeout\n",
      "warning: catastrophic wipeout\n",
      "warning: catastrophic wipeout\n",
      "warning: catastrophic wipeout\n",
      "warning: catastrophic wipeout\n",
      "warning: catastrophic wipeout\n",
      "warning: catastrophic wipeout\n",
      "warning: catastrophic wipeout\n",
      "warning: catastrophic wipeout\n",
      "warning: catastrophic wipeout\n",
      "warning: catastrophic wipeout\n",
      "warning: catastrophic wipeout\n",
      "warning: catastrophic wipeout\n",
      "warning: catastrophic wipeout\n",
      "warning: catastrophic wipeout\n",
      "warning: catastrophic wipeout\n",
      "warning: catastrophic wipeout\n",
      "warning: catastrophic wipeout\n",
      "warning: catastrophic wipeout\n",
      "warning: catastrophic wipeout\n",
      "warning: catastrophic wipeout\n",
      "warning: catastrophic wipeout\n",
      "warning: catastrophic wipeout\n",
      "warning: catastrophic wipeout\n",
      "warning: catastrophic wipeout\n",
      "warning: catastrophic wipeout\n",
      "warning: catastrophic wipeout\n",
      "warning: catastrophic wipeout\n",
      "warning: catastrophic wipeout\n",
      "warning: catastrophic wipeout\n",
      "warning: catastrophic wipeout\n",
      "warning: catastrophic wipeout\n",
      "warning: catastrophic wipeout\n",
      "warning: catastrophic wipeout\n",
      "warning: catastrophic wipeout\n",
      "warning: catastrophic wipeout\n",
      "warning: catastrophic wipeout\n",
      "warning: catastrophic wipeout\n"
     ]
    }
   ],
   "source": [
    "ports = calculate_return.fetch_returns('garch', range(10000), PAY_TAXES=False)\n",
    "grouped = ports.groupby('period', dropna=True).mean()"
   ]
  },
  {
   "cell_type": "markdown",
   "metadata": {},
   "source": [
    "### Delta version"
   ]
  },
  {
   "cell_type": "code",
   "execution_count": 12,
   "metadata": {},
   "outputs": [
    {
     "data": {
      "image/png": "[encoded data removed]",
      "text/plain": [
       "<Figure size 432x360 with 1 Axes>"
      ]
     },
     "metadata": {},
     "output_type": "display_data"
    }
   ],
   "source": [
    "grouped = ports.groupby('period', dropna=True).mean()\n",
    "\n",
    "plt.style.use('seaborn')\n",
    "fig, ax = plt.subplots(1, 1, figsize=(6, 5))\n",
    "ax.plot(grouped['new_debt'] + grouped['savings'], linewidth = 3)      # Levered investments\n",
    "ax.plot(grouped['savings'], linewidth = 3)\n",
    "#ax.get_yaxis().set_visible(False)\n",
    "ax.set_xlabel('Year')\n",
    "ax.set_ylabel('DKK', rotation=0, loc='top', labelpad=-21)\n",
    "ax.set_title('Net monthly investments')\n",
    "ax.legend(['Levered strategy', 'Unlevered strategy'])\n",
    "fig.tight_layout()"
   ]
  },
  {
   "cell_type": "code",
   "execution_count": 16,
   "metadata": {},
   "outputs": [
    {
     "data": {
      "image/png": "[encoded data removed]",
      "text/plain": [
       "<Figure size 432x360 with 1 Axes>"
      ]
     },
     "metadata": {},
     "output_type": "display_data"
    }
   ],
   "source": [
    "fig, ax = plt.subplots(1, 1, figsize=(6, 5))\n",
    "ax.plot(grouped['dual_phase'].loc['2020-01-01':'2040-01-01'], linewidth = 3)      # Levered investments\n",
    "ax.plot(grouped['100'].loc['2020-01-01':'2040-01-01'], linewidth = 3)\n",
    "#ax.get_yaxis().set_visible(False)\n",
    "ax.set_xlabel('Year')\n",
    "ax.set_ylabel('DKK', rotation=0, loc='top', labelpad=-21)\n",
    "ax.legend(['Levered strategy', 'Unlevered strategy'])\n",
    "fig.tight_layout()"
   ]
  },
  {
   "cell_type": "code",
   "execution_count": null,
   "metadata": {},
   "outputs": [],
   "source": []
  }
 ],
 "metadata": {
  "kernelspec": {
   "display_name": "Python 3",
   "language": "python",
   "name": "python3"
  },
  "language_info": {
   "codemirror_mode": {
    "name": "ipython",
    "version": 3
   },
   "file_extension": ".py",
   "mimetype": "text/x-python",
   "name": "python",
   "nbconvert_exporter": "python",
   "pygments_lexer": "ipython3",
   "version": "3.7.0"
  }
 },
 "nbformat": 4,
 "nbformat_minor": 4
}
