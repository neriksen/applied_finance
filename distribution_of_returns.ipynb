{
 "cells": [
  {
   "cell_type": "code",
   "execution_count": 3,
   "metadata": {},
   "outputs": [
    {
     "data": {
      "application/vnd.jupyter.widget-view+json": {
       "model_id": "496786bcc0bd413e9a091a721d335e77",
       "version_major": 2,
       "version_minor": 0
      },
      "text/plain": [
       "interactive(children=(Dropdown(description='sim_type', options=('garch', 't', 'norm', 'draw'), value='garch'),…"
      ]
     },
     "metadata": {},
     "output_type": "display_data"
    },
    {
     "data": {
      "text/plain": [
       "<function __main__.plot_sims(y, sim_type, random_seeds, BEGINNING_SAVINGS=9041, YEARLY_INFL_ADJUSTMENT=0.0, PAY_TAXES=True, YEARS=60, GAMMA=2.5, YEARLY_RF=0.02, YEARLY_MR=0.04, COST=0.002, SIGMA=0.02837, MR=0.076)>"
      ]
     },
     "execution_count": 3,
     "metadata": {},
     "output_type": "execute_result"
    }
   ],
   "source": [
    "from ipywidgets import interact\n",
    "from ipywidgets import fixed\n",
    "import matplotlib.pyplot as plt\n",
    "import seaborn as sns\n",
    "import calculate_return\n",
    "\n",
    "\n",
    "def plot_sims(y, sim_type, random_seeds, BEGINNING_SAVINGS = 9041,\n",
    "                   YEARLY_INFL_ADJUSTMENT = 0.0, PAY_TAXES = True, YEARS = 60, GAMMA = 2.5,\n",
    "                   YEARLY_RF = 0.02, YEARLY_MR = 0.04, COST = 0.002,\n",
    "                   SIGMA = 0.02837, MR = 0.076):\n",
    "    \n",
    "    ports = calculate_return.fetch_returns(sim_type, random_seeds, BEGINNING_SAVINGS,\n",
    "                   YEARLY_INFL_ADJUSTMENT, PAY_TAXES, YEARS, GAMMA,\n",
    "                   YEARLY_RF, YEARLY_MR, COST,\n",
    "                   SIGMA, MR)\n",
    "    \n",
    "    ports = ports.groupby(level=0).mean()\n",
    "    fig, ax= plt.subplots(1, 1, figsize=(10,7))\n",
    "    ax.plot(ports.loc[:,[*y]])\n",
    "    ax.legend([*y])\n",
    "    plt.show()\n",
    "\n",
    "interactive_plot = interact(plot_sims, y=fixed(['tv_u', '100', '9050']), sim_type = ['garch', 't', 'norm', 'draw'],\n",
    "                                                               random_seeds = fixed(range(15)), \n",
    "                           BEGINNING_SAVINGS = range(6000, 20000, 1000),\n",
    "                   YEARLY_INFL_ADJUSTMENT = (0, 0.05, 0.01), PAY_TAXES = True, YEARS = (20, 60, 10), GAMMA = (1, 2.5, 0.1),\n",
    "                   YEARLY_RF = (0, 0.04, 0.005), YEARLY_MR = (0.03, 0.08, 0.005), COST=(0, 0.01, 0.001),\n",
    "                   SIGMA = fixed(0.02837), MR = fixed(0.076))\n",
    "interactive_plot"
   ]
  },
  {
   "cell_type": "code",
   "execution_count": 8,
   "metadata": {},
   "outputs": [
    {
     "data": {
      "application/vnd.jupyter.widget-view+json": {
       "model_id": "4db05e5140544efe88de9e12a607b3f2",
       "version_major": 2,
       "version_minor": 0
      },
      "text/plain": [
       "interactive(children=(Dropdown(description='sim_type', options=('garch', 't', 'norm', 'draw'), value='garch'),…"
      ]
     },
     "metadata": {},
     "output_type": "display_data"
    },
    {
     "data": {
      "text/plain": [
       "<function __main__.plot_dist(y, sim_type, random_seeds, BEGINNING_SAVINGS=9041, YEARLY_INFL_ADJUSTMENT=0.0, PAY_TAXES=True, YEARS=60, GAMMA=2.5, YEARLY_RF=0.02, YEARLY_MR=0.04, COST=0.002, SIGMA=0.02837, MR=0.076)>"
      ]
     },
     "execution_count": 8,
     "metadata": {},
     "output_type": "execute_result"
    }
   ],
   "source": [
    "def plot_dist(y, sim_type, random_seeds, BEGINNING_SAVINGS = 9041,\n",
    "                   YEARLY_INFL_ADJUSTMENT = 0.0, PAY_TAXES = True, YEARS = 60, GAMMA = 2.5,\n",
    "                   YEARLY_RF = 0.02, YEARLY_MR = 0.04, COST = 0.002,\n",
    "                   SIGMA = 0.02837, MR = 0.076):\n",
    "    \n",
    "    ports = calculate_return.fetch_returns(sim_type, random_seeds, BEGINNING_SAVINGS,\n",
    "                   YEARLY_INFL_ADJUSTMENT, PAY_TAXES, YEARS, GAMMA,\n",
    "                   YEARLY_RF, YEARLY_MR, COST,\n",
    "                   SIGMA, MR)\n",
    "    \n",
    "    data = ports.loc[YEARS*12, :].melt(value_vars=['tv_u', '100', '9050'], \n",
    "                       value_name='end_wealth', \n",
    "                       var_name = 'strategy')\n",
    "\n",
    "    fig, ax = plt.subplots(figsize=(15, 10))\n",
    "    sns.kdeplot(data = data, x='end_wealth', \n",
    "                hue='strategy',\n",
    "                cumulative=True,\n",
    "               linewidth = 3)\n",
    "    plt.show()\n",
    "\n",
    "interactive_plot = interact(plot_dist, y=fixed(['tv_u', '100', '9050']), sim_type = ['garch', 't', 'norm', 'draw'],\n",
    "                                                               random_seeds = fixed(range(400)), \n",
    "                           BEGINNING_SAVINGS = range(6000, 20000, 1000),\n",
    "                   YEARLY_INFL_ADJUSTMENT = (0, 0.05, 0.01), PAY_TAXES = True, YEARS = (20, 60, 10), GAMMA = (1, 2.5, 0.1),\n",
    "                   YEARLY_RF = (0, 0.04, 0.005), YEARLY_MR = (0.03, 0.08, 0.005), COST=(0, 0.01, 0.001),\n",
    "                   SIGMA = fixed(0.02837), MR = fixed(0.076))\n",
    "interactive_plot"
   ]
  }
 ],
 "metadata": {
  "kernelspec": {
   "display_name": "Python 3",
   "language": "python",
   "name": "python3"
  },
  "language_info": {
   "codemirror_mode": {
    "name": "ipython",
    "version": 3
   },
   "file_extension": ".py",
   "mimetype": "text/x-python",
   "name": "python",
   "nbconvert_exporter": "python",
   "pygments_lexer": "ipython3",
   "version": "3.7.0"
  }
 },
 "nbformat": 4,
 "nbformat_minor": 4
}
