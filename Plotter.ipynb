{
 "cells": [
  {
   "cell_type": "code",
   "execution_count": null,
   "metadata": {},
   "outputs": [],
   "source": [
    "import pandas as pd\n",
    "import matplotlib.pyplot as plt\n",
    "import numpy as np\n",
    "import datetime as dt\n",
    "import simulate\n",
    "import seaborn as sns\n",
    "import calculate_return as cr\n",
    "pd.set_option('display.float_format', lambda x: '%.3f' % x)\n",
    "pd.set_option('display.max_rows', 1000)"
   ]
  },
  {
   "cell_type": "code",
   "execution_count": null,
   "metadata": {},
   "outputs": [],
   "source": [
    "spx = pd.read_csv('^GSPC.csv', index_col=0,parse_dates=True)"
   ]
  },
  {
   "cell_type": "markdown",
   "metadata": {},
   "source": [
    "### Defining market to simulate"
   ]
  },
  {
   "cell_type": "code",
   "execution_count": null,
   "metadata": {},
   "outputs": [],
   "source": [
    "start = dt.date(2020, 1, 1)\n",
    "end = dt.date(2060, 1, 1)\n",
    "Market = simulate.Market(spx.iloc[-7500:, -2], start, end)"
   ]
  },
  {
   "cell_type": "markdown",
   "metadata": {},
   "source": [
    "Simulating data"
   ]
  },
  {
   "cell_type": "code",
   "execution_count": null,
   "metadata": {},
   "outputs": [],
   "source": [
    "garch = Market.garch(log=False)\n",
    "tdist = Market.t_innovations(log=False)\n",
    "draw = Market.draw(log = False, with_replacement = True, freq = 'D')\n",
    "norm = Market.norm_innovations(log=False)\n",
    "empirical=spx.iloc[-10437:, -2].pct_change().to_frame()"
   ]
  },
  {
   "cell_type": "markdown",
   "metadata": {},
   "source": [
    "Plotting Returns"
   ]
  },
  {
   "cell_type": "code",
   "execution_count": null,
   "metadata": {},
   "outputs": [],
   "source": [
    "f, ax1= plt.subplots(1, 1, figsize=(15,12))\n",
    "\n",
    "ax1.plot(empirical['Adj Close'], alpha=.8)\n",
    "ax1.set_ylabel('Yearly Returns')\n",
    "ax1.set_ylim((-0.35,0.35))"
   ]
  },
  {
   "cell_type": "code",
   "execution_count": null,
   "metadata": {},
   "outputs": [],
   "source": [
    "f, (ax1,ax2,ax3,ax4,) = plt.subplots(4, 1, figsize=(15,12))\n",
    "\n",
    "ax1.plot(garch[\"Price\"].pct_change(), alpha=.8)\n",
    "ax1.set_ylabel('Yearly Returns')\n",
    "ax1.set_ylim((-0.35,0.35))\n",
    "\n",
    "ax2.plot(tdist['Price'].pct_change(), alpha=.8)\n",
    "ax2.set_ylabel('Yearly Returns')\n",
    "ax2.set_ylim((-0.35,0.35))\n",
    "\n",
    "ax3.plot(norm['Price'].pct_change(), alpha=.8)\n",
    "ax3.set_ylabel('Yearly Returns')\n",
    "ax3.set_ylim((-0.35,0.35))\n",
    "\n",
    "ax4.plot(draw['Price'].pct_change(), alpha=.8)\n",
    "ax4.set_ylabel('Yearly Returns')\n",
    "ax4.set_ylim((-0.35,0.35))"
   ]
  },
  {
   "cell_type": "markdown",
   "metadata": {},
   "source": [
    "Plotting Histograms of returns"
   ]
  },
  {
   "cell_type": "code",
   "execution_count": null,
   "metadata": {},
   "outputs": [],
   "source": [
    "fig, ax = plt.subplots(1, 1, figsize=(10, 10))\n",
    "\n",
    "#sns.kdeplot(data=garch['Price'].pct_change(),clip=(-0.1, 0.1),Label='GJR-GARCH(1,1)')\n",
    "#sns.kdeplot(data=spx.iloc[-10437:, -2].pct_change(),clip=(-0.1, 0.1),Label='Empirical density')\n",
    "\n",
    "#sns.kdeplot(data=tdist['Price'].pct_change(),clip=(-0.1, 0.1),Label='Skewed Students t-distribution')\n",
    "#sns.kdeplot(data=spx.iloc[-10437:, -2].pct_change(),clip=(-0.1, 0.1),Label='Empirical density')\n",
    "\n",
    "#sns.kdeplot(data=norm['Price'].pct_change(),clip=(-0.1, 0.1),Label='Normal distribution')\n",
    "#sns.kdeplot(data=spx.iloc[-10437:, -2].pct_change(),clip=(-0.1, 0.1),Label='Empirical density')\n",
    "\n",
    "sns.kdeplot(data=draw['Price'].pct_change(),clip=(-0.1, 0.1),Label='Draw with Replacement')\n",
    "sns.kdeplot(data=spx.iloc[-10437:, -2].pct_change(),clip=(-0.1, 0.1),Label='Empirical density')\n",
    "\n",
    "plt.xlabel('Returns') \n",
    "plt.ylabel('Probability Density') \n"
   ]
  },
  {
   "cell_type": "code",
   "execution_count": null,
   "metadata": {},
   "outputs": [],
   "source": [
    "garch = Market.garch(log=False)\n",
    "naive = Market.t_innovations(log=False)\n",
    "draw = Market.draw(log = False, with_replacement = True, freq = 'D')\n",
    "norm = Market.norm_innovations(log=False)\n",
    "\n",
    "f, (ax1, ax2 , ax3) = plt.subplots(3, 1, figsize=(15,12))\n",
    "ax1.plot(garch[\"Price\"], alpha=.8)\n",
    "ax1.plot(naive['Price'], alpha=.8)\n",
    "ax1.plot(draw['Price'], alpha=.8)\n",
    "ax1.plot(norm['Price'], alpha=.8)\n",
    "ax1.set_title('Market')\n",
    "ax1.legend(['garch', 'naive_t', 'draw with replace', 'naive_norm'])\n",
    "ax1.set_yscale('log')\n",
    "\n",
    "ax2.plot(garch[\"data\"], alpha=.5)\n",
    "ax2.plot(naive['Price'].pct_change()*100+20, alpha=.5)\n",
    "ax2.plot(draw['Price'].pct_change()*100+40, alpha=.5)\n",
    "ax2.plot(norm['Price'].pct_change()*100+60, alpha=.5)\n",
    "ax2.set_ylim(-20, 80)\n",
    "ax2.set_title('returns')\n",
    "#ax2.set_yscale('LOG')\n",
    "\n",
    "ax3.plot(garch[\"volatility\"])\n",
    "ax3.set_title('Volatility')\n",
    "#ax3.set_yscale('LOG')"
   ]
  },
  {
   "cell_type": "markdown",
   "metadata": {},
   "source": [
    "Simulating many markets"
   ]
  },
  {
   "cell_type": "code",
   "execution_count": null,
   "metadata": {},
   "outputs": [],
   "source": [
    "def many_market(market, num_simulations):\n",
    "    '''\n",
    "    this simulated nobs markets with a horizon of years years\n",
    "\n",
    "    return a dataframe with nobs columns and years*252 rows \n",
    "    '''\n",
    "    data = pd.DataFrame()\n",
    "    \n",
    "    for i in range(num_simulations):\n",
    "        data[\"Price_\" + str(i)] = market.garch(log = True)['Price']\n",
    "    return data"
   ]
  },
  {
   "cell_type": "markdown",
   "metadata": {},
   "source": [
    "Descriptive statistic of simulations"
   ]
  },
  {
   "cell_type": "code",
   "execution_count": null,
   "metadata": {},
   "outputs": [],
   "source": [
    "Market = simulate.Market(spx.iloc[-7500:, -2], start, end)\n",
    "final_returns=many_market(Market, 1000).iloc[-1, :]"
   ]
  },
  {
   "cell_type": "code",
   "execution_count": null,
   "metadata": {},
   "outputs": [],
   "source": [
    "plt.hist(final_returns, bins = 100, histtype='step', range=[-10000, 200000])\n",
    "plt.show()"
   ]
  },
  {
   "cell_type": "markdown",
   "metadata": {},
   "source": [
    "Plotting wealth with error"
   ]
  },
  {
   "cell_type": "code",
   "execution_count": null,
   "metadata": {},
   "outputs": [],
   "source": [
    "savings_year = pd.read_csv('investment_plan_year.csv', sep=';', index_col=0)\n",
    "savings_year.index = pd.to_datetime(savings_year.index, format='%Y')\n",
    "savings_month = (savings_year.resample('BMS').pad() / 12)['Earnings'].values\n",
    "investments = savings_month * 0.05\n",
    "ports = cr.fetch_returns(investments = investments,\n",
    "                         sim_type = 'garch',\n",
    "                         random_seeds = range(10000),\n",
    "                         GAMMA = 2.5,\n",
    "                         YEARLY_RF = 0.02,\n",
    "                         YEARLY_MR = 0.04,\n",
    "                         COST = 0.002,\n",
    "                         save_to_file = False)"
   ]
  },
  {
   "cell_type": "code",
   "execution_count": null,
   "metadata": {},
   "outputs": [],
   "source": [
    "def plotter(Variable,n=1000,log=False):\n",
    "    y = ports[[Variable]].sort_index() \n",
    "    #Finder mean og std_afv per periode\n",
    "    Data = y.groupby(level='period').mean()\n",
    "    Data['std_dev']=y.groupby(level='period').std()\n",
    "    Data=Data.rename(columns={Variable:'Mean'})\n",
    "\n",
    "    #udregner øvre og nedre 95% confidens interval\n",
    "    Data['Upper band']=Data['Mean']+1.96*Data['std_dev']/np.sqrt(n)\n",
    "    Data['Lower band']=Data['Mean']-1.96*Data['std_dev']/np.sqrt(n)\n",
    "\n",
    "    #plotting y with errorband +- error\n",
    "    plt.plot(Data['Mean'],'-k')\n",
    "    if log==True:\n",
    "        plt.yscale('log')\n",
    "    plt.fill_between(Data.index,Data['Lower band'], Data['Upper band'],alpha=0.5)\n",
    "    #plt.legend(Variable)\n",
    "\n"
   ]
  },
  {
   "cell_type": "code",
   "execution_count": null,
   "metadata": {},
   "outputs": [],
   "source": [
    "plotter('cash')\n",
    "plotter('total_debt')\n",
    "plotter('pv_u')\n",
    "plotter(\"tv_u\")\n",
    "plt.show()"
   ]
  },
  {
   "cell_type": "code",
   "execution_count": null,
   "metadata": {},
   "outputs": [],
   "source": [
    "ports"
   ]
  },
  {
   "cell_type": "code",
   "execution_count": null,
   "metadata": {},
   "outputs": [],
   "source": []
  }
 ],
 "metadata": {
  "kernelspec": {
   "display_name": "Python 3",
   "language": "python",
   "name": "python3"
  },
  "language_info": {
   "codemirror_mode": {
    "name": "ipython",
    "version": 3
   },
   "file_extension": ".py",
   "mimetype": "text/x-python",
   "name": "python",
   "nbconvert_exporter": "python",
   "pygments_lexer": "ipython3",
   "version": "3.7.4-final"
  }
 },
 "nbformat": 4,
 "nbformat_minor": 4
}
