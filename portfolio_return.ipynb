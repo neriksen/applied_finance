{
 "cells": [
  {
   "cell_type": "code",
   "execution_count": 1,
   "metadata": {},
   "outputs": [],
   "source": [
    "from spx_analysis import simulate_market \n",
    "import pandas as pd\n",
    "import matplotlib.pyplot as plt\n",
    "import numpy as np\n",
    "import datetime as dt\n",
    "from datetime import datetime as dt, timedelta"
   ]
  },
  {
   "cell_type": "code",
   "execution_count": 48,
   "metadata": {},
   "outputs": [],
   "source": [
    "spx = pd.read_csv('^GSPC.csv', index_col=0)\n",
    "\n",
    "spx.index = pd.to_datetime(spx.index).year\n",
    "spx['daily_chg'] = np.log(spx['Adj Close']) - np.log(spx['Adj Close'].shift(1))"
   ]
  },
  {
   "cell_type": "code",
   "execution_count": 90,
   "metadata": {},
   "outputs": [
    {
     "name": "stdout",
     "output_type": "stream",
     "text": [
      "15915\n"
     ]
    }
   ],
   "source": [
    "\n",
    "years = 60\n",
    "\n",
    "start_date = dt(2020, 1, 1)\n",
    "end_date = dt(2080, 12, 31)\n",
    "days = pd.date_range(start_date, end_date, freq='B')\n",
    "\n",
    "# Random market\n",
    "market = simulate_market(start_date, end_date, spx['daily_chg'][-20*252:]*100)\n",
    "market.set_index(days, inplace=True)\n",
    "\n",
    "# Annualizing returns\n",
    "market = market.asfreq('Y', method='ffill', normalize=True)\n",
    "market.index = market.index.year"
   ]
  },
  {
   "cell_type": "markdown",
   "metadata": {},
   "source": [
    "## Combining with investment profile"
   ]
  },
  {
   "cell_type": "code",
   "execution_count": 107,
   "metadata": {},
   "outputs": [],
   "source": [
    "inv_plan = pd.read_csv('investment_plan.csv', sep=';', index_col=0)\n",
    "market['Price'] = market['Price']*100/market['Price'].iloc[0]"
   ]
  },
  {
   "cell_type": "code",
   "execution_count": 114,
   "metadata": {},
   "outputs": [],
   "source": [
    "def calculate_return(inv, market):\n",
    "    assert len(inv) == len(market), 'Investment plan should be same no of periods as market' \n",
    "    inv['Roll_contribution'] = inv['Contributions'].cumsum()\n",
    "    inv['Price'] = market['Price']\n",
    "    inv['Account_value'] = inv['Roll_contribution']*inv['Gearing']\n",
    "    \n",
    "    inv['Notional_debt'] = 0\n",
    "    \n",
    "    for i in range(len(inv)):\n",
    "        gearing = inv.iloc[i, 0]\n",
    "        cont = inv.iloc[i, 1]\n",
    "        inv.iloc[i, 6] = max(gearing-1, 0)*cont\n",
    "\n",
    "        \n",
    "    inv['Total_notional_debt'] = inv['Notional_debt'].cumsum()\n",
    "    inv['Total_debt'] = 0\n",
    "    inv['Total_debt'].iloc[0] = inv['Total_debt'].iloc[0] \n",
    "    inv['Accrued_interest'] = 0\n",
    "    \n",
    "    \n",
    "    for i in range(len(inv)):\n",
    "        debt_cost = inv.iloc[i, 2]\n",
    "        total_debt = inv.iloc[i, 1]\n",
    "        #inv.iloc[i, 6] = max(gearing-1, 0)*cont\n",
    "\n",
    "    return inv"
   ]
  },
  {
   "cell_type": "code",
   "execution_count": 115,
   "metadata": {},
   "outputs": [
    {
     "name": "stdout",
     "output_type": "stream",
     "text": [
      "      Gearing  Contributions  Debt cost  Roll_contribution          Price  \\\n",
      "Year                                                                        \n",
      "2020     2.00         100000       0.03             100000     100.000000   \n",
      "2021     2.00         105000       0.03             205000     111.990431   \n",
      "2022     2.00         110250       0.03             315250     178.144121   \n",
      "2023     2.00         115763       0.03             431013     192.417568   \n",
      "2024     2.00         121551       0.03             552564     204.588567   \n",
      "...       ...            ...        ...                ...            ...   \n",
      "2076     0.79         532877       0.03           21870919   43338.825399   \n",
      "2077     0.77         527548       0.03           22398467   47968.354162   \n",
      "2078     0.76         522273       0.03           22920740   70878.500767   \n",
      "2079     0.74         517050       0.03           23437790   87423.178121   \n",
      "2080     0.73         511879       0.03           23949669  140438.273076   \n",
      "\n",
      "      Account_value  Notional_debt  Total_notional_debt  Total_debt  \\\n",
      "Year                                                                  \n",
      "2020      200000.00       100000.0            100000.00           0   \n",
      "2021      410000.00       105000.0            205000.00           0   \n",
      "2022      630500.00       110250.0            315250.00           0   \n",
      "2023      862026.00       115763.0            431013.00           0   \n",
      "2024     1105128.00       121551.0            552564.00           0   \n",
      "...             ...            ...                  ...         ...   \n",
      "2076    17278026.01            0.0           5840889.72           0   \n",
      "2077    17246819.59            0.0           5840889.72           0   \n",
      "2078    17419762.40            0.0           5840889.72           0   \n",
      "2079    17343964.60            0.0           5840889.72           0   \n",
      "2080    17483258.37            0.0           5840889.72           0   \n",
      "\n",
      "      Accrued_interest  \n",
      "Year                    \n",
      "2020                 0  \n",
      "2021                 0  \n",
      "2022                 0  \n",
      "2023                 0  \n",
      "2024                 0  \n",
      "...                ...  \n",
      "2076                 0  \n",
      "2077                 0  \n",
      "2078                 0  \n",
      "2079                 0  \n",
      "2080                 0  \n",
      "\n",
      "[61 rows x 10 columns]\n"
     ]
    },
    {
     "name": "stderr",
     "output_type": "stream",
     "text": [
      "/Users/nielseriksen/Library/Python/3.8/lib/python/site-packages/pandas/core/indexing.py:670: SettingWithCopyWarning: \n",
      "A value is trying to be set on a copy of a slice from a DataFrame\n",
      "\n",
      "See the caveats in the documentation: https://pandas.pydata.org/pandas-docs/stable/user_guide/indexing.html#returning-a-view-versus-a-copy\n",
      "  iloc._setitem_with_indexer(indexer, value)\n"
     ]
    }
   ],
   "source": [
    "test = calculate_return(inv_plan, market)\n",
    "print(test)"
   ]
  },
  {
   "cell_type": "code",
   "execution_count": null,
   "metadata": {},
   "outputs": [],
   "source": []
  }
 ],
 "metadata": {
  "kernelspec": {
   "display_name": "Python 3",
   "language": "python",
   "name": "python3"
  },
  "language_info": {
   "codemirror_mode": {
    "name": "ipython",
    "version": 3
   },
   "file_extension": ".py",
   "mimetype": "text/x-python",
   "name": "python",
   "nbconvert_exporter": "python",
   "pygments_lexer": "ipython3",
   "version": "3.8.2"
  }
 },
 "nbformat": 4,
 "nbformat_minor": 4
}
