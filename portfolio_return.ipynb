{
 "cells": [
  {
   "cell_type": "code",
   "execution_count": 140,
   "metadata": {},
   "outputs": [],
   "source": [
    "from spx_analysis import simulate_market \n",
    "import pandas as pd\n",
    "import matplotlib.pyplot as plt\n",
    "import numpy as np"
   ]
  },
  {
   "cell_type": "code",
   "execution_count": 171,
   "metadata": {},
   "outputs": [],
   "source": [
    "spx = pd.read_csv('^GSPC.csv', index_col=0)\n",
    "\n",
    "spx.index = pd.to_datetime(spx.index)\n",
    "spx['daily_chg'] = np.log(spx['Adj Close']) - np.log(spx['Adj Close'].shift(1))\n",
    "\n",
    "#sims = 50\n",
    "#markets = np.empty((60*252, sims))\n",
    "#for j in range(sims):\n",
    "#    markets[:, j] = simulate_market(60, spx['daily_chg'][-20*252:]*100)['Price']"
   ]
  },
  {
   "cell_type": "code",
   "execution_count": 169,
   "metadata": {},
   "outputs": [
    {
     "data": {
      "text/plain": [
       "[<matplotlib.lines.Line2D at 0x13185b550>]"
      ]
     },
     "execution_count": 169,
     "metadata": {},
     "output_type": "execute_result"
    },
    {
     "data": {
      "image/png": "[encoded data removed]",
      "text/plain": [
       "<Figure size 432x288 with 1 Axes>"
      ]
     },
     "metadata": {
      "needs_background": "light"
     },
     "output_type": "display_data"
    }
   ],
   "source": [
    "plt.plot(markets.mean(axis=1))"
   ]
  },
  {
   "cell_type": "code",
   "execution_count": 196,
   "metadata": {},
   "outputs": [],
   "source": [
    "from datetime import datetime as dt, timedelta\n",
    "years = 60\n",
    "\n",
    "date_today = dt.today()\n",
    "days = pd.date_range(date_today, periods = years*252, freq='B')\n",
    "\n",
    "# Random market\n",
    "market = simulate_market(years, spx['daily_chg'][-20*252:]*100)\n",
    "market.set_index(days, inplace=True)\n",
    "\n",
    "# Annualizing returns\n",
    "market = market.asfreq('Y', method='ffill')\n",
    "\n",
    "# \n"
   ]
  },
  {
   "cell_type": "code",
   "execution_count": null,
   "metadata": {},
   "outputs": [],
   "source": []
  },
  {
   "cell_type": "code",
   "execution_count": null,
   "metadata": {},
   "outputs": [],
   "source": []
  }
 ],
 "metadata": {
  "kernelspec": {
   "display_name": "Python 3",
   "language": "python",
   "name": "python3"
  },
  "language_info": {
   "codemirror_mode": {
    "name": "ipython",
    "version": 3
   },
   "file_extension": ".py",
   "mimetype": "text/x-python",
   "name": "python",
   "nbconvert_exporter": "python",
   "pygments_lexer": "ipython3",
   "version": "3.8.2"
  }
 },
 "nbformat": 4,
 "nbformat_minor": 4
}
