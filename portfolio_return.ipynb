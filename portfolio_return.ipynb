{
 "cells": [
  {
   "cell_type": "code",
   "execution_count": null,
   "metadata": {},
   "outputs": [],
   "source": [
    "import pandas as pd\n",
    "import matplotlib.pyplot as plt\n",
    "import numpy as np\n",
    "import datetime as dt\n",
    "from datetime import timedelta\n",
    "import simulate\n",
    "pd.options.display.float_format = '{:20,.2f}'.format\n",
    "pd.set_option('display.max_rows', 100)"
   ]
  },
  {
   "cell_type": "code",
   "execution_count": null,
   "metadata": {},
   "outputs": [],
   "source": [
    "spx = pd.read_csv('^GSPC.csv', index_col=0)\n",
    "\n",
    "start = dt.date(2020, 1, 1)\n",
    "end = dt.date(2080, 12, 31)\n",
    "\n",
    "\n",
    "Market = simulate.Market(spx.iloc[-7500:, -2], start, end)"
   ]
  },
  {
   "cell_type": "markdown",
   "metadata": {},
   "source": [
    "## Setting up functions to calculate performance"
   ]
  },
  {
   "cell_type": "code",
   "execution_count": null,
   "metadata": {},
   "outputs": [],
   "source": [
    "def nd(s, pv_u, dst, td, cash, phase, g):\n",
    "    # determine new debt dependent on phase\n",
    "\t# dont aquire debt or repay debt in phase 3 or 4\n",
    "    if phase == 3 or phase == 4:\n",
    "        return 0, s\n",
    "    \n",
    "    if phase == 1:\n",
    "        upper_debt_limit = pv_u/(1+g)\n",
    "        new_debt = min(max(g*s, g*(pv_u-td)), dst-pv_u-s)\n",
    "        return (new_debt, s)\n",
    "    \n",
    "    if phase == 2: \n",
    "        stocks_sold = max(pv_u-dst, 0)\n",
    "        debt_repayment = min(td, s + stocks_sold)\n",
    "        leftover_savings = max(s-debt_repayment - stocks_sold, 0)\n",
    "        return -debt_repayment, leftover_savings"
   ]
  },
  {
   "cell_type": "code",
   "execution_count": null,
   "metadata": {},
   "outputs": [],
   "source": [
    "def update_cash(phase, pv_u, tv_u, s, cash, pi_rf, pi_hat):\n",
    "    if phase <= 3:\n",
    "        return 0, s\n",
    "    \n",
    "    if phase == 4:\n",
    "        \n",
    "        desired_cash = (1-pi_rf)*(tv_u+s)\n",
    "        desired_savings = (pi_rf)*(tv_u+s)\n",
    "        change_in_stock = desired_savings - pv_u\n",
    "        \n",
    "        #check_pi = (pv_u + change_in_stock)/(tv_u+s)\n",
    "        \n",
    "        return desired_cash, change_in_stock"
   ]
  },
  {
   "cell_type": "code",
   "execution_count": null,
   "metadata": {},
   "outputs": [],
   "source": [
    "def phase_check(phase, pi_rf, pi_rm, pi_hat, td):\n",
    "    if phase == 4:\n",
    "        return 4\n",
    "    \n",
    "    if td > 0:\n",
    "        #has target not been reached?\n",
    "        if pi_hat < pi_rm and phase <= 1:\n",
    "            return 1\n",
    "        else:\n",
    "            # if target has been reached once and debt remains, stay in phase 2\n",
    "            return 2\n",
    "    \n",
    "    #if target has been reached and no debt remains\n",
    "    #is the value still above the target?\n",
    "    if pi_hat < pi_rf:\n",
    "        return 3\n",
    "    else:\n",
    "        return 4"
   ]
  },
  {
   "cell_type": "code",
   "execution_count": null,
   "metadata": {},
   "outputs": [],
   "source": [
    "def calc_pi(gamma, sigma, mr, rate, cost = 0):\n",
    "    return (mr - cost - rate)/(gamma * sigma)"
   ]
  },
  {
   "cell_type": "code",
   "execution_count": null,
   "metadata": {},
   "outputs": [],
   "source": [
    "update_cash(4, 900, 1000, 50, 100, 0.8333333333333333333, 0.9)"
   ]
  },
  {
   "cell_type": "markdown",
   "metadata": {},
   "source": [
    "## Combining with investment profile"
   ]
  },
  {
   "cell_type": "code",
   "execution_count": null,
   "metadata": {},
   "outputs": [],
   "source": [
    "savings = pd.read_csv('investment_plan.csv', sep=';', index_col=0)['Earnings'].values"
   ]
  },
  {
   "cell_type": "code",
   "execution_count": null,
   "metadata": {},
   "outputs": [],
   "source": [
    "def calculate_return(savings, market_returns, gearing_cap, pi_rf, pi_rm, rf, rm):\n",
    "    \n",
    "    # Running controls\n",
    "    assert len(savings) == len(market), 'Investment plan should be same no of periods as market' \n",
    "    \n",
    "    # Setting up constants and dataframe for calculation\n",
    "    ses = savings.sum()     # Possibly add more sophisticated discounting\n",
    "    ist = pi_rm*ses\n",
    "    columns = ['period', 'savings', 'cash', 'new_debt', 'total_debt', 'nip', 'pv_p', \n",
    "               'interest', 'market_returns', 'pv_u', 'tv_u', 'dst', 'phase', 'pi_hat', 'ses']\n",
    "    \n",
    "    pp = pd.DataFrame(np.empty((len(savings), len(columns))), columns = columns)\n",
    "    \n",
    "    pp['ses'] = ses\n",
    "    pp['period'] = range(len(savings))\n",
    "    pp['market_returns'] = market_returns\n",
    "    pp['savings'] = savings\n",
    "    pp.loc[0, 'market_returns'] = 0\n",
    "    \n",
    "                      \n",
    "    # Period 0 primo\n",
    "    pp.loc[0, 'cash'] = 0\n",
    "    pp.loc[0, 'new_debt'] = pp.loc[0, 'savings']*gearing_cap\n",
    "    pp.loc[0, 'total_debt'] = pp.loc[0, 'new_debt']\n",
    "    pp.loc[0, 'nip'] = pp.loc[0, 'new_debt'] + pp.loc[0, 'savings']\n",
    "    pp.loc[0, 'pv_p'] = pp.loc[0, 'nip']\n",
    "    pp.loc[0, 'pi_hat'] =  pp.loc[0, 'pv_p']/ses\n",
    "    \n",
    "    # Period 0 ultimo\n",
    "    pp.loc[0, 'interest'] = pp.loc[0, 'new_debt']*rm                   \n",
    "    pp.loc[0, 'pv_u'] = pp.loc[0, 'pv_p']                 \n",
    "    pp.loc[0, 'tv_u'] = pp.loc[0, 'pv_u'] + pp.loc[0, 'cash']\n",
    "    pp.loc[0, 'dst'] = ist\n",
    "    pp.loc[0, 'phase'] = 1\n",
    "    \n",
    "              \n",
    "    \n",
    "    # Looping over all reminaning periods\n",
    "    for i in range(1, len(savings)):\n",
    " \n",
    "\n",
    "        # Period t > 0 primo\n",
    "        pp.loc[i, 'cash'] = pp.loc[i-1, 'cash']*(1+rf) \n",
    "        pp.loc[i, 'new_debt'], pp.loc[i, 'savings'] = nd(pp.loc[i, 'savings'], pp.loc[i-1, 'pv_u'], \n",
    "                                                         pp.loc[i-1, 'dst'], pp.loc[i-1, 'total_debt'],\n",
    "                                                         pp.loc[i-1, 'cash'], pp.loc[i-1, 'phase'], gearing_cap)\n",
    "        pp.loc[i, 'total_debt'] = pp.loc[i-1, 'total_debt'] + pp.loc[i, 'new_debt']\n",
    "        \n",
    "        pp.loc[i, 'cash'], pp.loc[i, 'savings'] = update_cash(pp.loc[i-1, 'phase'], pp.loc[i-1, 'pv_u'], pp.loc[i-1, 'tv_u'],\n",
    "                                                                     pp.loc[i, 'savings'], pp.loc[i, 'cash'], pi_rf, pp.loc[i-1, 'pi_hat'])\n",
    "\n",
    "        pp.loc[i, 'nip'] = pp.loc[i, 'savings'] + max(0, pp.loc[i, 'new_debt'])\n",
    "        pp.loc[i, 'pv_p'] = pp.loc[i-1, 'pv_u'] + pp.loc[i, 'nip']        \n",
    "        \n",
    "        \n",
    "        # Period t > 0 ultimo\n",
    "        pp.loc[i, 'interest'] = max(pp.loc[i, 'total_debt']*rm, 0)\n",
    "        pp.loc[i, 'pv_u'] = pp.loc[i, 'pv_p']*(1+pp.loc[i, 'market_returns'])-pp.loc[i, 'interest']\n",
    "        pp.loc[i, 'tv_u'] = pp.loc[i, 'pv_u'] + pp.loc[i, 'cash']\n",
    "        pp.loc[i, 'pi_hat'] = min(pp.loc[i, 'pv_u']/ses, pp.loc[i, 'pv_u']/pp.loc[i, 'tv_u'])\n",
    "        \n",
    "        pp.loc[i, 'phase'] = phase_check(pp.loc[i-1, 'phase'], pi_rf, pi_rm, pp.loc[i, 'pi_hat'], pp.loc[i, 'total_debt'])\n",
    "        target_pi = pi_rm if pp.loc[i-1, 'phase'] < 3 else pi_rf\n",
    "        pp.loc[i, 'dst'] = max(pp.loc[i, 'tv_u']*target_pi, ist)  # Moving stock target\n",
    "        #pp.loc[i, 'dst'] = max(pp.loc[i-1, 'dst'], max(pp.loc[i, 'tv_u']*target_pi, ist))  # Moving stock target        \n",
    "\n",
    "    return pp"
   ]
  },
  {
   "cell_type": "code",
   "execution_count": null,
   "metadata": {},
   "outputs": [],
   "source": [
    "def calculate100return(savings, market_returns):\n",
    "     # Running controls\n",
    "    assert len(savings) == len(market), 'Investment plan should be same no of periods as market' \n",
    "    \n",
    "    columns = ['period', 'savings', 'pv_p', 'market_returns', 'tv_u']\n",
    "        \n",
    "    pp = pd.DataFrame(np.empty((len(savings), len(columns))), columns = columns)\n",
    "    \n",
    "    pp['period'] = range(len(savings))\n",
    "    pp['market_returns'] = market_returns\n",
    "    pp['savings'] = savings\n",
    "    pp.loc[0, 'market_returns'] = 0\n",
    "    pp.loc[0, 'pv_p'] = pp.loc[0, 'savings']\n",
    "    pp.loc[0, 'tv_u'] = pp.loc[0, 'savings']\n",
    "    \n",
    "    for i in range(1, len(savings)):\n",
    " \n",
    "        # Period t > 0 primo\n",
    "        pp.loc[i, 'pv_p'] = pp.loc[i-1, 'tv_u'] + pp.loc[i, 'savings']        \n",
    "        \n",
    "        # Period t > 0 ultimo\n",
    "        pp.loc[i, 'tv_u'] = pp.loc[i, 'pv_p']*(1+pp.loc[i, 'market_returns'])\n",
    "    \n",
    "    return pp"
   ]
  },
  {
   "cell_type": "code",
   "execution_count": null,
   "metadata": {},
   "outputs": [],
   "source": [
    "def calculate9050return(savings, market_returns, rf):\n",
    "    # Strategy where 90% of value is initially invested in stocks, rest in risk free asset\n",
    "    # Ratio of stocks falls linearly to 50% by age 65 and stays there\n",
    "    \n",
    "    # Running controls\n",
    "    assert len(savings) == len(market), 'Investment plan should be same no of periods as market' \n",
    "    \n",
    "    columns = ['period',  'savings', 'cash', 'pv_p', 'market_returns', 'pv_u', 'tv_u', 'ratio']\n",
    "        \n",
    "    pp = pd.DataFrame(np.empty((len(savings), len(columns))), columns = columns)\n",
    "\n",
    "    pp['period'] = range(len(savings))\n",
    "    pp['market_returns'] = market_returns\n",
    "    pp['savings'] = savings\n",
    "    pp.loc[0, 'market_returns'] = 0\n",
    "    pp.loc[0, 'pv_p'] = pp.loc[0, 'savings']*0.9\n",
    "    pp.loc[0, 'cash'] = pp.loc[0, 'savings']*0.1\n",
    "    pp.loc[0, 'pv_u'] = pp.loc[0, 'pv_p']    \n",
    "    pp.loc[0, 'tv_u'] = pp.loc[0, 'savings']\n",
    "    pp.loc[0, 'ratio'] = 90\n",
    "    \n",
    "    for i in range(1, len(savings)):\n",
    "        ratio = max(90 - pp.loc[i, 'period'], 50)\n",
    "        pp.loc[i, 'ratio'] = ratio\n",
    "        \n",
    "        # Period t > 0 primo\n",
    "        pp.loc[i, 'pv_p'] = pp.loc[i-1, 'pv_u'] + pp.loc[i, 'savings']*(ratio/100)        \n",
    "        pp.loc[i, 'cash'] = pp.loc[i-1, 'cash']*(1+rf) + pp.loc[i, 'savings']*(1-ratio/100)\n",
    "        \n",
    "        # Period t > 0 ultimo\n",
    "        pp.loc[i, 'pv_u'] = pp.loc[i, 'pv_p']*(1+pp.loc[i, 'market_returns'])\n",
    "        pp.loc[i, 'tv_u'] = pp.loc[i, 'pv_u'] + pp.loc[i, 'cash']\n",
    "    \n",
    "    return pp"
   ]
  },
  {
   "cell_type": "code",
   "execution_count": null,
   "metadata": {},
   "outputs": [],
   "source": [
    "investments = savings*0.05\n",
    "\n",
    "rf = 0.02\n",
    "rm = 0.03\n",
    "\n",
    "gamma = 1.5\n",
    "sigma = 0.20**2\n",
    "mr = 0.07\n",
    "\n",
    "pi_rf = calc_pi(gamma, sigma, mr, rf, cost = 0)\n",
    "pi_rm = calc_pi(gamma, sigma, mr, rm, cost = 0)\n",
    "print('pi_rf:', pi_rf, ' pi_rm:', pi_rm)\n",
    "\n",
    "market = Market.norm_innovations(random_state=11).asfreq('BYS', 'pad')\n",
    "\n",
    "port = calculate_return(investments, market['Price'].pct_change().values, 1, pi_rf, pi_rm, rf, rm)\n",
    "port100 = calculate100return(investments, market['Price'].pct_change().values)\n",
    "port9050 = calculate9050return(investments, market['Price'].pct_change().values, rf)"
   ]
  },
  {
   "cell_type": "code",
   "execution_count": null,
   "metadata": {},
   "outputs": [],
   "source": [
    "fig, ax = plt.subplots(1, 1, figsize = (15, 15))\n",
    "vars_to_plot = ['cash', 'total_debt', 'tv_u', '100tvu', '9050tvu']\n",
    "port['100tvu'] = port100['tv_u']\n",
    "port['9050tvu'] = port9050['tv_u']\n",
    "ax.plot(port.loc[:,vars_to_plot])\n",
    "ax.legend(vars_to_plot)"
   ]
  },
  {
   "cell_type": "markdown",
   "metadata": {},
   "source": [
    "## Characteristics of strategies"
   ]
  },
  {
   "cell_type": "code",
   "execution_count": null,
   "metadata": {},
   "outputs": [],
   "source": [
    "std = port.loc[:, ['tv_u', '100tvu', '9050tvu']].pct_change().std()\n",
    "\n",
    "horizon = Market.years-1\n",
    "mean_return = (port.loc[horizon, ['tv_u', '100tvu', '9050tvu']]/port.loc[0, ['tv_u', '100tvu', '9050tvu']])**(1/horizon)-1"
   ]
  },
  {
   "cell_type": "code",
   "execution_count": null,
   "metadata": {},
   "outputs": [],
   "source": [
    "mean_return"
   ]
  },
  {
   "cell_type": "code",
   "execution_count": null,
   "metadata": {},
   "outputs": [],
   "source": [
    "std"
   ]
  },
  {
   "cell_type": "code",
   "execution_count": null,
   "metadata": {},
   "outputs": [],
   "source": [
    "sharpe = mean_return/std"
   ]
  },
  {
   "cell_type": "code",
   "execution_count": null,
   "metadata": {},
   "outputs": [],
   "source": [
    "sharpe"
   ]
  },
  {
   "cell_type": "code",
   "execution_count": null,
   "metadata": {},
   "outputs": [],
   "source": []
  }
 ],
 "metadata": {
  "kernelspec": {
   "display_name": "Python 3",
   "language": "python",
   "name": "python3"
  },
  "language_info": {
   "codemirror_mode": {
    "name": "ipython",
    "version": 3
   },
   "file_extension": ".py",
   "mimetype": "text/x-python",
   "name": "python",
   "nbconvert_exporter": "python",
   "pygments_lexer": "ipython3",
   "version": "3.8.2"
  }
 },
 "nbformat": 4,
 "nbformat_minor": 4
}
