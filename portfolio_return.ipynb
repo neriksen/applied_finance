{
 "cells": [
  {
   "cell_type": "code",
   "execution_count": 1,
   "metadata": {},
   "outputs": [],
   "source": [
    "import pandas as pd\n",
    "import matplotlib.pyplot as plt\n",
    "import numpy as np\n",
    "import datetime as dt\n",
    "from datetime import timedelta\n",
    "import simulate"
   ]
  },
  {
   "cell_type": "code",
   "execution_count": 54,
   "metadata": {},
   "outputs": [],
   "source": [
    "spx = pd.read_csv('^GSPC.csv', index_col=0)\n",
    "\n",
    "start = dt.date(2020, 1, 1)\n",
    "end = dt.date(2080, 12, 31)\n",
    "\n",
    "Market = simulate.Market(spx.iloc[-7500:, -2], start, end)"
   ]
  },
  {
   "cell_type": "markdown",
   "metadata": {},
   "source": [
    "## Simulating a market"
   ]
  },
  {
   "cell_type": "code",
   "execution_count": 46,
   "metadata": {},
   "outputs": [],
   "source": [
    "market = Market\n",
    "\n",
    "# Annualizing returns\n",
    "#market.index = market.index.year"
   ]
  },
  {
   "cell_type": "code",
   "execution_count": 55,
   "metadata": {},
   "outputs": [
    {
     "data": {
      "text/plain": [
       "Date\n",
       "1991-06-03     2.043175\n",
       "1991-07-01    -2.612994\n",
       "1991-08-01     2.434373\n",
       "1991-09-02     2.146621\n",
       "1991-10-01    -1.575495\n",
       "                ...    \n",
       "2020-09-01     7.043012\n",
       "2020-10-01    -4.135649\n",
       "2020-11-02    -2.087082\n",
       "2020-12-01    10.640013\n",
       "2021-01-01     2.556216\n",
       "Freq: BMS, Name: Adj Close, Length: 356, dtype: float64"
      ]
     },
     "execution_count": 55,
     "metadata": {},
     "output_type": "execute_result"
    }
   ],
   "source": [
    "Market.pct_monthly"
   ]
  },
  {
   "cell_type": "code",
   "execution_count": 42,
   "metadata": {},
   "outputs": [
    {
     "data": {
      "text/plain": [
       "[<matplotlib.lines.Line2D at 0x120a837c0>]"
      ]
     },
     "execution_count": 42,
     "metadata": {},
     "output_type": "execute_result"
    },
    {
     "data": {
      "image/png": "[encoded data removed]",
      "text/plain": [
       "<Figure size 432x288 with 1 Axes>"
      ]
     },
     "metadata": {
      "needs_background": "light"
     },
     "output_type": "display_data"
    }
   ],
   "source": [
    "plt.plot(market['Price'])"
   ]
  },
  {
   "cell_type": "markdown",
   "metadata": {},
   "source": [
    "## Combining with investment profile"
   ]
  },
  {
   "cell_type": "code",
   "execution_count": 142,
   "metadata": {},
   "outputs": [],
   "source": [
    "inv_plan = pd.read_csv('investment_plan.csv', sep=';', index_col=0)\n",
    "market['Price'] = market['Price']*100/market['Price'].iloc[0]"
   ]
  },
  {
   "cell_type": "code",
   "execution_count": 143,
   "metadata": {},
   "outputs": [],
   "source": [
    "def calculate_return(inv, market, gearing_cap, pi):\n",
    "    print(len(inv), len(market))\n",
    "    assert len(inv) == len(market), 'Investment plan should be same no of periods as market' \n",
    "    \n",
    "    total_savings = 'savings_contributions'.sum()\n",
    "    r_f = 0.02\n",
    "    \n",
    "    \n",
    "    \n",
    "    columns = ['period', 'savings_contributions', 'contributions', 'roll_contributions', 'new_debt', 'total_debt', 'interest', 'total_exposure', 'portfolio_return', 'market_returns']\n",
    "    \n",
    "    inv['Market'] = market['Price']\n",
    "    \n",
    "    \n",
    "    \n",
    "    \n",
    "    \n",
    "    \n",
    "    \n",
    "    \n",
    "    \n",
    "    \n",
    "    \n",
    "    \n",
    "    \n",
    "    \n",
    "    \n",
    "    inv['Roll_contribution'] = inv['Contributions'].cumsum()\n",
    "    inv['Price'] = market['Price']\n",
    "    inv['Account_value'] = 0\n",
    "    inv['Total_debt'] = 0\n",
    "    inv['New_debt'] = 0\n",
    "    inv['Dollar_return'] = 0\n",
    "    \n",
    "    inv['Return'] = inv['Price'].pct_change()\n",
    "    \n",
    "    \n",
    "    # Calculating debt\n",
    "    for i in range(len(inv)):\n",
    "        interest_rate = inv.iloc[i, 2]\n",
    "        gearing = inv.iloc[i, 0]\n",
    "        cont = inv.iloc[i, 1]\n",
    "        new_debt = max(gearing-1, 0)*cont\n",
    "        inv.iloc[i, 7] = new_debt\n",
    "        \n",
    "        # Calculating interest and total debt\n",
    "        if i > 0:\n",
    "            previous_debt = inv.iloc[i-1, 6]\n",
    "            accrued_interest = previous_debt*(1+interest_rate)\n",
    "        else:\n",
    "            accrued_interest = 0\n",
    "        \n",
    "        total_debt = new_debt + accrued_interest\n",
    "        inv.iloc[i, 6] = total_debt\n",
    "    \n",
    "        # Calculating total return\n",
    "        if i == 0:\n",
    "            account_value = new_debt + cont\n",
    "        else:\n",
    "            previous_account_value = inv.iloc[i-1, 5]\n",
    "            period_return = inv.iloc[i, 9]\n",
    "            account_value = (previous_account_value + (new_debt + cont))*(1+period_return)\n",
    "        \n",
    "\n",
    "        inv.iloc[i, 5] = account_value\n",
    "        # Dollar return net debt\n",
    "        inv.iloc[i, 8] = account_value - total_debt\n",
    "\n",
    "\n",
    "    return inv"
   ]
  },
  {
   "cell_type": "code",
   "execution_count": 144,
   "metadata": {},
   "outputs": [
    {
     "name": "stdout",
     "output_type": "stream",
     "text": [
      "61 61\n"
     ]
    }
   ],
   "source": [
    "port = calculate_return(inv_plan, market)"
   ]
  },
  {
   "cell_type": "code",
   "execution_count": 145,
   "metadata": {},
   "outputs": [
    {
     "name": "stderr",
     "output_type": "stream",
     "text": [
      "<ipython-input-145-eceebd34809c>:7: UserWarning: Data has no positive values, and therefore cannot be log-scaled.\n",
      "  ax[1].set_yscale('log')\n"
     ]
    },
    {
     "data": {
      "text/plain": [
       "Text(0.5, 1.0, 'Portfolio contributions')"
      ]
     },
     "execution_count": 145,
     "metadata": {},
     "output_type": "execute_result"
    },
    {
     "data": {
      "image/png": "[encoded data removed]",
      "text/plain": [
       "<Figure size 720x720 with 3 Axes>"
      ]
     },
     "metadata": {
      "needs_background": "light"
     },
     "output_type": "display_data"
    }
   ],
   "source": [
    "fig,ax = plt.subplots(3, 1, figsize=(10, 10))\n",
    "ax[0].plot(port['Price'])\n",
    "ax[0].set_title('Market development')\n",
    "ax[0].set_yscale('log')\n",
    "ax[1].plot(port['Dollar_return'])\n",
    "ax[1].set_title('Account value')\n",
    "ax[1].set_yscale('log')\n",
    "ax[2].bar(height=port['Contributions'], x=port.index)\n",
    "ax[2].set_title('Portfolio contributions')"
   ]
  },
  {
   "cell_type": "code",
   "execution_count": null,
   "metadata": {},
   "outputs": [],
   "source": []
  }
 ],
 "metadata": {
  "kernelspec": {
   "display_name": "Python 3",
   "language": "python",
   "name": "python3"
  },
  "language_info": {
   "codemirror_mode": {
    "name": "ipython",
    "version": 3
   },
   "file_extension": ".py",
   "mimetype": "text/x-python",
   "name": "python",
   "nbconvert_exporter": "python",
   "pygments_lexer": "ipython3",
   "version": "3.8.2"
  }
 },
 "nbformat": 4,
 "nbformat_minor": 4
}
