{
 "cells": [
  {
   "cell_type": "code",
   "execution_count": null,
   "metadata": {},
   "outputs": [],
   "source": [
    "from spx_analysis import simulate_market \n",
    "import pandas as pd\n",
    "import matplotlib.pyplot as plt\n",
    "import numpy as np\n",
    "import datetime as dt\n",
    "from datetime import datetime as dt, timedelta"
   ]
  },
  {
   "cell_type": "code",
   "execution_count": null,
   "metadata": {},
   "outputs": [],
   "source": [
    "spx = pd.read_csv('^GSPC.csv', index_col=0)\n",
    "\n",
    "spx.index = pd.to_datetime(spx.index).year\n",
    "spx['daily_chg'] = np.log(spx['Adj Close']) - np.log(spx['Adj Close'].shift(1))"
   ]
  },
  {
   "cell_type": "markdown",
   "metadata": {},
   "source": [
    "## Simulating a market"
   ]
  },
  {
   "cell_type": "code",
   "execution_count": null,
   "metadata": {},
   "outputs": [],
   "source": [
    "years = 60\n",
    "\n",
    "start_date = dt(2020, 1, 1)\n",
    "end_date = dt(2080, 12, 31)\n",
    "days = pd.date_range(start_date, end_date, freq='B')\n",
    "\n",
    "# Random market\n",
    "market = simulate_market(start_date, end_date, spx['daily_chg'][-20*252:]*100)\n",
    "market.set_index(days, inplace=True)\n",
    "\n",
    "# Annualizing returns\n",
    "market = market.asfreq('Y', method='ffill', normalize=True)\n",
    "market.index = market.index.year"
   ]
  },
  {
   "cell_type": "markdown",
   "metadata": {},
   "source": [
    "## Combining with investment profile"
   ]
  },
  {
   "cell_type": "code",
   "execution_count": null,
   "metadata": {},
   "outputs": [],
   "source": [
    "inv_plan = pd.read_csv('investment_plan.csv', sep=';', index_col=0)\n",
    "market['Price'] = market['Price']*100/market['Price'].iloc[0]"
   ]
  },
  {
   "cell_type": "code",
   "execution_count": null,
   "metadata": {},
   "outputs": [],
   "source": [
    "def calculate_return(inv, market):\n",
    "    assert len(inv) == len(market), 'Investment plan should be same no of periods as market' \n",
    "    inv['Roll_contribution'] = inv['Contributions'].cumsum()\n",
    "    inv['Price'] = market['Price']\n",
    "    inv['Account_value'] = 0\n",
    "    inv['Total_debt'] = 0\n",
    "    inv['New_debt'] = 0\n",
    "    inv['Dollar_return'] = 0\n",
    "    \n",
    "    inv['Return'] = inv['Price'].pct_change()\n",
    "    \n",
    "    \n",
    "    # Calculating debt\n",
    "    for i in range(len(inv)):\n",
    "        interest_rate = inv.iloc[i, 2]\n",
    "        gearing = inv.iloc[i, 0]\n",
    "        cont = inv.iloc[i, 1]\n",
    "        new_debt = max(gearing-1, 0)*cont\n",
    "        inv.iloc[i, 7] = new_debt\n",
    "        \n",
    "        # Calculating interest and total debt\n",
    "        if i > 0:\n",
    "            previous_debt = inv.iloc[i-1, 6]\n",
    "            accrued_interest = previous_debt*(1+interest_rate)\n",
    "        else:\n",
    "            accrued_interest = 0\n",
    "        \n",
    "        total_debt = new_debt + accrued_interest\n",
    "        inv.iloc[i, 6] = total_debt\n",
    "    \n",
    "        # Calculating total return\n",
    "        if i == 0:\n",
    "            account_value = new_debt + cont\n",
    "        else:\n",
    "            previous_account_value = inv.iloc[i-1, 5]\n",
    "            period_return = inv.iloc[i, 9]\n",
    "            account_value = (previous_account_value + (new_debt + cont))*(1+period_return)\n",
    "        \n",
    "\n",
    "        inv.iloc[i, 5] = account_value\n",
    "        # Dollar return net debt\n",
    "        inv.iloc[i, 8] = account_value - total_debt\n",
    "\n",
    "\n",
    "    return inv"
   ]
  },
  {
   "cell_type": "code",
   "execution_count": null,
   "metadata": {},
   "outputs": [],
   "source": [
    "port = calculate_return(inv_plan, market)"
   ]
  },
  {
   "cell_type": "code",
   "execution_count": null,
   "metadata": {},
   "outputs": [],
   "source": [
    "fig,ax = plt.subplots(3, 1, figsize=(10, 10))\n",
    "ax[0].plot(port['Price'])\n",
    "ax[0].set_title('Market development')\n",
    "ax[0].set_yscale('log')\n",
    "ax[1].plot(port['Dollar_return'])\n",
    "ax[1].set_title('Account value')\n",
    "ax[1].set_yscale('log')\n",
    "ax[2].bar(height=port['Contributions'], x=port.index)\n",
    "ax[2].set_title('Portfolio contributions')"
   ]
  }
 ],
 "metadata": {
  "kernelspec": {
   "display_name": "Python 3",
   "language": "python",
   "name": "python3"
  },
  "language_info": {
   "codemirror_mode": {
    "name": "ipython",
    "version": 3
   },
   "file_extension": ".py",
   "mimetype": "text/x-python",
   "name": "python",
   "nbconvert_exporter": "python",
   "pygments_lexer": "ipython3",
   "version": "3.8.2"
  }
 },
 "nbformat": 4,
 "nbformat_minor": 4
}
