{
 "cells": [
  {
   "cell_type": "code",
   "execution_count": null,
   "metadata": {},
   "outputs": [],
   "source": [
    "import pandas as pd\n",
    "import scipy.stats as stats\n",
    "import matplotlib.pyplot as plt\n",
    "import numpy as np\n",
    "import arch\n",
    "import datetime as dt\n",
    "import simulate"
   ]
  },
  {
   "cell_type": "code",
   "execution_count": null,
   "metadata": {},
   "outputs": [],
   "source": [
    "spx = pd.read_csv('^GSPC.csv', index_col=0)"
   ]
  },
  {
   "cell_type": "markdown",
   "metadata": {},
   "source": [
    "### Defining market to simulate"
   ]
  },
  {
   "cell_type": "code",
   "execution_count": null,
   "metadata": {},
   "outputs": [],
   "source": [
    "start = dt.date(2020, 1, 1)\n",
    "end = dt.date(2060, 1, 1)\n",
    "\n",
    "Market = simulate.Market(spx.iloc[-7500:, -2], start, end)"
   ]
  },
  {
   "cell_type": "markdown",
   "metadata": {},
   "source": [
    "Plotting"
   ]
  },
  {
   "cell_type": "code",
   "execution_count": null,
   "metadata": {},
   "outputs": [],
   "source": [
    "garch = Market.garch(log=False, random_state = 2)\n",
    "naive = Market.innovations(log=False, random_state = 3)\n",
    "draw = Market.draw(log = False, with_replacement = True, freq = 'M', random_state = 2)\n",
    "\n",
    "f, (ax1, ax2 , ax3) = plt.subplots(3, 1, figsize=(15,12))\n",
    "ax1.plot(garch[\"Price\"])\n",
    "ax1.plot(naive['Price'])\n",
    "ax1.plot(draw['Price'])\n",
    "ax1.set_title('Market')\n",
    "ax1.legend(['garch', 'naive', 'draw with replacement'])\n",
    "ax1.set_yscale('log')\n",
    "\n",
    "ax2.plot(garch[\"data\"])\n",
    "ax2.set_title('returns')\n",
    "#ax2.set_yscale('LOG')\n",
    "\n",
    "ax3.plot(garch[\"volatility\"])\n",
    "ax3.set_title('Volatility')\n",
    "#ax3.set_yscale('LOG')"
   ]
  },
  {
   "cell_type": "markdown",
   "metadata": {},
   "source": [
    "Simulating many markets"
   ]
  },
  {
   "cell_type": "code",
   "execution_count": null,
   "metadata": {},
   "outputs": [],
   "source": [
    "def many_market(market, num_simulations):\n",
    "    '''\n",
    "    this simulated nobs markets with a horizon of years years\n",
    "\n",
    "    return a dataframe with nobs columns and years*252 rows \n",
    "    '''\n",
    "    data = pd.DataFrame()\n",
    "    \n",
    "    for i in range(num_simulations):\n",
    "        data[\"Price_\" + str(i)] = market.garch(log = True)['Price']\n",
    "    return data"
   ]
  },
  {
   "cell_type": "markdown",
   "metadata": {},
   "source": [
    "Descriptive statistic of simulations"
   ]
  },
  {
   "cell_type": "code",
   "execution_count": null,
   "metadata": {},
   "outputs": [],
   "source": [
    "Market = simulate.Market(spx.iloc[-7500:, -2], start, end)\n",
    "final_returns=many_market(Market, 1000).iloc[-1, :]"
   ]
  },
  {
   "cell_type": "code",
   "execution_count": null,
   "metadata": {},
   "outputs": [],
   "source": [
    "plt.hist(final_returns, bins = 100, histtype='step', range=[-10000, 200000])\n",
    "plt.show()"
   ]
  },
  {
   "cell_type": "markdown",
   "metadata": {},
   "source": [
    "Prospect theory utility function"
   ]
  },
  {
   "cell_type": "code",
   "execution_count": null,
   "metadata": {},
   "outputs": [],
   "source": [
    "def prospect_ut(price_before,price_after,alpha=0.88, beta=0.88, lambdas=2.25):\n",
    "    '''\n",
    "    in prospect theory, investors evaluate losses and gains differently. Assumes two different\n",
    "    domains. Loss domain, where investment with negative returns are evaluted and gain domain for investment with positive return\n",
    "\n",
    "    price_before:      the price in the begining of the evaluation period\n",
    "    price_after:       the price in the end of the evulation period\n",
    "    alpha:             risk aversion in gains\n",
    "    beta:              risk seekingness in losses\n",
    "    lambdas:           psycological harm of loss relativ to gains.\n",
    "\n",
    "    example of price: price before: price of portfolio at 1st of january and price_after the price at 31st of janunary\n",
    "    \n",
    "    returns: utility u\n",
    "    '''\n",
    "    #absolute change\n",
    "    x=price_after-price_before\n",
    "    if x>=0: #if non negative absolute return\n",
    "        u=x**alpha\n",
    "    elif x<0:    #if negative absolute return\n",
    "        u=-lambdas*(-x)**beta\n",
    "    return u\n",
    "    "
   ]
  },
  {
   "cell_type": "code",
   "execution_count": null,
   "metadata": {},
   "outputs": [],
   "source": [
    "print(prospect_ut(100,250))"
   ]
  },
  {
   "cell_type": "markdown",
   "metadata": {},
   "source": [
    "Constant relative risk aversion (CRRA) utility function\n"
   ]
  },
  {
   "cell_type": "code",
   "execution_count": null,
   "metadata": {},
   "outputs": [],
   "source": [
    "def CRRA_ut():\n",
    "    return"
   ]
  }
 ],
 "metadata": {
  "kernelspec": {
   "display_name": "Python 3",
   "language": "python",
   "name": "python3"
  },
  "language_info": {
   "codemirror_mode": {
    "name": "ipython",
    "version": 3
   },
   "file_extension": ".py",
   "mimetype": "text/x-python",
   "name": "python",
   "nbconvert_exporter": "python",
   "pygments_lexer": "ipython3",
   "version": "3.8.2"
  }
 },
 "nbformat": 4,
 "nbformat_minor": 4
}
