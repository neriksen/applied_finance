{
 "cells": [
  {
   "cell_type": "code",
   "execution_count": null,
   "metadata": {},
   "outputs": [],
   "source": [
    "import pandas as pd\n",
    "import scipy.stats as stats\n",
    "import matplotlib.pyplot as plt\n",
    "import numpy as np\n",
    "import arch\n",
    "import datetime as dt"
   ]
  },
  {
   "cell_type": "code",
   "execution_count": null,
   "metadata": {},
   "outputs": [],
   "source": [
    "spx = pd.read_csv('^GSPC.csv', index_col=0)"
   ]
  },
  {
   "cell_type": "code",
   "execution_count": null,
   "metadata": {},
   "outputs": [],
   "source": [
    "spx['daily_chg'] = spx['Adj Close'].pct_change()"
   ]
  },
  {
   "cell_type": "markdown",
   "metadata": {},
   "source": [
    "Fitting GARCH model"
   ]
  },
  {
   "cell_type": "code",
   "execution_count": null,
   "metadata": {},
   "outputs": [],
   "source": [
    "model=arch.arch_model(spx['daily_chg'][1500:]*100, vol='Garch', p=1, o=1, q=1, dist='skewt')\n",
    "results=model.fit()\n",
    "pd.DataFrame(results.params)"
   ]
  },
  {
   "cell_type": "markdown",
   "metadata": {},
   "source": [
    "Simulating based on estimated student-t GARCH model"
   ]
  },
  {
   "cell_type": "code",
   "execution_count": null,
   "metadata": {},
   "outputs": [],
   "source": [
    "def simulate_market(years, data_to_simulate, p=1, o=1, q=1):\n",
    "    '''\n",
    "    Simulated a market using a gjr-garch(1,1) with a skewed t-distribution to draw error term\n",
    "    \n",
    "    returns\n",
    "    \n",
    "    a dataframe with returns, volatility, error terms and market prices given index 100 at t=0\n",
    "    '''\n",
    "    model=arch.arch_model(data_to_simulate, vol='Garch', p=p, o=o, q=q, dist='skewt')\n",
    "    results=model.fit(disp='off')\n",
    "    \n",
    "    #setting horizon\n",
    "    horizon = 252*years\n",
    "    market = np.empty((horizon, 1))\n",
    "    market[0, 0] = 100\n",
    "    rs = np.random.RandomState(2)\n",
    "    \n",
    "    #dist = arch.univariate.SkewStudent(random_state=rs)\n",
    "    dist = arch.univariate.SkewStudent(rs)\n",
    "    vol = arch.univariate.GARCH(p=p, o=o, q=q)\n",
    "    repro_mod = arch.univariate.ConstantMean(data_to_simulate, volatility=vol, distribution=dist)\n",
    "        \n",
    "    \n",
    "    returns=repro_mod.simulate(results.params, horizon)\n",
    "    \n",
    "    for i, err in enumerate(returns[\"data\"].values, start=1):\n",
    "        if i < (horizon):\n",
    "            market[i, 0] = market[i-1, 0]*(1+err/100)\n",
    "    returns[\"Price\"]=pd.DataFrame({'Price':market[:, 0]})\n",
    "    return returns\n",
    "\n"
   ]
  },
  {
   "cell_type": "markdown",
   "metadata": {},
   "source": [
    "Plotting"
   ]
  },
  {
   "cell_type": "code",
   "execution_count": null,
   "metadata": {},
   "outputs": [],
   "source": [
    "horizon = 60\n",
    "returns=simulate_market(horizon, spx['daily_chg'][-252*40:]*100, p=1, q=1)\n",
    "\n",
    "f, (ax1, ax2 , ax3) = plt.subplots(3, 1, figsize=(15,10))\n",
    "ax1.plot(returns[\"Price\"])\n",
    "ax1.set_title('Market')\n",
    "ax1.set_yscale('log')\n",
    "\n",
    "ax2.plot(returns[\"data\"])\n",
    "ax2.set_title('returns')\n",
    "#ax2.set_yscale('LOG')\n",
    "\n",
    "ax3.plot(returns[\"volatility\"])\n",
    "ax3.set_title('Volatility')\n",
    "#ax3.set_yscale('LOG')"
   ]
  },
  {
   "cell_type": "markdown",
   "metadata": {},
   "source": [
    "Simulating many markets"
   ]
  },
  {
   "cell_type": "code",
   "execution_count": null,
   "metadata": {},
   "outputs": [],
   "source": [
    "def many_market(nobs,years):\n",
    "    '''\n",
    "    this simulated nobs markets with a horizon of years years\n",
    "\n",
    "    return a dataframe with nobs columns and years*252 rows \n",
    "    '''\n",
    "    data=pd.DataFrame({'n':range(0,horizon)})\n",
    "    for i in range(0,nobs):\n",
    "        data[\"Price\" + str(i)]=simulate_market(years)[\"Price\"] \n",
    "    return data"
   ]
  },
  {
   "cell_type": "markdown",
   "metadata": {},
   "source": [
    "Descriptive statistic of simulations"
   ]
  },
  {
   "cell_type": "code",
   "execution_count": null,
   "metadata": {},
   "outputs": [],
   "source": [
    "final_returns=many_market(1000,60).iloc[7560,: ].values\n",
    "plt.hist(final_returns, bins = 30)\n",
    "plt.show()"
   ]
  },
  {
   "cell_type": "markdown",
   "metadata": {},
   "source": [
    "Prospect theory utility function"
   ]
  },
  {
   "cell_type": "code",
   "execution_count": null,
   "metadata": {},
   "outputs": [],
   "source": [
    "def prospect_ut(price_before,price_after,alpha=0.88, beta=0.88, lambdas=2.25):\n",
    "    '''\n",
    "    in prospect theory, investors evaluate losses and gains differently. Assumes two different\n",
    "    domains. Loss domain, where investment with negative returns are evaluted and gain domain for investment with positive return\n",
    "\n",
    "    price_before:      the price in the begining of the evaluation period\n",
    "    price_after:       the price in the end of the evulation period\n",
    "    alpha:             risk aversion in gains\n",
    "    beta:              risk seekingness in losses\n",
    "    lambdas:           psycological harm of loss relativ to gains.\n",
    "\n",
    "    example of price: price before: price of portfolio at 1st of january and price_after the price at 31st of janunary\n",
    "    \n",
    "    returns: utility u\n",
    "    '''\n",
    "    #absolute change\n",
    "    x=price_after-price_before\n",
    "    if x>=0: #if non negative absolute return\n",
    "        u=x**alpha\n",
    "    elif x<0:    #if negative absolute return\n",
    "        u=-lambdas*(-x)**beta\n",
    "    return u\n",
    "    "
   ]
  },
  {
   "cell_type": "code",
   "execution_count": null,
   "metadata": {},
   "outputs": [],
   "source": [
    "print(prospect_ut(100,250))"
   ]
  },
  {
   "cell_type": "markdown",
   "metadata": {},
   "source": [
    "Constant relative risk aversion (CRRA) utility function\n"
   ]
  },
  {
   "cell_type": "code",
   "execution_count": null,
   "metadata": {},
   "outputs": [],
   "source": [
    "def CRRA_ut():\n",
    "    return"
   ]
  }
 ],
 "metadata": {
  "kernelspec": {
   "display_name": "Python 3",
   "language": "python",
   "name": "python3"
  },
  "language_info": {
   "codemirror_mode": {
    "name": "ipython",
    "version": 3
   },
   "file_extension": ".py",
   "mimetype": "text/x-python",
   "name": "python",
   "nbconvert_exporter": "python",
   "pygments_lexer": "ipython3",
   "version": "3.8.2"
  }
 },
 "nbformat": 4,
 "nbformat_minor": 4
}
