{
 "cells": [
  {
   "cell_type": "markdown",
   "metadata": {},
   "source": [
    "### Calculating portfolio performance"
   ]
  },
  {
   "cell_type": "code",
   "execution_count": 13,
   "metadata": {},
   "outputs": [],
   "source": [
    "def nd(s, pv_u, dst, td, cash, phase, g):\n",
    "    # determine new debt dependent on phase\n",
    "\t# dont aquire debt or repay debt in phase 3 or 4\n",
    "    if phase == 3 or phase == 4:\n",
    "        return 0, 0\n",
    "    \n",
    "    if phase == 1:\n",
    "        new_debt = min(g*s, dst-pv_u+s)\n",
    "        return new_debt\n",
    "    \n",
    "    if phase == 2: \n",
    "        debt_repayment = min(td, s)\n",
    "        leftover_savings = max(s-debt_repayment, 0)\n",
    "        return debt_repayment, leftover_savings"
   ]
  },
  {
   "cell_type": "code",
   "execution_count": 14,
   "metadata": {},
   "outputs": [],
   "source": [
    "def update_cash(phase, pv_u, tv_u, s, cash, pi):\n",
    "    if phase == 1 or phase == 2:\n",
    "        return 0, s\n",
    "    \n",
    "    if phase == 3:\n",
    "        desired_cash = (1-pi)*(tv_u+s)\n",
    "        new_cash = min(desired_cash, s)\n",
    "        return (cash + new_cash), (s-new_cash)\n",
    "    \n",
    "    if phase == 4:\n",
    "        desired_cash = (1-pi)*(tv_u+s)\n",
    "        return desired_cash, -desired_cash"
   ]
  },
  {
   "cell_type": "code",
   "execution_count": 15,
   "metadata": {},
   "outputs": [],
   "source": [
    "def phase_check(pv_u, dst, phase, td):\n",
    "    if phase == 4:\n",
    "        return 4\n",
    "    \n",
    "    if pv_u < dst and phase <= 2:\n",
    "        return 1\n",
    "    \n",
    "    if td > 0 and pv_u >= dst:\n",
    "        return 2\n",
    "    \n",
    "    if pv_u > dst:\n",
    "        return 3\n",
    "    else:\n",
    "        return 4"
   ]
  },
  {
   "cell_type": "code",
   "execution_count": null,
   "metadata": {},
   "outputs": [],
   "source": []
  }
 ],
 "metadata": {
  "kernelspec": {
   "display_name": "Python 3",
   "language": "python",
   "name": "python3"
  },
  "language_info": {
   "codemirror_mode": {
    "name": "ipython",
    "version": 3
   },
   "file_extension": ".py",
   "mimetype": "text/x-python",
   "name": "python",
   "nbconvert_exporter": "python",
   "pygments_lexer": "ipython3",
   "version": "3.8.2"
  }
 },
 "nbformat": 4,
 "nbformat_minor": 4
}
