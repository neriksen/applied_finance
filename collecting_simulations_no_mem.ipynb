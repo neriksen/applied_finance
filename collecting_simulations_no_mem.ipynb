{
 "cells": [
  {
   "cell_type": "code",
   "execution_count": null,
   "metadata": {},
   "outputs": [],
   "source": [
    "import pandas as pd\n",
    "import calculate_return as cr\n",
    "import datetime as dt\n",
    "import simulate\n",
    "\n",
    "# Creating returns to simulate\n",
    "spx = pd.read_csv('^GSPC.csv', index_col=0)\n",
    "savings_year = pd.read_csv('investment_plan_year.csv', sep=';', index_col=0)\n",
    "savings_year.index = pd.to_datetime(savings_year.index, format='%Y')\n",
    "savings_month = (savings_year.resample('BMS').pad() / 12)['Earnings'].values\n",
    "\n",
    "YEARLY_RF = 0.015\n",
    "YEARLY_RM = 0.04  # Weighted average of margin rates\n",
    "\n",
    "# --- Fixed parameters ----\n",
    "investments = savings_month * 0.05\n",
    "\n",
    "START = dt.date(2020, 1, 1)\n",
    "END = dt.date(2070, 1, 31)\n",
    "Market = simulate.Market(spx.iloc[-7500:, -2], START, END)\n",
    "\n",
    "GAMMA = 2.5\n",
    "SIGMA = Market.yearly.pct_change().std() ** 2\n",
    "MR = (Market.yearly[-1] / Market.yearly[0]) ** (1 / len(Market.yearly)) - 1\n",
    "COST = 0\n",
    "# --- End fixed parameters ----\n"
   ]
  },
  {
   "cell_type": "code",
   "execution_count": null,
   "metadata": {},
   "outputs": [],
   "source": [
    "ports = cr.fetch_returns(investments = investments,\n",
    "                         sim_type = 'garch',\n",
    "                         random_seeds = range(500),\n",
    "                         GAMMA = 2.5,\n",
    "                         YEARLY_RF = 0.02,\n",
    "                         YEARLY_MR = 0.04,\n",
    "                         COST = 0.002,\n",
    "                         save_to_file = False)"
   ]
  },
  {
   "cell_type": "code",
   "execution_count": null,
   "metadata": {},
   "outputs": [],
   "source": [
    "import matplotlib.pyplot as plt"
   ]
  },
  {
   "cell_type": "code",
   "execution_count": null,
   "metadata": {},
   "outputs": [],
   "source": [
    "plt.plot(ports.groupby(level=0).mean()['new_debt'])"
   ]
  },
  {
   "cell_type": "code",
   "execution_count": null,
   "metadata": {},
   "outputs": [],
   "source": []
  },
  {
   "cell_type": "code",
   "execution_count": null,
   "metadata": {},
   "outputs": [],
   "source": []
  }
 ],
 "metadata": {
  "kernelspec": {
   "display_name": "Python 3",
   "language": "python",
   "name": "python3"
  },
  "language_info": {
   "codemirror_mode": {
    "name": "ipython",
    "version": 3
   },
   "file_extension": ".py",
   "mimetype": "text/x-python",
   "name": "python",
   "nbconvert_exporter": "python",
   "pygments_lexer": "ipython3",
   "version": "3.7.0"
  }
 },
 "nbformat": 4,
 "nbformat_minor": 4
}
