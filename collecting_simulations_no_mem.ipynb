{
 "cells": [
  {
   "cell_type": "code",
   "execution_count": 14,
   "metadata": {},
   "outputs": [],
   "source": [
    "import nbinteract as nbi\n",
    "import numpy as np\n",
    "\n",
    "\n",
    "def x_axis(period):\n",
    "    return np.arange(period*12+1)\n",
    "\n",
    "\n",
    "def y_axis(period, BEGINNING_SAVINGS, sim_type='garch', random_seeds=range(10)):\n",
    "    YEARS = int(((len(period)-1)/12)) \n",
    "\n",
    "    ports = calculate_return.fetch_returns(sim_type=sim_type, random_seeds=random_seeds, YEARS=YEARS,\n",
    "                                          BEGINNING_SAVINGS = BEGINNING_SAVINGS)\n",
    "    \n",
    "    ports = ports.groupby(level=0).mean()\n",
    "    #ports = np.linspace(2, 10)\n",
    "    return ports['tv_u'].values"
   ]
  },
  {
   "cell_type": "code",
   "execution_count": 15,
   "metadata": {
    "scrolled": false,
    "tags": []
   },
   "outputs": [
    {
     "data": {
      "application/vnd.jupyter.widget-view+json": {
       "model_id": "6a884084444749e7adac0bfbab3da9c1",
       "version_major": 2,
       "version_minor": 0
      },
      "text/plain": [
       "VBox(children=(interactive(children=(IntSlider(value=40, description='period', max=60, min=20), IntSlider(valu…"
      ]
     },
     "metadata": {},
     "output_type": "display_data"
    }
   ],
   "source": [
    "nbi.line(x_axis, y_axis, period=(20, 60), BEGINNING_SAVINGS=(6000, 9000, 500))"
   ]
  }
 ],
 "metadata": {
  "kernelspec": {
   "display_name": "Python 3",
   "language": "python",
   "name": "python3"
  },
  "language_info": {
   "codemirror_mode": {
    "name": "ipython",
    "version": 3
   },
   "file_extension": ".py",
   "mimetype": "text/x-python",
   "name": "python",
   "nbconvert_exporter": "python",
   "pygments_lexer": "ipython3",
   "version": "3.7.0"
  }
 },
 "nbformat": 4,
 "nbformat_minor": 4
}
