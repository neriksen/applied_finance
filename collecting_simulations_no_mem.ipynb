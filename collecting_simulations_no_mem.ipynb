{
 "cells": [
  {
   "cell_type": "code",
   "execution_count": null,
   "metadata": {},
   "outputs": [],
   "source": [
    "import pandas as pd\n",
    "import datetime as dt\n",
    "import simulate\n",
    "import ipywidgets as widgets\n",
    "import matplotlib.pyplot as plt\n",
    "from ipywidgets import interact\n",
    "from ipywidgets import fixed\n",
    "import pathlib\n",
    "print(pathlib.Path().absolute())\n",
    "\n",
    "\n",
    "# Creating returns to simulate\n",
    "spx = pd.read_csv('^GSPC.csv', index_col=0)\n",
    "savings_year = pd.read_csv('investment_plan_year.csv', sep=';', index_col=0)\n",
    "savings_year.index = pd.to_datetime(savings_year.index, format='%Y')\n",
    "savings_month = (savings_year.resample('BMS').pad() / 12)['Earnings'].values\n",
    "\n",
    "YEARLY_RF = 0.015\n",
    "YEARLY_RM = 0.04  # Weighted average of margin rates\n",
    "\n",
    "# --- Fixed parameters ----\n",
    "investments = savings_month * 0.05\n",
    "\n",
    "START = dt.date(2020, 1, 1)\n",
    "END = dt.date(2070, 1, 31)\n",
    "Market = simulate.Market(spx.iloc[-7500:, -2], START, END)\n",
    "\n",
    "GAMMA = 2.5\n",
    "SIGMA = Market.yearly.pct_change().std() ** 2\n",
    "MR = (Market.yearly[-1] / Market.yearly[0]) ** (1 / len(Market.yearly)) - 1\n",
    "COST = 0\n",
    "# --- End fixed parameters ----\n"
   ]
  },
  {
   "cell_type": "code",
   "execution_count": null,
   "metadata": {},
   "outputs": [],
   "source": [
    "import calculate_return\n",
    "\n",
    "def plot_sims(y, sim_type, random_seeds, BEGINNING_SAVINGS = 9041,\n",
    "                   YEARLY_INFL_ADJUSTMENT = 0.0, PAY_TAXES = True, YEARS = 60, GAMMA = 2.5,\n",
    "                   YEARLY_RF = 0.02, YEARLY_MR = 0.04, COST = 0.002,\n",
    "                   SIGMA = 0.02837, MR = 0.076):\n",
    "    \n",
    "    ports = calculate_return.fetch_returns(sim_type, random_seeds, BEGINNING_SAVINGS,\n",
    "                   YEARLY_INFL_ADJUSTMENT, PAY_TAXES, YEARS, GAMMA,\n",
    "                   YEARLY_RF, YEARLY_MR, COST,\n",
    "                   SIGMA, MR)\n",
    "    ports = ports.groupby(level=0).mean()\n",
    "    fig, ax= plt.subplots(1, 1, figsize=(10,7))\n",
    "    ax.plot(ports.loc[:,[*y]])\n",
    "    ax.legend([*y])\n",
    "    plt.show()\n"
   ]
  },
  {
   "cell_type": "code",
   "execution_count": null,
   "metadata": {},
   "outputs": [],
   "source": [
    "#plot_sims(['tv_u'], 'garch', range(100))\n",
    "from ipywidgets import interact\n",
    "from ipywidgets import fixed\n",
    "import matplotlib.pyplot as plt\n",
    "\n",
    "\n",
    "interactive_plot = interact(plot_sims, y=fixed(['tv_u', '100', '9050']), sim_type = ['garch', 't', 'norm', 'draw'],\n",
    "                                                               random_seeds = fixed(range(15)), \n",
    "                           BEGINNING_SAVINGS = range(6000, 20000, 1000),\n",
    "                   YEARLY_INFL_ADJUSTMENT = (0, 0.05, 0.01), PAY_TAXES = True, YEARS = (20, 60, 10), GAMMA = (1, 2.5, 0.1),\n",
    "                   YEARLY_RF = (0, 0.04, 0.005), YEARLY_MR = (0.03, 0.08, 0.005), COST=(0, 0.01, 0.001),\n",
    "                   SIGMA = fixed(0.02837), MR = fixed(0.076))\n",
    "interactive_plot"
   ]
  },
  {
   "cell_type": "code",
   "execution_count": null,
   "metadata": {},
   "outputs": [],
   "source": []
  },
  {
   "cell_type": "code",
   "execution_count": null,
   "metadata": {},
   "outputs": [],
   "source": []
  }
 ],
 "metadata": {
  "kernelspec": {
   "display_name": "Python 3",
   "language": "python",
   "name": "python3"
  },
  "language_info": {
   "codemirror_mode": {
    "name": "ipython",
    "version": 3
   },
   "file_extension": ".py",
   "mimetype": "text/x-python",
   "name": "python",
   "nbconvert_exporter": "python",
   "pygments_lexer": "ipython3",
   "version": "3.7.0"
  }
 },
 "nbformat": 4,
 "nbformat_minor": 4
}
