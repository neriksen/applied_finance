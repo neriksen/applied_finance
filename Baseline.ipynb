{
 "metadata": {
  "language_info": {
   "codemirror_mode": {
    "name": "ipython",
    "version": 3
   },
   "file_extension": ".py",
   "mimetype": "text/x-python",
   "name": "python",
   "nbconvert_exporter": "python",
   "pygments_lexer": "ipython3",
   "version": "3.8.5"
  },
  "orig_nbformat": 2,
  "kernelspec": {
   "name": "python385jvsc74a57bd0035a4835455b69dd03d840b7a1daac0c5382153a24200b5f58c2216ec44fc40f",
   "display_name": "Python 3.8.5 64-bit (conda)"
  }
 },
 "nbformat": 4,
 "nbformat_minor": 2,
 "cells": [
  {
   "cell_type": "code",
   "execution_count": 1,
   "metadata": {},
   "outputs": [],
   "source": [
    "import pandas as pd\n",
    "import matplotlib.pyplot as plt\n",
    "import numpy as np\n",
    "import datetime as dt\n",
    "import simulate\n",
    "import seaborn as sns\n",
    "import calculate_return as cr\n",
    "import matplotlib\n",
    "pd.set_option('display.float_format', lambda x: '%.3f' % x)\n",
    "pd.set_option('display.max_rows', 1000)\n",
    "plt.style.use('seaborn')"
   ]
  },
  {
   "source": [
    "Fetching Data"
   ],
   "cell_type": "markdown",
   "metadata": {}
  },
  {
   "cell_type": "code",
   "execution_count": 2,
   "metadata": {},
   "outputs": [],
   "source": [
    "ports = cr.fetch_returns(sim_type = 'garch', random_seeds = range(10000))"
   ]
  },
  {
   "source": [
    "Calculating Quantiles"
   ],
   "cell_type": "markdown",
   "metadata": {}
  },
  {
   "cell_type": "code",
   "execution_count": null,
   "metadata": {},
   "outputs": [],
   "source": [
    "y = ports[[\"dual_phase\",\"single_phase\",\"100\",\"9050\"]].sort_index()\n",
    "y = y.loc[(slice(None), '2070-01-01'),:]\n",
    "quantile=y.quantile([0.05,0.1,0.25,0.5,0.75,0.9,0.99],axis=0).round(decimals=1)\n",
    "quantile['dual_phase']=quantile['dual_phase'].apply('{:,}'.format)\n",
    "quantile['100']=quantile['100'].apply('{:,}'.format)\n",
    "quantile['single_phase']=quantile['single_phase'].apply('{:,}'.format)\n",
    "quantile['9050']=quantile['9050'].apply('{:,}'.format)\n",
    "print(quantile)"
   ]
  },
  {
   "source": [
    "Plottin Data"
   ],
   "cell_type": "markdown",
   "metadata": {}
  },
  {
   "cell_type": "code",
   "execution_count": null,
   "metadata": {},
   "outputs": [],
   "source": [
    "plt.rc('font', size=10)          # controls default text sizes\n",
    "plt.rc('axes', titlesize=16)     # fontsize of the axes title\n",
    "plt.rc('axes', labelsize=16)    # fontsize of the x and y labels\n",
    "plt.rc('xtick', labelsize=13)    # fontsize of the tick labels\n",
    "plt.rc('ytick', labelsize=13)    # fontsize of the tick labels\n",
    "plt.rc('legend', fontsize=13)    # legend fontsize\n",
    "plt.rc('figure', titlesize=13)  # fontsize of the figure title"
   ]
  },
  {
   "source": [
    "Density plots"
   ],
   "cell_type": "markdown",
   "metadata": {}
  },
  {
   "cell_type": "code",
   "execution_count": null,
   "metadata": {},
   "outputs": [],
   "source": [
    "fige=y.copy()\n",
    "fige['dual_phase'] = fige['dual_phase'].div(1000000) #Convert into millions\n",
    "fige['single_phase'] = fige['single_phase'].div(1000000) #Convert into millions\n",
    "fige['100'] = fige['100'].div(1000000) #Convert into millions\n",
    "fige['9050'] = fige['9050'].div(1000000) #Convert into millions\n",
    "fig, ax = plt.subplots(1, 1, figsize=(10, 10))\n",
    "sns.kdeplot(data=fige['dual_phase'],clip=(-1, 15),label='Dual Phase')\n",
    "sns.kdeplot(data=fige['single_phase'],clip=(-1, 15),label='Single Phase')\n",
    "sns.kdeplot(data=fige['100'],clip=(-1, 15),label='All stock')\n",
    "sns.kdeplot(data=fige['9050'],clip=(-1, 15),label='Life cycle')\n",
    "ax.set_xlabel('Terminal wealth (MM)') \n",
    "ax.ticklabel_format(style='plain', axis='x')\n",
    "ax.set_ylabel('Probability Density',loc='top', rotation = 0, labelpad = -170)\n",
    "plt.legend()\n",
    "plt.savefig(\"Empirical/density.png\", bbox_inches = 'tight', pad_inches = 0.1)"
   ]
  },
  {
   "source": [
    "Boxplots"
   ],
   "cell_type": "markdown",
   "metadata": {}
  },
  {
   "cell_type": "code",
   "execution_count": null,
   "metadata": {},
   "outputs": [],
   "source": [
    "x = ports[[\"dual_phase\",\"single_phase\",\"100\",\"9050\"]]\n",
    "x = x.rename(columns={'dual_phase':'Dual Phase','single_phase':'Single Phase','100': 'All stock', '9050': 'Life cycle'})\n",
    "x = x.loc[(slice(None), '2070-01-01'),:]\n",
    "x = pd.melt(x)\n",
    "x['value'] = x['value'].div(1000000) #Convert into millions\n",
    "f, ax = plt.subplots(figsize=(10,10))\n",
    "ax = sns.boxplot(x='variable',y='value',data=x,showfliers = False,linewidth=2.5)\n",
    "ax.set_ylabel(\"Terminal Value (MM)\", rotation=0, loc='top', labelpad=-170) \n",
    "plt.xlabel(\"Strategy\")\n",
    "plt.ticklabel_format(style='plain', axis='y',useOffset=True, )\n",
    "plt.savefig(\"Empirical/boxplot.png\", bbox_inches = 'tight', pad_inches = 0.1)"
   ]
  },
  {
   "source": [
    "### Examining Default risk"
   ],
   "cell_type": "markdown",
   "metadata": {}
  },
  {
   "source": [
    "Finding defaulted investors and the timeseries for them"
   ],
   "cell_type": "markdown",
   "metadata": {}
  },
  {
   "cell_type": "code",
   "execution_count": null,
   "metadata": {},
   "outputs": [],
   "source": [
    "z = ports[['savings','cash','total_debt','pv_u','tv_u','dual_phase','single_phase','SU_debt','Nordnet_debt','market_returns']]\n",
    "zz = z.loc[(slice(None), '2070-01-01'),:]\n",
    "zzz = zz[zz['tv_u'] <= 0].reset_index()\n",
    "defaulted=zzz['random_state'].tolist()\n",
    "defaulted_df=z.loc[defaulted,:]\n",
    "data=defaulted_df[['dual_phase','total_debt','market_returns', 'tv_u','pv_u']].reset_index().set_index('period')\n",
    "data=data.groupby(['period']).mean()\n",
    "#print number of defaulted\n",
    "print(len(defaulted)) \n",
    "#Laver cumulative mean returns for defaulted\n",
    "cum_return=data[['market_returns']].reset_index()\n",
    "cum_return['cumulative_returns']=0\n",
    "cum_return.iloc[0,2]=1\n",
    "for i in range(1, 600):\n",
    "        cum_return.iloc[i, 2] = cum_return.iloc[i-1, 2]+cum_return.iloc[i, 1]  \n",
    "cum_return=cum_return.set_index('period')  "
   ]
  },
  {
   "source": [
    "Plotting defaulted investors"
   ],
   "cell_type": "markdown",
   "metadata": {}
  },
  {
   "cell_type": "code",
   "execution_count": null,
   "metadata": {},
   "outputs": [],
   "source": [
    "fig = plt.figure()\n",
    "ax = fig.add_subplot(111)\n",
    "\n",
    "lns1 = ax.plot(data[['dual_phase']], label='Dual Phase')\n",
    "lns2 = ax.plot(data[['tv_u']], label='Total value')\n",
    "lns3 = ax.plot(data[['total_debt']], label='Total debt')\n",
    "ax2 = ax.twinx()\n",
    "lns4 = ax2.plot(cum_return[['cumulative_returns']],color='k',alpha=0.8,linewidth=0.7, label=\"Cumulative Returns (2nd Axis)\")\n",
    "\n",
    "# added these three lines\n",
    "lns = lns1+lns2+lns3+lns4\n",
    "labs = [l.get_label() for l in lns]\n",
    "ax.legend(lns, labs, loc=3)\n",
    "\n",
    "ax2.grid(b=None)\n",
    "ax1.set_xlabel('period')\n",
    "ax.set_ylabel('DKK', rotation=0, loc='top', labelpad=-80)\n",
    "ax2.set_ylabel('Cumulative returns ', rotation=0, loc='top', labelpad=-30, va='bottom')\n",
    "ax2.set_ylim(0,1.3)\n",
    "ax.set_xlim('2020-01-01','2050-01-01')\n",
    "ax.set_axisbelow(True)\n",
    "ax.get_yaxis().set_major_formatter(matplotlib.ticker.FuncFormatter(lambda x, p: format(int(x), ',')))\n",
    "plt.show()\n",
    "\n",
    "fig.savefig(\"Empirical/Defaulted.png\", bbox_inches = 'tight', pad_inches = 0.1)\n",
    "\n"
   ]
  },
  {
   "source": [
    "CRRA Utility"
   ],
   "cell_type": "markdown",
   "metadata": {}
  },
  {
   "cell_type": "code",
   "execution_count": null,
   "metadata": {},
   "outputs": [],
   "source": [
    "def CRRA(Wealth,gamma=2):\n",
    "    \"\"\"\n",
    "    returns the Constant Relative risk aversion utility given risk aversion (gamma) and wealth (W)\n",
    "\n",
    "    Wealth: wealth (float)\n",
    "    gamma: risk aversion (default=2)\n",
    "\n",
    "    return:\n",
    "    Utility (float)\n",
    "    \"\"\"\n",
    "    utility=(Wealth**(1-gamma))/(1-gamma)\n",
    "    return utility"
   ]
  },
  {
   "source": [
    "Certainty equivalent"
   ],
   "cell_type": "markdown",
   "metadata": {}
  },
  {
   "cell_type": "code",
   "execution_count": 3,
   "metadata": {},
   "outputs": [],
   "source": [
    "CE_data = ports[[\"dual_phase\",\"single_phase\",\"100\",\"9050\"]]\n",
    "CE_data = CE_data.loc[(slice(None), '2070-01-01'),:].reset_index()\n",
    "CE_data = CE_data.drop([\"period\"], axis=1).set_index(\"random_state\")"
   ]
  },
  {
   "cell_type": "code",
   "execution_count": 16,
   "metadata": {},
   "outputs": [],
   "source": [
    "def CE(df,variable,gamma=2):\n",
    "    input_list=df[variable][abs(df[variable]) > 10000].to_list()\n",
    "    len_list = len(input_list)\n",
    "    return (1/len_list)**(1/(1-gamma))*sum([(x)**(1-gamma) for x in input_list])**(1/(1-gamma))\n",
    "     "
   ]
  },
  {
   "cell_type": "code",
   "execution_count": 17,
   "metadata": {},
   "outputs": [
    {
     "output_type": "stream",
     "name": "stdout",
     "text": [
      "Dual Phase Certainty equivalent is 1,898,030.635446\nSingle Phase Certainty equivalent is 1,988,516.720619\nAll stock Certainty equivalent is 1,163,905.354848\nLife-cycle Certainty equivalent is 1,584,289.854901\n"
     ]
    }
   ],
   "source": [
    "print(\"Dual Phase Certainty equivalent is \" +f'{CE(CE_data,\"dual_phase\"):,f}')\n",
    "print(\"Single Phase Certainty equivalent is \"+f'{CE(CE_data,\"single_phase\"):,f}')\n",
    "print(\"All stock Certainty equivalent is \" +f'{CE(CE_data,\"100\"):,f}')\n",
    "print(\"Life-cycle Certainty equivalent is \" +f'{CE(CE_data,\"9050\"):,f}')"
   ]
  },
  {
   "cell_type": "code",
   "execution_count": null,
   "metadata": {},
   "outputs": [],
   "source": [
    "(1/2)**(1/(1-2))*((525365)**(1-2)+(774048)**(1-2)+(527618)**(1-2))**(1/(1-2))"
   ]
  },
  {
   "cell_type": "code",
   "execution_count": null,
   "metadata": {},
   "outputs": [],
   "source": [
    "CE_data[\"100\"][CE_data[\"100\"] < 10000].sort_values()"
   ]
  },
  {
   "cell_type": "code",
   "execution_count": null,
   "metadata": {},
   "outputs": [],
   "source": []
  }
 ]
}