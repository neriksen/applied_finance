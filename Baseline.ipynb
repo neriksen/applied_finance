{
 "metadata": {
  "language_info": {
   "codemirror_mode": {
    "name": "ipython",
    "version": 3
   },
   "file_extension": ".py",
   "mimetype": "text/x-python",
   "name": "python",
   "nbconvert_exporter": "python",
   "pygments_lexer": "ipython3",
   "version": 3
  },
  "orig_nbformat": 2
 },
 "nbformat": 4,
 "nbformat_minor": 2,
 "cells": [
  {
   "cell_type": "code",
   "execution_count": null,
   "metadata": {},
   "outputs": [],
   "source": [
    "import pandas as pd\n",
    "import matplotlib.pyplot as plt\n",
    "import numpy as np\n",
    "import datetime as dt\n",
    "import simulate\n",
    "import seaborn as sns\n",
    "import calculate_return as cr\n",
    "pd.set_option('display.float_format', lambda x: '%.3f' % x)\n",
    "pd.set_option('display.max_rows', 1000)\n",
    "plt.style.use('seaborn')"
   ]
  },
  {
   "source": [
    "Fetching Data"
   ],
   "cell_type": "markdown",
   "metadata": {}
  },
  {
   "cell_type": "code",
   "execution_count": null,
   "metadata": {},
   "outputs": [],
   "source": [
    "ports = cr.fetch_returns(sim_type = 'garch', random_seeds = range(10000))"
   ]
  },
  {
   "source": [
    "Calculating Quantiles"
   ],
   "cell_type": "markdown",
   "metadata": {}
  },
  {
   "cell_type": "code",
   "execution_count": null,
   "metadata": {},
   "outputs": [],
   "source": [
    "y = ports[[\"dual_phase\",\"single_phase\",\"100\",\"9050\"]].sort_index()\n",
    "y = y.loc[(slice(None), '2070-01-01'),:]\n",
    "quantile=y.quantile([0.1,0.25,0.5,0.75,0.9,0.99],axis=0).round(decimals=1)\n",
    "quantile['dual_phase']=quantile['dual_phase'].apply('{:,}'.format)\n",
    "quantile['100']=quantile['100'].apply('{:,}'.format)\n",
    "quantile['9050']=quantile['9050'].apply('{:,}'.format)\n",
    "print(quantile)"
   ]
  },
  {
   "source": [
    "Plottin Data"
   ],
   "cell_type": "markdown",
   "metadata": {}
  },
  {
   "cell_type": "code",
   "execution_count": null,
   "metadata": {},
   "outputs": [],
   "source": [
    "SMALL_SIZE = 8\n",
    "MEDIUM_SIZE = 10\n",
    "BIGGER_SIZE = 12\n",
    "\n",
    "plt.rc('font', size=MEDIUM_SIZE)          # controls default text sizes\n",
    "plt.rc('axes', titlesize=MEDIUM_SIZE)     # fontsize of the axes title\n",
    "plt.rc('axes', labelsize=MEDIUM_SIZE)    # fontsize of the x and y labels\n",
    "plt.rc('xtick', labelsize=MEDIUM_SIZE)    # fontsize of the tick labels\n",
    "plt.rc('ytick', labelsize=MEDIUM_SIZE)    # fontsize of the tick labels\n",
    "plt.rc('legend', fontsize=MEDIUM_SIZE)    # legend fontsize\n",
    "plt.rc('figure', titlesize=BIGGER_SIZE)  # fontsize of the figure title"
   ]
  },
  {
   "source": [
    "Density plots"
   ],
   "cell_type": "markdown",
   "metadata": {}
  },
  {
   "cell_type": "code",
   "execution_count": null,
   "metadata": {},
   "outputs": [],
   "source": [
    "fige=y.copy()\n",
    "fige['dual_phase'] = fige['dual_phase'].div(1000000) #Convert into millions\n",
    "fige['single_phase'] = fige['single_phase'].div(1000000) #Convert into millions\n",
    "fige['100'] = fige['100'].div(1000000) #Convert into millions\n",
    "fige['9050'] = fige['9050'].div(1000000) #Convert into millions\n",
    "fig, ax = plt.subplots(1, 1, figsize=(10, 10))\n",
    "sns.kdeplot(data=fige['dual_phase'],clip=(-1, 15),label='Dual Phase')\n",
    "sns.kdeplot(data=fige['single_phase'],clip=(-1, 15),label='Single Phase')\n",
    "sns.kdeplot(data=fige['100'],clip=(-1, 15),label='All stock')\n",
    "sns.kdeplot(data=fige['9050'],clip=(-1, 15),label='Life cycle')\n",
    "ax.set_xlabel('Returns (MM)') \n",
    "ax.ticklabel_format(style='plain', axis='x')\n",
    "ax.set_ylabel('Probability Density',loc='top', rotation = 0, labelpad = -110)\n",
    "plt.savefig(\"Empirical/density.png\", bbox_inches = 'tight', pad_inches = 0.1)"
   ]
  },
  {
   "source": [
    "Boxplots"
   ],
   "cell_type": "markdown",
   "metadata": {}
  },
  {
   "cell_type": "code",
   "execution_count": null,
   "metadata": {},
   "outputs": [],
   "source": [
    "x = ports[[\"dual_phase\",\"single_phase\",\"100\",\"9050\"]]\n",
    "x = x.rename(columns={'dual_phase':'Dual Phase','single_phase':'Single Phase','100': 'All stock', '9050': 'Life cycle'})\n",
    "x = x.loc[(slice(None), '2070-01-01'),:]\n",
    "x = pd.melt(x)\n",
    "x['value'] = x['value'].div(1000000) #Convert into millions\n",
    "f, ax = plt.subplots(figsize=(10,10))\n",
    "ax = sns.boxplot(x='variable',y='value',data=x,showfliers = False,linewidth=2.5)\n",
    "ax.set_ylabel(\"Terminal Value (MM)\", rotation=0, loc='top', labelpad=-120) \n",
    "plt.xlabel(\"Strategy\")\n",
    "plt.ticklabel_format(style='plain', axis='y',useOffset=True, )\n",
    "plt.savefig(\"Empirical/boxplot.png\", bbox_inches = 'tight', pad_inches = 0.1)"
   ]
  },
  {
   "source": [
    "### Examining Default risk"
   ],
   "cell_type": "markdown",
   "metadata": {}
  },
  {
   "source": [
    "Finding defaulted investors and the timeseries for them"
   ],
   "cell_type": "markdown",
   "metadata": {}
  },
  {
   "cell_type": "code",
   "execution_count": null,
   "metadata": {},
   "outputs": [],
   "source": [
    "z = ports[['savings','cash','total_debt','pv_u','tv_u','dual_phase','single_phase','SU_debt','Nordnet_debt','market_returns']]\n",
    "zz = z.loc[(slice(None), '2070-01-01'),:]\n",
    "zzz = zz[zz['tv_u'] <= 0].reset_index()#.sample(n=5)\n",
    "defaulted=zzz['random_state'].tolist()\n",
    "defaulted_df=z.loc[defaulted,:]\n",
    "data=defaulted_df[['dual_phase','total_debt','market_returns', 'tv_u']].reset_index().set_index('period')\n",
    "data=data.groupby(['period']).mean()"
   ]
  },
  {
   "source": [
    "Plotting defaulted investors"
   ],
   "cell_type": "markdown",
   "metadata": {}
  },
  {
   "cell_type": "code",
   "execution_count": null,
   "metadata": {},
   "outputs": [],
   "source": [
    "fig, ax1 = plt.subplots()\n",
    "ax2 = ax1.twinx()\n",
    "ax1.plot(data[['dual_phase','total_debt', 'tv_u']])\n",
    "ax2.plot(data[['market_returns']],color='b')\n",
    "ax1.set_xlabel('period')\n",
    "ax1.set_ylabel('DKK')\n",
    "ax2.set_ylabel('Monthly returns')\n",
    "ax2.set_ylim(-0.1,0.1)\n",
    "plt.show()"
   ]
  }
 ]
}