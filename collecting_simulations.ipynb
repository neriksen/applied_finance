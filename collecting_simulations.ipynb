{
 "cells": [
  {
   "cell_type": "code",
   "execution_count": null,
   "metadata": {},
   "outputs": [],
   "source": [
    "import shutil, os, pandas as pd, numpy as np\n",
    "\n",
    "# Collecting all garch\n",
    "folder = 'sims/garch'\n",
    "dest = folder \n",
    "files = []\n",
    "#count = 0\n",
    "\n",
    "\n",
    "for filename in os.listdir(folder):\n",
    "    #count += 1\n",
    "    #if count > 10000:\n",
    "    #    break\n",
    "    if filename[-4:] == '.bz2':\n",
    "        try:\n",
    "            info = _, random_state, gearing_cap, gamma, sigma, mr, yearly_rf, yearly_rm, cost = filename.split(\"_\")\n",
    "            vars_to_keep = (random_state, gearing_cap, gamma, yearly_rf, yearly_rm, cost[0])\n",
    "            info_np = np.array(vars_to_keep)\n",
    "            data = pd.read_pickle(f'{folder}/{filename}')\n",
    "            colnames = ['random_state', 'gearing_cap', 'gamma', 'yearly_rf', 'yearly_rm', 'cost']\n",
    "\n",
    "            data[colnames] = np.repeat([info_np], 721, 0)\n",
    "            data.set_index(['random_state', 'gearing_cap', 'gamma', 'yearly_rf', 'yearly_rm', 'cost'], inplace =True, append=True)\n",
    "            files.append(data)\n",
    "        except EOFError:\n",
    "            print('EOF error')\n",
    "\n",
    "        except ValueError as v:\n",
    "            print(v)\n",
    "        \n",
    "        \n",
    "#print(count)"
   ]
  },
  {
   "cell_type": "code",
   "execution_count": null,
   "metadata": {},
   "outputs": [],
   "source": [
    "combined = pd.concat(files)"
   ]
  },
  {
   "cell_type": "code",
   "execution_count": null,
   "metadata": {},
   "outputs": [],
   "source": [
    "combined.sort_index(inplace=True)"
   ]
  },
  {
   "cell_type": "code",
   "execution_count": null,
   "metadata": {},
   "outputs": [],
   "source": [
    "len(combined)"
   ]
  },
  {
   "cell_type": "code",
   "execution_count": null,
   "metadata": {},
   "outputs": [],
   "source": [
    "combined.to_pickle('combined_garch.bz2', compression=\"bz2\")"
   ]
  },
  {
   "cell_type": "code",
   "execution_count": null,
   "metadata": {},
   "outputs": [],
   "source": [
    "query = (combined.groupby(['period', 'gearing_cap', 'gamma', 'yearly_rf', 'yearly_rm', 'cost'])\n",
    "         .mean()\n",
    "         # query certain characteristics\n",
    "         .loc[(slice(None), \"1\", \"1.8\", \"0.01\", \"0.04\", \"0\")]\n",
    "        )"
   ]
  },
  {
   "cell_type": "code",
   "execution_count": null,
   "metadata": {},
   "outputs": [],
   "source": [
    "combined = pd.read_pickle('combined_garch.bz2')"
   ]
  },
  {
   "cell_type": "code",
   "execution_count": null,
   "metadata": {},
   "outputs": [],
   "source": [
    "len(combined)"
   ]
  },
  {
   "cell_type": "code",
   "execution_count": null,
   "metadata": {},
   "outputs": [],
   "source": [
    "query = (combined.groupby(['period'])\n",
    "         .mean()\n",
    "         # query certain characteristics\n",
    "         #.loc[(slice(None), \"1\", \"1.8\", \"0.01\", \"0.04\", \"0\")]\n",
    "        )"
   ]
  },
  {
   "cell_type": "code",
   "execution_count": null,
   "metadata": {},
   "outputs": [],
   "source": [
    "query.to_pickle('combined_garch_mean.bz2', compression = \"bz2\")"
   ]
  },
  {
   "cell_type": "code",
   "execution_count": null,
   "metadata": {},
   "outputs": [],
   "source": [
    "query.loc[(slice(None), \"1\", \"1.8\", \"0.03\", \"0.04\", \"0\"), ('tv_u', '100', '9050')].groupby('period').mean()"
   ]
  },
  {
   "cell_type": "code",
   "execution_count": null,
   "metadata": {},
   "outputs": [],
   "source": [
    "rs = [str(x) for x in range(0, 100)]"
   ]
  },
  {
   "cell_type": "code",
   "execution_count": null,
   "metadata": {},
   "outputs": [],
   "source": []
  },
  {
   "cell_type": "code",
   "execution_count": null,
   "metadata": {},
   "outputs": [],
   "source": [
    "query_min = (combined.loc[(slice(None), rs), :].groupby(['period'])\n",
    "         .mean()\n",
    "         # query certain characteristics\n",
    "         #.loc[(slice(None), \"1\", \"1.8\", \"0.01\", \"0.04\", \"0\")]\n",
    "        )"
   ]
  },
  {
   "cell_type": "code",
   "execution_count": null,
   "metadata": {},
   "outputs": [],
   "source": [
    "import matplotlib.pyplot as plt\n",
    "plt.plot(query.loc[(slice(None), \"1\", \"2.3\", \"0.02\", \"0.04\", \"0\"), ('tv_u', '100', '9050')].groupby('period').mean())"
   ]
  },
  {
   "cell_type": "code",
   "execution_count": null,
   "metadata": {},
   "outputs": [],
   "source": [
    "query_min"
   ]
  },
  {
   "cell_type": "code",
   "execution_count": null,
   "metadata": {},
   "outputs": [],
   "source": [
    "m_index = pd.MultiIndex.from_product(names)\n"
   ]
  },
  {
   "cell_type": "code",
   "execution_count": null,
   "metadata": {},
   "outputs": [],
   "source": [
    "import os, pandas as pd, numpy as np\n",
    "\n",
    "folder = 'sims/garch'\n",
    "dest = folder \n",
    "files = []\n",
    "count = 0\n",
    "\n",
    "sim_type = set()\n",
    "random_state = set()\n",
    "gearing_cap = set() \n",
    "gamma = set() \n",
    "sigma = set()\n",
    "mr = set()\n",
    "yearly_rf = set()\n",
    "yearly_rm = set() \n",
    "cost = set() \n",
    "\n",
    "names = [sim_type, random_state, gearing_cap, gamma, sigma, mr, yearly_rf, yearly_rm, cost]\n",
    "\n",
    "for filename in os.listdir(folder):\n",
    "    count += 1\n",
    "    #if count > 10:\n",
    "    #    break\n",
    "        \n",
    "    try:\n",
    "        info = filename.split(\"_\")\n",
    "        info[-1] = info[-1][0]\n",
    "        for name, x in zip(names, info):\n",
    "            name.add(x)\n",
    "    except:\n",
    "        pass"
   ]
  },
  {
   "cell_type": "code",
   "execution_count": null,
   "metadata": {},
   "outputs": [],
   "source": [
    "test = pd.DataFrame()"
   ]
  },
  {
   "cell_type": "code",
   "execution_count": null,
   "metadata": {},
   "outputs": [],
   "source": []
  },
  {
   "cell_type": "code",
   "execution_count": null,
   "metadata": {},
   "outputs": [],
   "source": [
    "combined"
   ]
  },
  {
   "cell_type": "code",
   "execution_count": null,
   "metadata": {},
   "outputs": [],
   "source": [
    "import matplotlib.pyplot as plt\n",
    "\n",
    "plt.scatter(x = combined['period'], y = combined['total_debt'], alpha = 0.02)"
   ]
  },
  {
   "cell_type": "code",
   "execution_count": null,
   "metadata": {},
   "outputs": [],
   "source": []
  },
  {
   "cell_type": "code",
   "execution_count": null,
   "metadata": {},
   "outputs": [],
   "source": []
  }
 ],
 "metadata": {
  "kernelspec": {
   "display_name": "Python 3",
   "language": "python",
   "name": "python3"
  },
  "language_info": {
   "codemirror_mode": {
    "name": "ipython",
    "version": 3
   },
   "file_extension": ".py",
   "mimetype": "text/x-python",
   "name": "python",
   "nbconvert_exporter": "python",
   "pygments_lexer": "ipython3",
   "version": "3.8.2"
  }
 },
 "nbformat": 4,
 "nbformat_minor": 4
}
