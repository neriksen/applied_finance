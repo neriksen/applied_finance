{
 "cells": [
  {
   "cell_type": "code",
   "execution_count": 1,
   "metadata": {
    "tags": []
   },
   "outputs": [
    {
     "output_type": "stream",
     "name": "stdout",
     "text": [
      "too many values to unpack (expected 9)\n",
      "too many values to unpack (expected 9)\n",
      "too many values to unpack (expected 9)\n",
      "too many values to unpack (expected 9)\n",
      "too many values to unpack (expected 9)\n",
      "too many values to unpack (expected 9)\n",
      "too many values to unpack (expected 9)\n",
      "too many values to unpack (expected 9)\n",
      "too many values to unpack (expected 9)\n",
      "too many values to unpack (expected 9)\n",
      "too many values to unpack (expected 9)\n",
      "too many values to unpack (expected 9)\n",
      "too many values to unpack (expected 9)\n",
      "too many values to unpack (expected 9)\n",
      "too many values to unpack (expected 9)\n",
      "too many values to unpack (expected 9)\n",
      "too many values to unpack (expected 9)\n",
      "too many values to unpack (expected 9)\n",
      "too many values to unpack (expected 9)\n",
      "too many values to unpack (expected 9)\n",
      "too many values to unpack (expected 9)\n",
      "too many values to unpack (expected 9)\n",
      "too many values to unpack (expected 9)\n",
      "too many values to unpack (expected 9)\n",
      "too many values to unpack (expected 9)\n",
      "too many values to unpack (expected 9)\n",
      "too many values to unpack (expected 9)\n",
      "too many values to unpack (expected 9)\n",
      "too many values to unpack (expected 9)\n",
      "too many values to unpack (expected 9)\n",
      "too many values to unpack (expected 9)\n",
      "too many values to unpack (expected 9)\n",
      "too many values to unpack (expected 9)\n",
      "too many values to unpack (expected 9)\n",
      "too many values to unpack (expected 9)\n",
      "too many values to unpack (expected 9)\n",
      "too many values to unpack (expected 9)\n",
      "too many values to unpack (expected 9)\n",
      "too many values to unpack (expected 9)\n",
      "too many values to unpack (expected 9)\n",
      "too many values to unpack (expected 9)\n",
      "too many values to unpack (expected 9)\n",
      "too many values to unpack (expected 9)\n",
      "too many values to unpack (expected 9)\n",
      "too many values to unpack (expected 9)\n",
      "too many values to unpack (expected 9)\n",
      "too many values to unpack (expected 9)\n",
      "too many values to unpack (expected 9)\n",
      "too many values to unpack (expected 9)\n",
      "too many values to unpack (expected 9)\n",
      "too many values to unpack (expected 9)\n",
      "too many values to unpack (expected 9)\n",
      "too many values to unpack (expected 9)\n",
      "too many values to unpack (expected 9)\n",
      "too many values to unpack (expected 9)\n",
      "too many values to unpack (expected 9)\n",
      "too many values to unpack (expected 9)\n",
      "too many values to unpack (expected 9)\n",
      "too many values to unpack (expected 9)\n",
      "too many values to unpack (expected 9)\n",
      "too many values to unpack (expected 9)\n",
      "too many values to unpack (expected 9)\n",
      "too many values to unpack (expected 9)\n",
      "too many values to unpack (expected 9)\n",
      "too many values to unpack (expected 9)\n",
      "too many values to unpack (expected 9)\n",
      "too many values to unpack (expected 9)\n",
      "too many values to unpack (expected 9)\n",
      "too many values to unpack (expected 9)\n",
      "too many values to unpack (expected 9)\n",
      "too many values to unpack (expected 9)\n",
      "too many values to unpack (expected 9)\n",
      "too many values to unpack (expected 9)\n",
      "too many values to unpack (expected 9)\n",
      "too many values to unpack (expected 9)\n",
      "too many values to unpack (expected 9)\n",
      "too many values to unpack (expected 9)\n",
      "too many values to unpack (expected 9)\n",
      "too many values to unpack (expected 9)\n",
      "too many values to unpack (expected 9)\n",
      "too many values to unpack (expected 9)\n",
      "too many values to unpack (expected 9)\n",
      "too many values to unpack (expected 9)\n",
      "too many values to unpack (expected 9)\n",
      "too many values to unpack (expected 9)\n",
      "too many values to unpack (expected 9)\n",
      "too many values to unpack (expected 9)\n",
      "too many values to unpack (expected 9)\n",
      "too many values to unpack (expected 9)\n",
      "too many values to unpack (expected 9)\n"
     ]
    }
   ],
   "source": [
    "import shutil, os, pandas as pd, numpy as np\n",
    "\n",
    "# Collecting all garch\n",
    "folder = 'sims/garch'\n",
    "dest = folder \n",
    "files = []\n",
    "#count = 0\n",
    "\n",
    "\n",
    "for filename in os.listdir(folder):\n",
    "    #count += 1\n",
    "    #if count > 10:\n",
    "    #    break\n",
    "    if filename[-4:] == '.bz2':\n",
    "        try:\n",
    "            info = _, random_state, gearing_cap, gamma, sigma, mr, yearly_rf, yearly_rm, cost = filename.split(\"_\")\n",
    "            vars_to_keep = (random_state, gearing_cap, gamma, yearly_rf, yearly_rm, cost[0])\n",
    "            info_np = np.array(vars_to_keep)\n",
    "            data = pd.read_pickle(f'{folder}/{filename}')\n",
    "            colnames = ['random_state', 'gearing_cap', 'gamma', 'yearly_rf', 'yearly_rm', 'cost']\n",
    "            df_parameters=pd.DataFrame(np.repeat([info_np], len(data), 0), columns=colnames)\n",
    "            data = pd.concat([data,df_parameters],axis=1)\n",
    "            data.set_index(['random_state', 'gearing_cap', 'gamma', 'yearly_rf', 'yearly_rm', 'cost'], inplace =True, append=True)\n",
    "            files.append(data)\n",
    "    \n",
    "        except EOFError:\n",
    "            print('EOF error')\n",
    "\n",
    "        except ValueError as v:\n",
    "            print(v) \n",
    "        \n",
    "        \n",
    "#print(count)"
   ]
  },
  {
   "cell_type": "code",
   "execution_count": 3,
   "metadata": {},
   "outputs": [
    {
     "output_type": "stream",
     "name": "stdout",
     "text": [
      "                                                                savings  \\\nperiod random_state gearing_cap gamma yearly_rf yearly_rm cost            \n0.0    0            1.5         1.8   0.01      0.04      0      1666.0   \n1.0    0            1.5         1.8   0.01      0.04      0      1666.0   \n2.0    0            1.5         1.8   0.01      0.04      0      1666.0   \n3.0    0            1.5         1.8   0.01      0.04      0      1666.0   \n4.0    0            1.5         1.8   0.01      0.04      0      1666.0   \n...                                                                 ...   \n716.0  9            1           2.2   0.03      0.08      0      8617.0   \n717.0  9            1           2.2   0.03      0.08      0      8617.0   \n718.0  9            1           2.2   0.03      0.08      0      8617.0   \n719.0  9            1           2.2   0.03      0.08      0      8617.0   \n720.0  9            1           2.2   0.03      0.08      0      8531.0   \n\n                                                                     cash  \\\nperiod random_state gearing_cap gamma yearly_rf yearly_rm cost              \n0.0    0            1.5         1.8   0.01      0.04      0           0.0   \n1.0    0            1.5         1.8   0.01      0.04      0           0.0   \n2.0    0            1.5         1.8   0.01      0.04      0           0.0   \n3.0    0            1.5         1.8   0.01      0.04      0           0.0   \n4.0    0            1.5         1.8   0.01      0.04      0           0.0   \n...                                                                   ...   \n716.0  9            1           2.2   0.03      0.08      0     3803483.0   \n717.0  9            1           2.2   0.03      0.08      0     3856112.0   \n718.0  9            1           2.2   0.03      0.08      0     4080010.0   \n719.0  9            1           2.2   0.03      0.08      0     4233185.0   \n720.0  9            1           2.2   0.03      0.08      0     4194316.0   \n\n                                                                new_equity  \\\nperiod random_state gearing_cap gamma yearly_rf yearly_rm cost               \n0.0    0            1.5         1.8   0.01      0.04      0         1666.0   \n1.0    0            1.5         1.8   0.01      0.04      0         1666.0   \n2.0    0            1.5         1.8   0.01      0.04      0         1666.0   \n3.0    0            1.5         1.8   0.01      0.04      0         1666.0   \n4.0    0            1.5         1.8   0.01      0.04      0         1666.0   \n...                                                                    ...   \n716.0  9            1           2.2   0.03      0.08      0      -200025.0   \n717.0  9            1           2.2   0.03      0.08      0       -44011.0   \n718.0  9            1           2.2   0.03      0.08      0      -215280.0   \n719.0  9            1           2.2   0.03      0.08      0      -144557.0   \n720.0  9            1           2.2   0.03      0.08      0        47400.0   \n\n                                                                new_debt  \\\nperiod random_state gearing_cap gamma yearly_rf yearly_rm cost             \n0.0    0            1.5         1.8   0.01      0.04      0       2500.0   \n1.0    0            1.5         1.8   0.01      0.04      0       2500.0   \n2.0    0            1.5         1.8   0.01      0.04      0       2729.0   \n3.0    0            1.5         1.8   0.01      0.04      0       3325.0   \n4.0    0            1.5         1.8   0.01      0.04      0       2934.0   \n...                                                                  ...   \n716.0  9            1           2.2   0.03      0.08      0          0.0   \n717.0  9            1           2.2   0.03      0.08      0          0.0   \n718.0  9            1           2.2   0.03      0.08      0          0.0   \n719.0  9            1           2.2   0.03      0.08      0          0.0   \n720.0  9            1           2.2   0.03      0.08      0          0.0   \n\n                                                                total_debt  \\\nperiod random_state gearing_cap gamma yearly_rf yearly_rm cost               \n0.0    0            1.5         1.8   0.01      0.04      0         2500.0   \n1.0    0            1.5         1.8   0.01      0.04      0         5000.0   \n2.0    0            1.5         1.8   0.01      0.04      0         7729.0   \n3.0    0            1.5         1.8   0.01      0.04      0        11055.0   \n4.0    0            1.5         1.8   0.01      0.04      0        13989.0   \n...                                                                    ...   \n716.0  9            1           2.2   0.03      0.08      0            0.0   \n717.0  9            1           2.2   0.03      0.08      0            0.0   \n718.0  9            1           2.2   0.03      0.08      0            0.0   \n719.0  9            1           2.2   0.03      0.08      0            0.0   \n720.0  9            1           2.2   0.03      0.08      0            0.0   \n\n                                                                      pv_p  \\\nperiod random_state gearing_cap gamma yearly_rf yearly_rm cost               \n0.0    0            1.5         1.8   0.01      0.04      0         4166.0   \n1.0    0            1.5         1.8   0.01      0.04      0         8333.0   \n2.0    0            1.5         1.8   0.01      0.04      0        12883.0   \n3.0    0            1.5         1.8   0.01      0.04      0        18425.0   \n4.0    0            1.5         1.8   0.01      0.04      0        23315.0   \n...                                                                    ...   \n716.0  9            1           2.2   0.03      0.08      0     10665418.0   \n717.0  9            1           2.2   0.03      0.08      0     10812996.0   \n718.0  9            1           2.2   0.03      0.08      0     11440832.0   \n719.0  9            1           2.2   0.03      0.08      0     11870353.0   \n720.0  9            1           2.2   0.03      0.08      0     11761358.0   \n\n                                                                interest  \\\nperiod random_state gearing_cap gamma yearly_rf yearly_rm cost             \n0.0    0            1.5         1.8   0.01      0.04      0          0.0   \n1.0    0            1.5         1.8   0.01      0.04      0          8.0   \n2.0    0            1.5         1.8   0.01      0.04      0         17.0   \n3.0    0            1.5         1.8   0.01      0.04      0         28.0   \n4.0    0            1.5         1.8   0.01      0.04      0         38.0   \n...                                                                  ...   \n716.0  9            1           2.2   0.03      0.08      0          0.0   \n717.0  9            1           2.2   0.03      0.08      0          0.0   \n718.0  9            1           2.2   0.03      0.08      0          0.0   \n719.0  9            1           2.2   0.03      0.08      0          0.0   \n720.0  9            1           2.2   0.03      0.08      0          0.0   \n\n                                                                market_returns  \\\nperiod random_state gearing_cap gamma yearly_rf yearly_rm cost                   \n0.0    0            1.5         1.8   0.01      0.04      0           0.000000   \n1.0    0            1.5         1.8   0.01      0.04      0           0.019394   \n2.0    0            1.5         1.8   0.01      0.04      0           0.044060   \n3.0    0            1.5         1.8   0.01      0.04      0           0.017260   \n4.0    0            1.5         1.8   0.01      0.04      0           0.011594   \n...                                                                        ...   \n716.0  9            1           2.2   0.03      0.08      0           0.017964   \n717.0  9            1           2.2   0.03      0.08      0           0.077973   \n718.0  9            1           2.2   0.03      0.08      0           0.050178   \n719.0  9            1           2.2   0.03      0.08      0          -0.013175   \n720.0  9            1           2.2   0.03      0.08      0           0.020230   \n\n                                                                      tv_u  \\\nperiod random_state gearing_cap gamma yearly_rf yearly_rm cost               \n0.0    0            1.5         1.8   0.01      0.04      0         4166.0   \n1.0    0            1.5         1.8   0.01      0.04      0         8486.0   \n2.0    0            1.5         1.8   0.01      0.04      0        13433.0   \n3.0    0            1.5         1.8   0.01      0.04      0        18714.0   \n4.0    0            1.5         1.8   0.01      0.04      0        23547.0   \n...                                                                    ...   \n716.0  9            1           2.2   0.03      0.08      0     14660491.0   \n717.0  9            1           2.2   0.03      0.08      0     15512225.0   \n718.0  9            1           2.2   0.03      0.08      0     16094921.0   \n719.0  9            1           2.2   0.03      0.08      0     15947143.0   \n720.0  9            1           2.2   0.03      0.08      0     16193607.0   \n\n                                                                       dst  \\\nperiod random_state gearing_cap gamma yearly_rf yearly_rm cost               \n0.0    0            1.5         1.8   0.01      0.04      0      3127427.0   \n1.0    0            1.5         1.8   0.01      0.04      0      3127427.0   \n2.0    0            1.5         1.8   0.01      0.04      0      3127427.0   \n3.0    0            1.5         1.8   0.01      0.04      0      3127427.0   \n4.0    0            1.5         1.8   0.01      0.04      0      3127427.0   \n...                                                                    ...   \n716.0  9            1           2.2   0.03      0.08      0     10806644.0   \n717.0  9            1           2.2   0.03      0.08      0     11434480.0   \n718.0  9            1           2.2   0.03      0.08      0     11864001.0   \n719.0  9            1           2.2   0.03      0.08      0     11755069.0   \n720.0  9            1           2.2   0.03      0.08      0     11936745.0   \n\n                                                                phase  \\\nperiod random_state gearing_cap gamma yearly_rf yearly_rm cost          \n0.0    0            1.5         1.8   0.01      0.04      0       1.0   \n1.0    0            1.5         1.8   0.01      0.04      0       1.0   \n2.0    0            1.5         1.8   0.01      0.04      0       1.0   \n3.0    0            1.5         1.8   0.01      0.04      0       1.0   \n4.0    0            1.5         1.8   0.01      0.04      0       1.0   \n...                                                               ...   \n716.0  9            1           2.2   0.03      0.08      0       4.0   \n717.0  9            1           2.2   0.03      0.08      0       4.0   \n718.0  9            1           2.2   0.03      0.08      0       4.0   \n719.0  9            1           2.2   0.03      0.08      0       4.0   \n720.0  9            1           2.2   0.03      0.08      0       4.0   \n\n                                                                SU_debt  \\\nperiod random_state gearing_cap gamma yearly_rf yearly_rm cost            \n0.0    0            1.5         1.8   0.01      0.04      0      2500.0   \n1.0    0            1.5         1.8   0.01      0.04      0      2500.0   \n2.0    0            1.5         1.8   0.01      0.04      0      5229.0   \n3.0    0            1.5         1.8   0.01      0.04      0      8463.0   \n4.0    0            1.5         1.8   0.01      0.04      0     11398.0   \n...                                                                 ...   \n716.0  9            1           2.2   0.03      0.08      0         0.0   \n717.0  9            1           2.2   0.03      0.08      0         0.0   \n718.0  9            1           2.2   0.03      0.08      0         0.0   \n719.0  9            1           2.2   0.03      0.08      0         0.0   \n720.0  9            1           2.2   0.03      0.08      0         0.0   \n\n                                                                Nordnet_debt  \\\nperiod random_state gearing_cap gamma yearly_rf yearly_rm cost                 \n0.0    0            1.5         1.8   0.01      0.04      0              0.0   \n1.0    0            1.5         1.8   0.01      0.04      0              0.0   \n2.0    0            1.5         1.8   0.01      0.04      0              0.0   \n3.0    0            1.5         1.8   0.01      0.04      0             91.0   \n4.0    0            1.5         1.8   0.01      0.04      0             91.0   \n...                                                                      ...   \n716.0  9            1           2.2   0.03      0.08      0              0.0   \n717.0  9            1           2.2   0.03      0.08      0              0.0   \n718.0  9            1           2.2   0.03      0.08      0              0.0   \n719.0  9            1           2.2   0.03      0.08      0              0.0   \n720.0  9            1           2.2   0.03      0.08      0              0.0   \n\n                                                                       100  \\\nperiod random_state gearing_cap gamma yearly_rf yearly_rm cost               \n0.0    0            1.5         1.8   0.01      0.04      0         1666.0   \n1.0    0            1.5         1.8   0.01      0.04      0         3397.0   \n2.0    0            1.5         1.8   0.01      0.04      0         5287.0   \n3.0    0            1.5         1.8   0.01      0.04      0         7074.0   \n4.0    0            1.5         1.8   0.01      0.04      0         8842.0   \n...                                                                    ...   \n716.0  9            1           2.2   0.03      0.08      0     17710259.0   \n717.0  9            1           2.2   0.03      0.08      0     19100462.0   \n718.0  9            1           2.2   0.03      0.08      0     20067936.0   \n719.0  9            1           2.2   0.03      0.08      0     19812038.0   \n720.0  9            1           2.2   0.03      0.08      0     20221540.0   \n\n                                                                      9050  \nperiod random_state gearing_cap gamma yearly_rf yearly_rm cost              \n0.0    0            1.5         1.8   0.01      0.04      0         1666.0  \n1.0    0            1.5         1.8   0.01      0.04      0         3391.0  \n2.0    0            1.5         1.8   0.01      0.04      0         5259.0  \n3.0    0            1.5         1.8   0.01      0.04      0         7034.0  \n4.0    0            1.5         1.8   0.01      0.04      0         8792.0  \n...                                                                    ...  \n716.0  9            1           2.2   0.03      0.08      0     15832350.0  \n717.0  9            1           2.2   0.03      0.08      0     16788450.0  \n718.0  9            1           2.2   0.03      0.08      0     17457518.0  \n719.0  9            1           2.2   0.03      0.08      0     17296199.0  \n720.0  9            1           2.2   0.03      0.08      0     17586488.0  \n\n[12913110 rows x 15 columns]\n"
     ]
    }
   ],
   "source": [
    "combined = pd.concat(files)\n",
    "combined.index = combined.index.rename(['period', 'random_state','gearing_cap', 'gamma', 'yearly_rf', 'yearly_rm', 'cost'])"
   ]
  },
  {
   "cell_type": "code",
   "execution_count": 38,
   "metadata": {},
   "outputs": [],
   "source": [
    "combined.sort_index(inplace=True)"
   ]
  },
  {
   "cell_type": "code",
   "execution_count": 40,
   "metadata": {},
   "outputs": [],
   "source": [
    "combined.to_pickle('combined_garch.bz2', compression=\"bz2\")"
   ]
  },
  {
   "cell_type": "code",
   "execution_count": 41,
   "metadata": {},
   "outputs": [
    {
     "output_type": "error",
     "ename": "IndexingError",
     "evalue": "Too many indexers",
     "traceback": [
      "\u001b[1;31m---------------------------------------------------------------------------\u001b[0m",
      "\u001b[1;31mIndexingError\u001b[0m                             Traceback (most recent call last)",
      "\u001b[1;32m<ipython-input-41-3bf87121cac7>\u001b[0m in \u001b[0;36m<module>\u001b[1;34m\u001b[0m\n\u001b[0;32m      2\u001b[0m          \u001b[1;33m.\u001b[0m\u001b[0mmean\u001b[0m\u001b[1;33m(\u001b[0m\u001b[1;33m)\u001b[0m\u001b[1;33m\u001b[0m\u001b[1;33m\u001b[0m\u001b[0m\n\u001b[0;32m      3\u001b[0m          \u001b[1;31m# query certain characteristics\u001b[0m\u001b[1;33m\u001b[0m\u001b[1;33m\u001b[0m\u001b[1;33m\u001b[0m\u001b[0m\n\u001b[1;32m----> 4\u001b[1;33m          \u001b[1;33m.\u001b[0m\u001b[0mloc\u001b[0m\u001b[1;33m[\u001b[0m\u001b[1;33m(\u001b[0m\u001b[0mslice\u001b[0m\u001b[1;33m(\u001b[0m\u001b[1;32mNone\u001b[0m\u001b[1;33m)\u001b[0m\u001b[1;33m,\u001b[0m \u001b[1;34m\"1\"\u001b[0m\u001b[1;33m,\u001b[0m \u001b[1;34m\"1.8\"\u001b[0m\u001b[1;33m,\u001b[0m \u001b[1;34m\"0.01\"\u001b[0m\u001b[1;33m,\u001b[0m \u001b[1;34m\"0.04\"\u001b[0m\u001b[1;33m,\u001b[0m \u001b[1;34m\"0\"\u001b[0m\u001b[1;33m)\u001b[0m\u001b[1;33m]\u001b[0m\u001b[1;33m\u001b[0m\u001b[1;33m\u001b[0m\u001b[0m\n\u001b[0m\u001b[0;32m      5\u001b[0m         )\n",
      "\u001b[1;32mD:\\Programmer\\Anaconda3\\lib\\site-packages\\pandas\\core\\indexing.py\u001b[0m in \u001b[0;36m__getitem__\u001b[1;34m(self, key)\u001b[0m\n\u001b[0;32m   1416\u001b[0m                 \u001b[1;32mexcept\u001b[0m \u001b[1;33m(\u001b[0m\u001b[0mKeyError\u001b[0m\u001b[1;33m,\u001b[0m \u001b[0mIndexError\u001b[0m\u001b[1;33m,\u001b[0m \u001b[0mAttributeError\u001b[0m\u001b[1;33m)\u001b[0m\u001b[1;33m:\u001b[0m\u001b[1;33m\u001b[0m\u001b[1;33m\u001b[0m\u001b[0m\n\u001b[0;32m   1417\u001b[0m                     \u001b[1;32mpass\u001b[0m\u001b[1;33m\u001b[0m\u001b[1;33m\u001b[0m\u001b[0m\n\u001b[1;32m-> 1418\u001b[1;33m             \u001b[1;32mreturn\u001b[0m \u001b[0mself\u001b[0m\u001b[1;33m.\u001b[0m\u001b[0m_getitem_tuple\u001b[0m\u001b[1;33m(\u001b[0m\u001b[0mkey\u001b[0m\u001b[1;33m)\u001b[0m\u001b[1;33m\u001b[0m\u001b[1;33m\u001b[0m\u001b[0m\n\u001b[0m\u001b[0;32m   1419\u001b[0m         \u001b[1;32melse\u001b[0m\u001b[1;33m:\u001b[0m\u001b[1;33m\u001b[0m\u001b[1;33m\u001b[0m\u001b[0m\n\u001b[0;32m   1420\u001b[0m             \u001b[1;31m# we by definition only have the 0th axis\u001b[0m\u001b[1;33m\u001b[0m\u001b[1;33m\u001b[0m\u001b[1;33m\u001b[0m\u001b[0m\n",
      "\u001b[1;32mD:\\Programmer\\Anaconda3\\lib\\site-packages\\pandas\\core\\indexing.py\u001b[0m in \u001b[0;36m_getitem_tuple\u001b[1;34m(self, tup)\u001b[0m\n\u001b[0;32m    808\u001b[0m \u001b[1;33m\u001b[0m\u001b[0m\n\u001b[0;32m    809\u001b[0m         \u001b[1;31m# no multi-index, so validate all of the indexers\u001b[0m\u001b[1;33m\u001b[0m\u001b[1;33m\u001b[0m\u001b[1;33m\u001b[0m\u001b[0m\n\u001b[1;32m--> 810\u001b[1;33m         \u001b[0mself\u001b[0m\u001b[1;33m.\u001b[0m\u001b[0m_has_valid_tuple\u001b[0m\u001b[1;33m(\u001b[0m\u001b[0mtup\u001b[0m\u001b[1;33m)\u001b[0m\u001b[1;33m\u001b[0m\u001b[1;33m\u001b[0m\u001b[0m\n\u001b[0m\u001b[0;32m    811\u001b[0m \u001b[1;33m\u001b[0m\u001b[0m\n\u001b[0;32m    812\u001b[0m         \u001b[1;31m# ugly hack for GH #836\u001b[0m\u001b[1;33m\u001b[0m\u001b[1;33m\u001b[0m\u001b[1;33m\u001b[0m\u001b[0m\n",
      "\u001b[1;32mD:\\Programmer\\Anaconda3\\lib\\site-packages\\pandas\\core\\indexing.py\u001b[0m in \u001b[0;36m_has_valid_tuple\u001b[1;34m(self, key)\u001b[0m\n\u001b[0;32m    231\u001b[0m         \u001b[1;32mfor\u001b[0m \u001b[0mi\u001b[0m\u001b[1;33m,\u001b[0m \u001b[0mk\u001b[0m \u001b[1;32min\u001b[0m \u001b[0menumerate\u001b[0m\u001b[1;33m(\u001b[0m\u001b[0mkey\u001b[0m\u001b[1;33m)\u001b[0m\u001b[1;33m:\u001b[0m\u001b[1;33m\u001b[0m\u001b[1;33m\u001b[0m\u001b[0m\n\u001b[0;32m    232\u001b[0m             \u001b[1;32mif\u001b[0m \u001b[0mi\u001b[0m \u001b[1;33m>=\u001b[0m \u001b[0mself\u001b[0m\u001b[1;33m.\u001b[0m\u001b[0mobj\u001b[0m\u001b[1;33m.\u001b[0m\u001b[0mndim\u001b[0m\u001b[1;33m:\u001b[0m\u001b[1;33m\u001b[0m\u001b[1;33m\u001b[0m\u001b[0m\n\u001b[1;32m--> 233\u001b[1;33m                 \u001b[1;32mraise\u001b[0m \u001b[0mIndexingError\u001b[0m\u001b[1;33m(\u001b[0m\u001b[1;34m\"Too many indexers\"\u001b[0m\u001b[1;33m)\u001b[0m\u001b[1;33m\u001b[0m\u001b[1;33m\u001b[0m\u001b[0m\n\u001b[0m\u001b[0;32m    234\u001b[0m             \u001b[1;32mtry\u001b[0m\u001b[1;33m:\u001b[0m\u001b[1;33m\u001b[0m\u001b[1;33m\u001b[0m\u001b[0m\n\u001b[0;32m    235\u001b[0m                 \u001b[0mself\u001b[0m\u001b[1;33m.\u001b[0m\u001b[0m_validate_key\u001b[0m\u001b[1;33m(\u001b[0m\u001b[0mk\u001b[0m\u001b[1;33m,\u001b[0m \u001b[0mi\u001b[0m\u001b[1;33m)\u001b[0m\u001b[1;33m\u001b[0m\u001b[1;33m\u001b[0m\u001b[0m\n",
      "\u001b[1;31mIndexingError\u001b[0m: Too many indexers"
     ]
    }
   ],
   "source": [
    "query = (combined.groupby(['period', 'gearing_cap', 'gamma', 'yearly_rf', 'yearly_rm', 'cost'])\n",
    "         .mean()\n",
    "         # query certain characteristics\n",
    "         .loc[(slice(None), \"1\", \"1.8\", \"0.01\", \"0.04\", \"0\")]\n",
    "        )"
   ]
  },
  {
   "cell_type": "code",
   "execution_count": null,
   "metadata": {},
   "outputs": [],
   "source": [
    "combined = pd.read_pickle('combined_garch.bz2')"
   ]
  },
  {
   "cell_type": "code",
   "execution_count": null,
   "metadata": {},
   "outputs": [],
   "source": [
    "len(combined)"
   ]
  },
  {
   "cell_type": "code",
   "execution_count": 42,
   "metadata": {},
   "outputs": [],
   "source": [
    "query = (combined.groupby(['period'])\n",
    "         .mean()\n",
    "         # query certain characteristics\n",
    "         #.loc[(slice(None), \"1\", \"1.8\", \"0.01\", \"0.04\", \"0\")]\n",
    "        )"
   ]
  },
  {
   "cell_type": "code",
   "execution_count": 43,
   "metadata": {},
   "outputs": [
    {
     "output_type": "execute_result",
     "data": {
      "text/plain": [
       "        savings  cash  new_equity  new_debt  total_debt       pv_p  interest  \\\n",
       "period                                                                         \n",
       "0.0      1666.0   0.0      1666.0    2500.0      2500.0     4166.0       0.0   \n",
       "1.0      1666.0   0.0      1666.0    2000.0      4500.0     7833.0       6.4   \n",
       "2.0      1666.0   0.0      1332.8    1683.2      6183.2    11495.6      13.6   \n",
       "3.0      1666.0   0.0      1666.0    2660.0      8844.0    16315.0      22.4   \n",
       "4.0      1666.0   0.0      1666.0    2347.2     11191.2    20587.4      30.4   \n",
       "...         ...   ...         ...       ...         ...        ...       ...   \n",
       "716.0    8617.0   0.0      8617.0       0.0         0.0  8427611.6       0.0   \n",
       "717.0    8617.0   0.0      8617.0       0.0         0.0  8667835.0       0.0   \n",
       "718.0    8617.0   0.0      8617.0       0.0         0.0  8381057.2       0.0   \n",
       "719.0    8617.0   0.0      8617.0       0.0         0.0  8473040.6       0.0   \n",
       "720.0    8531.0   0.0      8531.0       0.0         0.0  8516393.2       0.0   \n",
       "\n",
       "        market_returns       tv_u         dst  phase  SU_debt  Nordnet_debt  \\\n",
       "period                                                                        \n",
       "0.0           0.000000     4166.0   1288370.6    1.0   2500.0           0.0   \n",
       "1.0           0.019394     7978.0   1398368.2    1.2   2000.0           0.0   \n",
       "2.0           0.044060    11988.0   1398362.0    1.4   4183.2           0.0   \n",
       "3.0           0.017260    16573.4   1400515.6    1.4   6770.4          72.8   \n",
       "4.0           0.011594    20795.4   1400961.6    1.4   9118.4          72.8   \n",
       "...                ...        ...         ...    ...      ...           ...   \n",
       "716.0         0.027482  8659217.8  10853343.0    3.0      0.0           0.0   \n",
       "717.0        -0.034080  8372439.6  10493899.2    3.0      0.0           0.0   \n",
       "718.0         0.009947  8464423.2  10609190.6    3.0      0.0           0.0   \n",
       "719.0         0.004110  8507861.8  10663635.8    3.0      0.0           0.0   \n",
       "720.0        -0.074044  7885802.6   9883955.4    3.0      0.0           0.0   \n",
       "\n",
       "              100       9050  \n",
       "period                        \n",
       "0.0        1666.0     1666.0  \n",
       "1.0        3397.0     3391.0  \n",
       "2.0        5287.0     5259.0  \n",
       "3.0        7074.0     7034.0  \n",
       "4.0        8842.0     8792.0  \n",
       "...           ...        ...  \n",
       "716.0   7668869.0  6516131.0  \n",
       "717.0   7415842.0  6387445.0  \n",
       "718.0   7498310.0  6437420.0  \n",
       "719.0   7537778.0  6464502.0  \n",
       "720.0   6987548.0  6177588.0  \n",
       "\n",
       "[721 rows x 15 columns]"
      ],
      "text/html": "<div>\n<style scoped>\n    .dataframe tbody tr th:only-of-type {\n        vertical-align: middle;\n    }\n\n    .dataframe tbody tr th {\n        vertical-align: top;\n    }\n\n    .dataframe thead th {\n        text-align: right;\n    }\n</style>\n<table border=\"1\" class=\"dataframe\">\n  <thead>\n    <tr style=\"text-align: right;\">\n      <th></th>\n      <th>savings</th>\n      <th>cash</th>\n      <th>new_equity</th>\n      <th>new_debt</th>\n      <th>total_debt</th>\n      <th>pv_p</th>\n      <th>interest</th>\n      <th>market_returns</th>\n      <th>tv_u</th>\n      <th>dst</th>\n      <th>phase</th>\n      <th>SU_debt</th>\n      <th>Nordnet_debt</th>\n      <th>100</th>\n      <th>9050</th>\n    </tr>\n    <tr>\n      <th>period</th>\n      <th></th>\n      <th></th>\n      <th></th>\n      <th></th>\n      <th></th>\n      <th></th>\n      <th></th>\n      <th></th>\n      <th></th>\n      <th></th>\n      <th></th>\n      <th></th>\n      <th></th>\n      <th></th>\n      <th></th>\n    </tr>\n  </thead>\n  <tbody>\n    <tr>\n      <td>0.0</td>\n      <td>1666.0</td>\n      <td>0.0</td>\n      <td>1666.0</td>\n      <td>2500.0</td>\n      <td>2500.0</td>\n      <td>4166.0</td>\n      <td>0.0</td>\n      <td>0.000000</td>\n      <td>4166.0</td>\n      <td>1288370.6</td>\n      <td>1.0</td>\n      <td>2500.0</td>\n      <td>0.0</td>\n      <td>1666.0</td>\n      <td>1666.0</td>\n    </tr>\n    <tr>\n      <td>1.0</td>\n      <td>1666.0</td>\n      <td>0.0</td>\n      <td>1666.0</td>\n      <td>2000.0</td>\n      <td>4500.0</td>\n      <td>7833.0</td>\n      <td>6.4</td>\n      <td>0.019394</td>\n      <td>7978.0</td>\n      <td>1398368.2</td>\n      <td>1.2</td>\n      <td>2000.0</td>\n      <td>0.0</td>\n      <td>3397.0</td>\n      <td>3391.0</td>\n    </tr>\n    <tr>\n      <td>2.0</td>\n      <td>1666.0</td>\n      <td>0.0</td>\n      <td>1332.8</td>\n      <td>1683.2</td>\n      <td>6183.2</td>\n      <td>11495.6</td>\n      <td>13.6</td>\n      <td>0.044060</td>\n      <td>11988.0</td>\n      <td>1398362.0</td>\n      <td>1.4</td>\n      <td>4183.2</td>\n      <td>0.0</td>\n      <td>5287.0</td>\n      <td>5259.0</td>\n    </tr>\n    <tr>\n      <td>3.0</td>\n      <td>1666.0</td>\n      <td>0.0</td>\n      <td>1666.0</td>\n      <td>2660.0</td>\n      <td>8844.0</td>\n      <td>16315.0</td>\n      <td>22.4</td>\n      <td>0.017260</td>\n      <td>16573.4</td>\n      <td>1400515.6</td>\n      <td>1.4</td>\n      <td>6770.4</td>\n      <td>72.8</td>\n      <td>7074.0</td>\n      <td>7034.0</td>\n    </tr>\n    <tr>\n      <td>4.0</td>\n      <td>1666.0</td>\n      <td>0.0</td>\n      <td>1666.0</td>\n      <td>2347.2</td>\n      <td>11191.2</td>\n      <td>20587.4</td>\n      <td>30.4</td>\n      <td>0.011594</td>\n      <td>20795.4</td>\n      <td>1400961.6</td>\n      <td>1.4</td>\n      <td>9118.4</td>\n      <td>72.8</td>\n      <td>8842.0</td>\n      <td>8792.0</td>\n    </tr>\n    <tr>\n      <td>...</td>\n      <td>...</td>\n      <td>...</td>\n      <td>...</td>\n      <td>...</td>\n      <td>...</td>\n      <td>...</td>\n      <td>...</td>\n      <td>...</td>\n      <td>...</td>\n      <td>...</td>\n      <td>...</td>\n      <td>...</td>\n      <td>...</td>\n      <td>...</td>\n      <td>...</td>\n    </tr>\n    <tr>\n      <td>716.0</td>\n      <td>8617.0</td>\n      <td>0.0</td>\n      <td>8617.0</td>\n      <td>0.0</td>\n      <td>0.0</td>\n      <td>8427611.6</td>\n      <td>0.0</td>\n      <td>0.027482</td>\n      <td>8659217.8</td>\n      <td>10853343.0</td>\n      <td>3.0</td>\n      <td>0.0</td>\n      <td>0.0</td>\n      <td>7668869.0</td>\n      <td>6516131.0</td>\n    </tr>\n    <tr>\n      <td>717.0</td>\n      <td>8617.0</td>\n      <td>0.0</td>\n      <td>8617.0</td>\n      <td>0.0</td>\n      <td>0.0</td>\n      <td>8667835.0</td>\n      <td>0.0</td>\n      <td>-0.034080</td>\n      <td>8372439.6</td>\n      <td>10493899.2</td>\n      <td>3.0</td>\n      <td>0.0</td>\n      <td>0.0</td>\n      <td>7415842.0</td>\n      <td>6387445.0</td>\n    </tr>\n    <tr>\n      <td>718.0</td>\n      <td>8617.0</td>\n      <td>0.0</td>\n      <td>8617.0</td>\n      <td>0.0</td>\n      <td>0.0</td>\n      <td>8381057.2</td>\n      <td>0.0</td>\n      <td>0.009947</td>\n      <td>8464423.2</td>\n      <td>10609190.6</td>\n      <td>3.0</td>\n      <td>0.0</td>\n      <td>0.0</td>\n      <td>7498310.0</td>\n      <td>6437420.0</td>\n    </tr>\n    <tr>\n      <td>719.0</td>\n      <td>8617.0</td>\n      <td>0.0</td>\n      <td>8617.0</td>\n      <td>0.0</td>\n      <td>0.0</td>\n      <td>8473040.6</td>\n      <td>0.0</td>\n      <td>0.004110</td>\n      <td>8507861.8</td>\n      <td>10663635.8</td>\n      <td>3.0</td>\n      <td>0.0</td>\n      <td>0.0</td>\n      <td>7537778.0</td>\n      <td>6464502.0</td>\n    </tr>\n    <tr>\n      <td>720.0</td>\n      <td>8531.0</td>\n      <td>0.0</td>\n      <td>8531.0</td>\n      <td>0.0</td>\n      <td>0.0</td>\n      <td>8516393.2</td>\n      <td>0.0</td>\n      <td>-0.074044</td>\n      <td>7885802.6</td>\n      <td>9883955.4</td>\n      <td>3.0</td>\n      <td>0.0</td>\n      <td>0.0</td>\n      <td>6987548.0</td>\n      <td>6177588.0</td>\n    </tr>\n  </tbody>\n</table>\n<p>721 rows × 15 columns</p>\n</div>"
     },
     "metadata": {},
     "execution_count": 43
    }
   ],
   "source": [
    "query"
   ]
  },
  {
   "cell_type": "code",
   "execution_count": null,
   "metadata": {},
   "outputs": [],
   "source": [
    "query.to_pickle('combined_garch_mean.bz2', compression = \"bz2\")"
   ]
  },
  {
   "cell_type": "code",
   "execution_count": null,
   "metadata": {},
   "outputs": [],
   "source": [
    "query.loc[(slice(None), \"1\", \"1.8\", \"0.03\", \"0.04\", \"0\"), ('tv_u', '100', '9050')].groupby('period').mean()"
   ]
  },
  {
   "cell_type": "code",
   "execution_count": null,
   "metadata": {},
   "outputs": [],
   "source": [
    "rs = [str(x) for x in range(0, 100)]"
   ]
  },
  {
   "cell_type": "code",
   "execution_count": null,
   "metadata": {},
   "outputs": [],
   "source": []
  },
  {
   "cell_type": "code",
   "execution_count": null,
   "metadata": {},
   "outputs": [],
   "source": [
    "query_min = (combined.loc[(slice(None), rs), :].groupby(['period'])\n",
    "         .mean()\n",
    "         # query certain characteristics\n",
    "         #.loc[(slice(None), \"1\", \"1.8\", \"0.01\", \"0.04\", \"0\")]\n",
    "        )"
   ]
  },
  {
   "cell_type": "code",
   "execution_count": null,
   "metadata": {},
   "outputs": [],
   "source": [
    "import matplotlib.pyplot as plt\n",
    "plt.plot(query.loc[(slice(None), \"1\", \"2.3\", \"0.02\", \"0.04\", \"0\"), ('tv_u', '100', '9050')].groupby('period').mean())"
   ]
  },
  {
   "cell_type": "code",
   "execution_count": null,
   "metadata": {},
   "outputs": [],
   "source": [
    "query_min"
   ]
  },
  {
   "cell_type": "code",
   "execution_count": null,
   "metadata": {},
   "outputs": [],
   "source": [
    "m_index = pd.MultiIndex.from_product(names)\n"
   ]
  },
  {
   "cell_type": "code",
   "execution_count": null,
   "metadata": {},
   "outputs": [],
   "source": [
    "import os, pandas as pd, numpy as np\n",
    "\n",
    "folder = 'sims/garch'\n",
    "dest = folder \n",
    "files = []\n",
    "count = 0\n",
    "\n",
    "sim_type = set()\n",
    "random_state = set()\n",
    "gearing_cap = set() \n",
    "gamma = set() \n",
    "sigma = set()\n",
    "mr = set()\n",
    "yearly_rf = set()\n",
    "yearly_rm = set() \n",
    "cost = set() \n",
    "\n",
    "names = [sim_type, random_state, gearing_cap, gamma, sigma, mr, yearly_rf, yearly_rm, cost]\n",
    "\n",
    "for filename in os.listdir(folder):\n",
    "    count += 1\n",
    "    #if count > 10:\n",
    "    #    break\n",
    "        \n",
    "    try:\n",
    "        info = filename.split(\"_\")\n",
    "        info[-1] = info[-1][0]\n",
    "        for name, x in zip(names, info):\n",
    "            name.add(x)\n",
    "    except:\n",
    "        pass"
   ]
  },
  {
   "cell_type": "code",
   "execution_count": null,
   "metadata": {},
   "outputs": [],
   "source": [
    "test = pd.DataFrame()"
   ]
  },
  {
   "cell_type": "code",
   "execution_count": null,
   "metadata": {},
   "outputs": [],
   "source": []
  },
  {
   "cell_type": "code",
   "execution_count": null,
   "metadata": {},
   "outputs": [],
   "source": [
    "combined"
   ]
  },
  {
   "cell_type": "code",
   "execution_count": null,
   "metadata": {},
   "outputs": [],
   "source": [
    "import matplotlib.pyplot as plt\n",
    "\n",
    "plt.scatter(x = combined['period'], y = combined['total_debt'], alpha = 0.02)"
   ]
  },
  {
   "cell_type": "code",
   "execution_count": null,
   "metadata": {},
   "outputs": [],
   "source": []
  },
  {
   "cell_type": "code",
   "execution_count": null,
   "metadata": {},
   "outputs": [],
   "source": []
  }
 ],
 "metadata": {
  "kernelspec": {
   "display_name": "Python 3",
   "language": "python",
   "name": "python3"
  },
  "language_info": {
   "codemirror_mode": {
    "name": "ipython",
    "version": 3
   },
   "file_extension": ".py",
   "mimetype": "text/x-python",
   "name": "python",
   "nbconvert_exporter": "python",
   "pygments_lexer": "ipython3",
   "version": "3.7.4-final"
  }
 },
 "nbformat": 4,
 "nbformat_minor": 4
}