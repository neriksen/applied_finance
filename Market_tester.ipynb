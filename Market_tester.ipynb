{
 "cells": [
  {
   "cell_type": "code",
   "execution_count": null,
   "metadata": {},
   "outputs": [],
   "source": [
    "import pandas as pd\n",
    "import matplotlib.pyplot as plt\n",
    "import numpy as np\n",
    "import datetime as dt\n",
    "import multiprocess\n",
    "import concurrent.futures\n",
    "from datetime import timedelta\n",
    "import simulate"
   ]
  },
  {
   "cell_type": "code",
   "execution_count": null,
   "metadata": {},
   "outputs": [],
   "source": [
    "spx = pd.read_csv('^GSPC.csv', index_col=0)\n",
    "start = dt.date(2020, 1, 1)\n",
    "end = dt.date(2080, 12, 31)\n",
    "Market = simulate.Market(spx.iloc[-7500:, -2], start, end)"
   ]
  },
  {
   "cell_type": "code",
   "execution_count": null,
   "metadata": {},
   "outputs": [],
   "source": [
    "our_data = spx.iloc[-7500:, :]\n",
    "our_data.index = pd.to_datetime(our_data.index)\n",
    "in_years = our_data['Adj Close'].asfreq('BYS', 'pad')\n",
    "#plt.plot(in_years.pct_change())\n",
    "#print(in_years.pct_change().mean())"
   ]
  },
  {
   "cell_type": "code",
   "execution_count": null,
   "metadata": {},
   "outputs": [],
   "source": [
    "def draw():\n",
    "    market = Market.garch(log=False, mu_override = 0.030800266141550736).asfreq('BYS', 'pad')\n",
    "    geo_mean = (market['Price'][-1]/market['Price'][0])**(1/len(market['Price']))-1\n",
    "    means.append(geo_mean)\n"
   ]
  },
  {
   "cell_type": "code",
   "execution_count": null,
   "metadata": {},
   "outputs": [],
   "source": [
    "means = []\n",
    "processes = []\n",
    "for _ in range(60):\n",
    "    p=multiprocess.Process(target=draw())\n",
    "    p.start()\n",
    "    processes.append(p)\n",
    "for process in processes:\n",
    "    process.join()"
   ]
  },
  {
   "cell_type": "code",
   "execution_count": null,
   "metadata": {
    "tags": []
   },
   "outputs": [],
   "source": [
    "mean_ret=pd.DataFrame(means,columns=[\"Returns\"])\n",
    "actual = our_data['Adj Close'].pct_change().mean()\n",
    "geo_mean = (in_years[-1]/in_years[0])**(1/len(in_years))-1\n",
    "print(geo_mean)\n",
    "print(mean_ret.mean())\n"
   ]
  },
  {
   "cell_type": "code",
   "execution_count": null,
   "metadata": {},
   "outputs": [],
   "source": [
    "fig, ax = plt.subplots(1, 1, figsize=(10, 10))\n",
    "ax.hist(x=means,bins=25)\n",
    "ax.axvline(x=geo_mean, color='r')\n"
   ]
  },
  {
   "cell_type": "code",
   "execution_count": null,
   "metadata": {},
   "outputs": [],
   "source": []
  }
 ],
 "metadata": {
  "kernelspec": {
   "display_name": "Python 3",
   "language": "python",
   "name": "python3"
  },
  "language_info": {
   "codemirror_mode": {
    "name": "ipython",
    "version": 3
   },
   "file_extension": ".py",
   "mimetype": "text/x-python",
   "name": "python",
   "nbconvert_exporter": "python",
   "pygments_lexer": "ipython3",
   "version": "3.8.2"
  }
 },
 "nbformat": 4,
 "nbformat_minor": 4
}
