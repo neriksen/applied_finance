{
 "cells": [
  {
   "cell_type": "code",
   "execution_count": 1,
   "metadata": {},
   "outputs": [],
   "source": [
    "import pandas as pd\n",
    "import matplotlib.pyplot as plt\n",
    "import numpy as np\n",
    "import datetime as dt\n",
    "import simulate\n",
    "import sharpe\n",
    "import seaborn as sns\n",
    "import calculate_return as cr\n",
    "pd.set_option('display.float_format', lambda x: '%.3f' % x)\n",
    "pd.set_option('display.max_rows', 1000)\n",
    "plt.style.use('seaborn')\n",
    "plt.rc('font', size=10)          # controls default text sizes\n",
    "plt.rc('axes', titlesize=16)     # fontsize of the axes title\n",
    "plt.rc('axes', labelsize=16)    # fontsize of the x and y labels\n",
    "plt.rc('xtick', labelsize=13)    # fontsize of the tick labels\n",
    "plt.rc('ytick', labelsize=13)    # fontsize of the tick labels\n",
    "plt.rc('legend', fontsize=13)    # legend fontsize\n",
    "plt.rc('figure', titlesize=13)  # fontsize of the figure title"
   ]
  },
  {
   "cell_type": "markdown",
   "metadata": {},
   "source": [
    "Fetching data"
   ]
  },
  {
   "cell_type": "code",
   "execution_count": 2,
   "metadata": {
    "collapsed": true,
    "jupyter": {
     "outputs_hidden": true
    },
    "tags": []
   },
   "outputs": [
    {
     "name": "stdout",
     "output_type": "stream",
     "text": [
      "warning: catastrophic wipeout\n",
      "warning: catastrophic wipeout\n",
      "warning: catastrophic wipeout\n",
      "warning: catastrophic wipeout\n",
      "warning: catastrophic wipeout\n",
      "warning: catastrophic wipeout\n",
      "warning: catastrophic wipeout\n",
      "warning: catastrophic wipeout\n",
      "warning: catastrophic wipeout\n",
      "warning: catastrophic wipeout\n",
      "warning: catastrophic wipeout\n",
      "warning: catastrophic wipeout\n",
      "warning: catastrophic wipeout\n",
      "warning: catastrophic wipeout\n",
      "warning: catastrophic wipeout\n",
      "warning: catastrophic wipeout\n",
      "warning: catastrophic wipeout\n",
      "warning: catastrophic wipeout\n",
      "warning: catastrophic wipeout\n",
      "warning: catastrophic wipeout\n",
      "warning: catastrophic wipeout\n",
      "warning: catastrophic wipeout\n",
      "warning: catastrophic wipeout\n",
      "warning: catastrophic wipeout\n",
      "warning: catastrophic wipeout\n",
      "warning: catastrophic wipeout\n",
      "warning: catastrophic wipeout\n",
      "warning: catastrophic wipeout\n",
      "warning: catastrophic wipeout\n",
      "warning: catastrophic wipeout\n",
      "warning: catastrophic wipeout\n",
      "warning: catastrophic wipeout\n",
      "warning: catastrophic wipeout\n",
      "warning: catastrophic wipeout\n",
      "warning: catastrophic wipeout\n",
      "warning: catastrophic wipeout\n",
      "warning: catastrophic wipeout\n",
      "warning: catastrophic wipeout\n",
      "warning: catastrophic wipeout\n",
      "warning: catastrophic wipeout\n",
      "warning: catastrophic wipeout\n",
      "warning: catastrophic wipeout\n",
      "warning: catastrophic wipeoutwarning: catastrophic wipeout\n",
      "\n",
      "warning: catastrophic wipeout\n",
      "warning: catastrophic wipeout\n",
      "warning: catastrophic wipeout\n",
      "warning: catastrophic wipeout\n",
      "warning: catastrophic wipeout\n",
      "warning: catastrophic wipeout\n",
      "warning: catastrophic wipeout\n",
      "warning: catastrophic wipeout\n",
      "warning: catastrophic wipeout\n",
      "warning: catastrophic wipeout\n",
      "warning: catastrophic wipeout\n",
      "warning: catastrophic wipeout\n",
      "warning: catastrophic wipeout\n",
      "warning: catastrophic wipeout\n",
      "warning: catastrophic wipeout\n",
      "warning: catastrophic wipeout\n",
      "warning: catastrophic wipeout\n",
      "warning: catastrophic wipeout\n",
      "warning: catastrophic wipeout\n",
      "warning: catastrophic wipeout\n",
      "warning: catastrophic wipeout\n",
      "warning: catastrophic wipeout\n",
      "warning: catastrophic wipeout\n",
      "warning: catastrophic wipeout\n",
      "warning: catastrophic wipeout\n",
      "warning: catastrophic wipeout\n",
      "warning: catastrophic wipeout\n",
      "warning: catastrophic wipeout\n",
      "warning: catastrophic wipeout\n",
      "warning: catastrophic wipeout\n",
      "warning: catastrophic wipeout\n",
      "warning: catastrophic wipeout\n",
      "warning: catastrophic wipeout\n",
      "warning: catastrophic wipeout\n",
      "warning: catastrophic wipeout\n",
      "warning: catastrophic wipeout\n",
      "warning: catastrophic wipeout\n",
      "warning: catastrophic wipeout\n",
      "warning: catastrophic wipeout\n",
      "warning: catastrophic wipeout\n",
      "warning: catastrophic wipeout\n",
      "warning: catastrophic wipeout\n",
      "warning: catastrophic wipeout\n",
      "warning: catastrophic wipeout\n",
      "warning: catastrophic wipeout\n",
      "warning: catastrophic wipeout\n",
      "warning: catastrophic wipeout\n",
      "warning: catastrophic wipeout\n",
      "warning: catastrophic wipeout\n",
      "warning: catastrophic wipeout\n",
      "warning: catastrophic wipeout\n",
      "warning: catastrophic wipeout\n",
      "warning: catastrophic wipeout\n",
      "warning: catastrophic wipeout\n",
      "warning: catastrophic wipeout\n",
      "warning: catastrophic wipeout\n",
      "warning: catastrophic wipeout\n",
      "warning: catastrophic wipeout\n",
      "warning: catastrophic wipeout\n",
      "warning: catastrophic wipeout\n",
      "warning: catastrophic wipeout\n",
      "warning: catastrophic wipeout\n",
      "warning: catastrophic wipeout\n",
      "warning: catastrophic wipeout\n",
      "warning: catastrophic wipeout\n",
      "warning: catastrophic wipeout\n",
      "warning: catastrophic wipeout\n",
      "warning: catastrophic wipeout\n"
     ]
    }
   ],
   "source": [
    "GARCH = cr.fetch_returns(sim_type = 'garch', random_seeds = range(10000))\n",
    "norm = cr.fetch_returns(sim_type = 'norm', random_seeds = range(10000))"
   ]
  },
  {
   "cell_type": "code",
   "execution_count": 3,
   "metadata": {
    "collapsed": true,
    "jupyter": {
     "outputs_hidden": true
    },
    "tags": []
   },
   "outputs": [
    {
     "name": "stdout",
     "output_type": "stream",
     "text": [
      "warning: catastrophic wipeout\n",
      "warning: catastrophic wipeout\n",
      "warning: catastrophic wipeout\n",
      "warning: catastrophic wipeout\n",
      "warning: catastrophic wipeout\n",
      "warning: catastrophic wipeout\n",
      "warning: catastrophic wipeout\n",
      "warning: catastrophic wipeout\n",
      "warning: catastrophic wipeout\n",
      "warning: catastrophic wipeout\n",
      "warning: catastrophic wipeout\n",
      "warning: catastrophic wipeout\n",
      "warning: catastrophic wipeout\n",
      "warning: catastrophic wipeout\n",
      "warning: catastrophic wipeout\n",
      "warning: catastrophic wipeout\n",
      "warning: catastrophic wipeout\n",
      "warning: catastrophic wipeout\n",
      "warning: catastrophic wipeout\n",
      "warning: catastrophic wipeout\n",
      "warning: catastrophic wipeout\n",
      "warning: catastrophic wipeout\n",
      "warning: catastrophic wipeout\n",
      "warning: catastrophic wipeout\n",
      "warning: catastrophic wipeout\n",
      "warning: catastrophic wipeout\n",
      "warning: catastrophic wipeout\n",
      "warning: catastrophic wipeout\n",
      "warning: catastrophic wipeout\n",
      "warning: catastrophic wipeout\n",
      "warning: catastrophic wipeout\n",
      "warning: catastrophic wipeout\n",
      "warning: catastrophic wipeout\n",
      "warning: catastrophic wipeout\n",
      "warning: catastrophic wipeout\n",
      "warning: catastrophic wipeout\n",
      "warning: catastrophic wipeout\n",
      "warning: catastrophic wipeout\n",
      "warning: catastrophic wipeout\n",
      "warning: catastrophic wipeout\n",
      "warning: catastrophic wipeout\n",
      "warning: catastrophic wipeout\n",
      "warning: catastrophic wipeout\n",
      "warning: catastrophic wipeout\n",
      "warning: catastrophic wipeout\n",
      "warning: catastrophic wipeout\n",
      "warning: catastrophic wipeout\n",
      "warning: catastrophic wipeout\n",
      "warning: catastrophic wipeout\n",
      "warning: catastrophic wipeout\n",
      "warning: catastrophic wipeout\n",
      "warning: catastrophic wipeout\n",
      "warning: catastrophic wipeout\n",
      "warning: catastrophic wipeout\n",
      "warning: catastrophic wipeout\n",
      "warning: catastrophic wipeout\n",
      "warning: catastrophic wipeout\n",
      "warning: catastrophic wipeout\n",
      "warning: catastrophic wipeout\n",
      "warning: catastrophic wipeout\n",
      "warning: catastrophic wipeout\n",
      "warning: catastrophic wipeout\n",
      "warning: catastrophic wipeout\n",
      "warning: catastrophic wipeout\n",
      "warning: catastrophic wipeout\n",
      "warning: catastrophic wipeout\n",
      "warning: catastrophic wipeout\n",
      "warning: catastrophic wipeout\n",
      "warning: catastrophic wipeout\n",
      "warning: catastrophic wipeout\n",
      "warning: catastrophic wipeout\n",
      "warning: catastrophic wipeout\n",
      "warning: catastrophic wipeout\n",
      "warning: catastrophic wipeout\n",
      "warning: catastrophic wipeout\n",
      "warning: catastrophic wipeout\n",
      "warning: catastrophic wipeout\n",
      "warning: catastrophic wipeout\n"
     ]
    }
   ],
   "source": [
    "t = cr.fetch_returns(sim_type = 't', random_seeds = range(10000))\n",
    "draw = cr.fetch_returns(sim_type = 'draw', random_seeds = range(10000))"
   ]
  },
  {
   "cell_type": "markdown",
   "metadata": {},
   "source": [
    "Combining data"
   ]
  },
  {
   "cell_type": "code",
   "execution_count": 4,
   "metadata": {},
   "outputs": [],
   "source": [
    "def variable(variable):\n",
    "    Data=GARCH[[variable]].rename(columns={variable:'GJR-GARCH(1,1)\\n (Baseline)'})\n",
    "    Data[\"Normal\"]=norm[variable]\n",
    "    Data[\"Student's t\"]=t[variable]\n",
    "    Data[\"Draws\"]=draw[variable]\n",
    "    return Data"
   ]
  },
  {
   "cell_type": "markdown",
   "metadata": {},
   "source": [
    "Plotting figure"
   ]
  },
  {
   "cell_type": "code",
   "execution_count": 7,
   "metadata": {},
   "outputs": [
    {
     "data": {
      "image/png": "[encoded data removed]",
      "text/plain": [
       "<Figure size 576x576 with 1 Axes>"
      ]
     },
     "metadata": {},
     "output_type": "display_data"
    }
   ],
   "source": [
    "Data = variable(\"single_phase\")\n",
    "x = Data.loc[(slice(None), '2070-01-01'),:]\n",
    "x = pd.melt(x)\n",
    "x['value'] = x['value'].div(1000000) #Convert into millions\n",
    "f, ax = plt.subplots(figsize=(8, 8))\n",
    "ax = sns.boxplot(x='variable',y='value',data=x,showfliers = False,linewidth=2.5)\n",
    "ax.set_ylabel(\"DKKm\", rotation=0, loc='top', labelpad=-68)\n",
    "plt.xlabel(\"\")\n",
    "plt.ylim(-0.75,11)\n",
    "plt.ticklabel_format(style='plain', axis='y',useOffset=True)\n",
    "plt.savefig(\"Robustness/boxplot_SIM_S.png\", bbox_inches = 'tight', pad_inches = 0.1, dpi=192)"
   ]
  },
  {
   "cell_type": "code",
   "execution_count": 8,
   "metadata": {},
   "outputs": [
    {
     "data": {
      "image/png": "[encoded data removed]",
      "text/plain": [
       "<Figure size 576x576 with 1 Axes>"
      ]
     },
     "metadata": {},
     "output_type": "display_data"
    }
   ],
   "source": [
    "Data = variable(\"dual_phase\")\n",
    "x = Data.loc[(slice(None), '2070-01-01'),:]\n",
    "x = pd.melt(x)\n",
    "x['value'] = x['value'].div(1000000) #Convert into millions\n",
    "f, ax = plt.subplots(figsize=(8, 8))\n",
    "ax = sns.boxplot(x='variable',y='value',data=x,showfliers = False,linewidth=2.5)\n",
    "ax.set_ylabel(\"DKKm\", rotation=0, loc='top', labelpad=-68)\n",
    "plt.xlabel(\"\")\n",
    "plt.ylim(-0.75,11)\n",
    "plt.ticklabel_format(style='plain', axis='y',useOffset=True)\n",
    "plt.savefig(\"Robustness/boxplot_SIM_D.png\", bbox_inches = 'tight', pad_inches = 0.1, dpi=192)"
   ]
  },
  {
   "cell_type": "markdown",
   "metadata": {},
   "source": [
    "Defaults per strategy"
   ]
  },
  {
   "cell_type": "code",
   "execution_count": 5,
   "metadata": {},
   "outputs": [
    {
     "name": "stdout",
     "output_type": "stream",
     "text": [
      "112\n",
      "78\n",
      "0\n",
      "0\n"
     ]
    }
   ],
   "source": [
    "GARCH_defaulted = GARCH.loc[(slice(None), '2070-01-01'),:]\n",
    "GARCH_defaulted = GARCH_defaulted[GARCH_defaulted['tv_u'] <= 0].reset_index()#.sample(n=5)\n",
    "defaulted_GARCH=GARCH_defaulted['random_state'].tolist()\n",
    "\n",
    "t_defaulted = t.loc[(slice(None), '2070-01-01'),:]\n",
    "t_defaulted = t_defaulted[t_defaulted['tv_u'] <= 0].reset_index()#.sample(n=5)\n",
    "defaulted_t=t_defaulted['random_state'].tolist()\n",
    "\n",
    "norm_defaulted = norm.loc[(slice(None), '2070-01-01'),:]\n",
    "norm_defaulted = norm_defaulted[norm_defaulted['tv_u'] <= 0].reset_index()#.sample(n=5)\n",
    "defaulted_norm=norm_defaulted['random_state'].tolist()\n",
    "\n",
    "draw_defaulted = draw.loc[(slice(None), '2070-01-01'),:]\n",
    "draw_defaulted = draw_defaulted[draw_defaulted['tv_u'] <= 0].reset_index()#.sample(n=5)\n",
    "defaulted_draw=draw_defaulted['random_state'].tolist()\n",
    "#print number of defaults\n",
    "print(len(defaulted_GARCH))\n",
    "print(len(defaulted_t))\n",
    "print(len(defaulted_norm))\n",
    "print(len(defaulted_draw))"
   ]
  },
  {
   "cell_type": "code",
   "execution_count": 7,
   "metadata": {},
   "outputs": [
    {
     "name": "stdout",
     "output_type": "stream",
     "text": [
      "0.006124951207506208\n",
      "0.00651876230908018\n",
      "0.006274889207486074\n",
      "0.006224014091965755\n"
     ]
    }
   ],
   "source": [
    "print(t[\"market_returns\"].mean())\n",
    "print(GARCH[\"market_returns\"].mean())\n",
    "print(norm[\"market_returns\"].mean())\n",
    "print(draw[\"market_returns\"].mean())"
   ]
  },
  {
   "cell_type": "markdown",
   "metadata": {},
   "source": [
    "Certainty Equivalent"
   ]
  },
  {
   "cell_type": "code",
   "execution_count": 9,
   "metadata": {},
   "outputs": [
    {
     "data": {
      "text/html": [
       "<div>\n",
       "<style scoped>\n",
       "    .dataframe tbody tr th:only-of-type {\n",
       "        vertical-align: middle;\n",
       "    }\n",
       "\n",
       "    .dataframe tbody tr th {\n",
       "        vertical-align: top;\n",
       "    }\n",
       "\n",
       "    .dataframe thead th {\n",
       "        text-align: right;\n",
       "    }\n",
       "</style>\n",
       "<table border=\"1\" class=\"dataframe\">\n",
       "  <thead>\n",
       "    <tr style=\"text-align: right;\">\n",
       "      <th></th>\n",
       "      <th>dual_phase</th>\n",
       "      <th>single_phase</th>\n",
       "      <th>100</th>\n",
       "      <th>9050</th>\n",
       "    </tr>\n",
       "  </thead>\n",
       "  <tbody>\n",
       "    <tr>\n",
       "      <th>Certainty Equivalent</th>\n",
       "      <td>47.676</td>\n",
       "      <td>43.692</td>\n",
       "      <td>36.711</td>\n",
       "      <td>24.941</td>\n",
       "    </tr>\n",
       "  </tbody>\n",
       "</table>\n",
       "</div>"
      ],
      "text/plain": [
       "                      dual_phase  single_phase    100   9050\n",
       "Certainty Equivalent      47.676        43.692 36.711 24.941"
      ]
     },
     "execution_count": 9,
     "metadata": {},
     "output_type": "execute_result"
    }
   ],
   "source": [
    "#sharpe.CE_ports(t,risk_premium=True)\n",
    "#sharpe.CE_ports(GARCH,risk_premium=True)\n",
    "#sharpe.CE_ports(norm,risk_premium=True)\n",
    "sharpe.CE_ports(draw,risk_premium=True)"
   ]
  },
  {
   "cell_type": "markdown",
   "metadata": {},
   "source": [
    "Sharpe Ratio"
   ]
  },
  {
   "cell_type": "code",
   "execution_count": 4,
   "metadata": {},
   "outputs": [],
   "source": [
    "sharpe2 = sharpe.calculate_sharpe(t)\n",
    "sharpe3 = sharpe.calculate_sharpe(GARCH)\n",
    "sharpe4 = sharpe.calculate_sharpe(norm)\n",
    "sharpe5 = sharpe.calculate_sharpe(draw)"
   ]
  },
  {
   "cell_type": "code",
   "execution_count": 6,
   "metadata": {},
   "outputs": [
    {
     "name": "stdout",
     "output_type": "stream",
     "text": [
      "Dual phase     0.090\n",
      "Single phase   0.090\n",
      "100% stocks    0.088\n",
      "Life cycle     0.092\n",
      "dtype: float64\n",
      "Dual phase     0.064\n",
      "Single phase   0.064\n",
      "100% stocks    0.076\n",
      "Life cycle     0.078\n",
      "dtype: float64\n",
      "Dual phase     0.049\n",
      "Single phase   0.048\n",
      "100% stocks    0.068\n",
      "Life cycle     0.070\n",
      "dtype: float64\n",
      "Dual phase     0.051\n",
      "Single phase   0.050\n",
      "100% stocks    0.069\n",
      "Life cycle     0.070\n",
      "dtype: float64\n"
     ]
    }
   ],
   "source": [
    "print(sharpe3.std())\n",
    "print(sharpe2.std())\n",
    "print(sharpe4.std())\n",
    "print(sharpe5.std())"
   ]
  },
  {
   "cell_type": "code",
   "execution_count": 10,
   "metadata": {},
   "outputs": [],
   "source": [
    "mean_median_2 = [f'{x:.3f}' + \" \" f'[{y:.3f}]' for x, y in zip(sharpe2.mean(), sharpe2.median())]\n",
    "mean_median_3 = [f'{x:.3f}' + \" \" f'[{y:.3f}]' for x, y in zip(sharpe3.mean(), sharpe3.median())]\n",
    "mean_median_4 = [f'{x:.3f}' + \" \" f'[{y:.3f}]' for x, y in zip(sharpe4.mean(), sharpe4.median())]\n",
    "mean_median_5 = [f'{x:.3f}' + \" \" f'[{y:.3f}]' for x, y in zip(sharpe5.mean(), sharpe5.median())]"
   ]
  },
  {
   "cell_type": "code",
   "execution_count": 11,
   "metadata": {},
   "outputs": [
    {
     "name": "stdout",
     "output_type": "stream",
     "text": [
      "['0.223 [0.249]', '0.222 [0.248]', '0.200 [0.199]', '0.194 [0.191]']\n",
      "['0.158 [0.210]', '0.157 [0.210]', '0.208 [0.208]', '0.193 [0.192]']\n",
      "['0.239 [0.245]', '0.237 [0.244]', '0.203 [0.202]', '0.199 [0.197]']\n",
      "['0.241 [0.253]', '0.239 [0.251]', '0.204 [0.202]', '0.199 [0.196]']\n"
     ]
    }
   ],
   "source": [
    "print(mean_median_2)\n",
    "print(mean_median_3)\n",
    "print(mean_median_4)\n",
    "print(mean_median_5)\n"
   ]
  },
  {
   "cell_type": "code",
   "execution_count": null,
   "metadata": {},
   "outputs": [],
   "source": []
  }
 ],
 "metadata": {
  "kernelspec": {
   "display_name": "Python 3",
   "language": "python",
   "name": "python3"
  },
  "language_info": {
   "codemirror_mode": {
    "name": "ipython",
    "version": 3
   },
   "file_extension": ".py",
   "mimetype": "text/x-python",
   "name": "python",
   "nbconvert_exporter": "python",
   "pygments_lexer": "ipython3",
   "version": "3.7.0"
  }
 },
 "nbformat": 4,
 "nbformat_minor": 4
}
